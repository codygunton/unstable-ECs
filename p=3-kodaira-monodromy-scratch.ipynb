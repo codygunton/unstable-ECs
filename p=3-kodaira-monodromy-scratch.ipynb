{
 "cells": [
  {
   "cell_type": "code",
   "execution_count": 3,
   "metadata": {},
   "outputs": [],
   "source": [
    "import time\n",
    "load(\"kraus_tables.sage\")\n",
    "DB = CremonaDatabase(); DB\n",
    "p = 3\n",
    "kraus = kraus_table_Q3"
   ]
  },
  {
   "cell_type": "code",
   "execution_count": 4,
   "metadata": {},
   "outputs": [],
   "source": [
    "objfile = os.path.join('./', '3-ktype_mtype_data.sobj')\n",
    "# save(label_type_tuples, objfile)\n",
    "label_type_tuples = load(objfile)  # format: (cremona label (string), Kodaira type (Sage custom type), integer)"
   ]
  },
  {
   "cell_type": "code",
   "execution_count": 6,
   "metadata": {},
   "outputs": [
    {
     "data": {
      "text/plain": [
       "[('36a1', III, 4),\n",
       " ('36a2', III, 4),\n",
       " ('36a3', III*, 4),\n",
       " ('36a4', III*, 4),\n",
       " ('54a1', IV*, 12),\n",
       " ('54a2', II*, 12),\n",
       " ('54a3', II, 12),\n",
       " ('54b1', II, 12),\n",
       " ('54b2', IV*, 12),\n",
       " ('54b3', IV, 12)]"
      ]
     },
     "execution_count": 6,
     "metadata": {},
     "output_type": "execute_result"
    }
   ],
   "source": [
    "# scratch\n",
    "label_type_tuples[0:10]"
   ]
  },
  {
   "cell_type": "code",
   "execution_count": 7,
   "metadata": {},
   "outputs": [],
   "source": [
    "objfile = os.path.join('./', '3-ktype_mtype_first_examples.sobj')\n",
    "# save(first_examples, objfile)\n",
    "first_examples = load(objfile)"
   ]
  },
  {
   "cell_type": "code",
   "execution_count": 8,
   "metadata": {},
   "outputs": [
    {
     "data": {
      "text/plain": [
       "{2: [I0*],\n",
       " 3: [II, II*],\n",
       " 4: [III, III*],\n",
       " 6: [IV, IV*],\n",
       " 8: [],\n",
       " 12: [IV*, II*, II, IV],\n",
       " 24: []}"
      ]
     },
     "execution_count": 8,
     "metadata": {},
     "output_type": "execute_result"
    }
   ],
   "source": [
    "ktype_given_mtype = dict.fromkeys([2, 3, 4, 6, 8, 12, 24], [])\n",
    "for (_, ktype, mtype) in label_type_tuples:\n",
    "    if ktype not in ktype_given_mtype[mtype]:\n",
    "        ktype_given_mtype[mtype] = ktype_given_mtype[mtype] + [ktype]\n",
    "ktype_given_mtype"
   ]
  },
  {
   "cell_type": "code",
   "execution_count": 9,
   "metadata": {},
   "outputs": [
    {
     "data": {
      "text/plain": [
       "[('36a1', III, 4),\n",
       " ('36a3', III*, 4),\n",
       " ('54a1', IV*, 12),\n",
       " ('54a2', II*, 12),\n",
       " ('54a3', II, 12),\n",
       " ('54b3', IV, 12),\n",
       " ('126a1', I0*, 2),\n",
       " ('162a1', IV, 6),\n",
       " ('162a2', IV*, 6),\n",
       " ('162b1', II, 3),\n",
       " ('162b2', II*, 3)]"
      ]
     },
     "execution_count": 9,
     "metadata": {},
     "output_type": "execute_result"
    }
   ],
   "source": [
    "first_examples"
   ]
  },
  {
   "cell_type": "code",
   "execution_count": 10,
   "metadata": {},
   "outputs": [
    {
     "data": {
      "text/plain": [
       "Elliptic Curve defined by y^2 + x*y + y = x^3 - x^2 - 5*x + 5 over Rational Field"
      ]
     },
     "execution_count": 10,
     "metadata": {},
     "output_type": "execute_result"
    }
   ],
   "source": [
    "E = EllipticCurve('162b1'); E"
   ]
  },
  {
   "cell_type": "code",
   "execution_count": 11,
   "metadata": {},
   "outputs": [
    {
     "data": {
      "text/plain": [
       "3"
      ]
     },
     "execution_count": 11,
     "metadata": {},
     "output_type": "execute_result"
    }
   ],
   "source": [
    "kraus(E)"
   ]
  },
  {
   "cell_type": "code",
   "execution_count": null,
   "metadata": {},
   "outputs": [],
   "source": [
    "## attempt to compute monodromy order by another method leads to stack overflow after a few (couple?) hours\n",
    "#t0 = time.time()\n",
    "#E = EllipticCurve('162b1'); print(E)\n",
    "#print(E.local_data(3))\n",
    "#print(E.c4())\n",
    "#F.<b> = E.division_field(5); print(F)\n",
    "#pp = F.prime_above(3); print(pp.ramification_index())\n",
    "#t1 = time.time()\n",
    "#print(\"time: {}\".format(t1-t0))"
   ]
  },
  {
   "cell_type": "code",
   "execution_count": null,
   "metadata": {},
   "outputs": [],
   "source": []
  },
  {
   "cell_type": "code",
   "execution_count": 10,
   "metadata": {},
   "outputs": [],
   "source": [
    "## PASTED FROM p=2 WORKSHEET\n",
    "\n",
    "# remarks:\n",
    "# McCallum proves exponent of inertial monodromy kills component group\n",
    "# exponents: 2, 3, 4, 6, 12, |-> 2, 3, 4, 6, 4, 12\n",
    "#\n",
    "# for C_2, the possible component group are: 0, C_2, C_2 x C_2,\n",
    "#        but we don't see C_2\n",
    "# note: in this case, see case monodromy group smaller than component group\n",
    "# note: I think Dokchitser paper shows this is the only situation where potentially ordinary\n",
    "#       reduction is possible.\n",
    "#\n",
    "# for C_3, possibilities are 0 and C_3, \n",
    "#        but we don't see 0\n",
    "#\n",
    "# for C_4, possibilities are 0, C_2, C_4, C_2 x C_2,\n",
    "#        but we ONLY see one of these, C_2\n",
    "#\n",
    "# for C_6, possibilities are 0, C_2, C_3, C_2 x C_2,\n",
    "#        but we don't see C_2 or C_3\n",
    "# note: C_2 x C_2 is not a subquotient of C_6\n",
    "# note: Dokchitsers show this is potentially supersingular\n",
    "#\n",
    "# for Q_8, the possiblities are 0, C_2, C_4, C_2 x C_2, and we see all of these\n",
    "# \n",
    "# for SL_2(F_3), the possiblities are 0, C_2, C_4, C_2 x C_2, and we see all of these"
   ]
  },
  {
   "cell_type": "code",
   "execution_count": 69,
   "metadata": {},
   "outputs": [],
   "source": [
    "##########\n",
    "## computing size of automorphism groups of first examples\n",
    "##########"
   ]
  },
  {
   "cell_type": "code",
   "execution_count": 16,
   "metadata": {},
   "outputs": [
    {
     "name": "stdout",
     "output_type": "stream",
     "text": [
      " 36a1 $ III $ 4 12 \\\\\n",
      "36a3 $ III^{*} $ 4 12 \\\\\n",
      "54a1 $ IV^{*} $ 12 12 \\\\\n",
      "54a2 $ II^{*} $ 12 12 \\\\\n",
      "54a3 $ II $ 12 12 \\\\\n",
      "54b3 $ IV $ 12 12 \\\\\n",
      "126a1 $ I_0^{*} $ 2 2 \\\\\n",
      "162a1 $ IV $ 6 12 \\\\\n",
      "162a2 $ IV^{*} $ 6 12 \\\\\n",
      "162b1 $ II $ 3 12 \\\\\n",
      "162b2 $ II^{*} $ 3 12 \\\\\n"
     ]
    }
   ],
   "source": [
    "# by Silverman Theorem 10.1: \n",
    "# Aut of generic fiber is always C_2\n",
    "# Aut of the special fiber is C_2 iff 3 \\nmid j, otherwise is order 12 (it is the dicyclic group)\n",
    "# We see that, in our list of examples (must look at more, not just first occurances), \n",
    "helper = {0:12, 1:2, 2:2}\n",
    "for (label, ktype, mtype) in first_examples:\n",
    "    E = EllipticCurve(label)\n",
    "    j = E.j_invariant()\n",
    "    print label, \"$\", latex(ktype),\"$\", mtype, helper[mod(j,3)] , \"\\\\\\\\\""
   ]
  },
  {
   "cell_type": "code",
   "execution_count": 29,
   "metadata": {},
   "outputs": [],
   "source": [
    "def ktype_to_cgroup_order(ktype):\n",
    "    s = str(ktype)\n",
    "    if ktype in [KodairaSymbol(\"I0\"), KodairaSymbol(\"I1\"), KodairaSymbol(\"II\"), KodairaSymbol(\"II*\")]:\n",
    "        return 1\n",
    "    elif ktype in [KodairaSymbol(\"III\"), KodairaSymbol(\"III*\")]:\n",
    "        return 2\n",
    "    elif ktype in [KodairaSymbol(\"IV\"), KodairaSymbol(\"IV*\")]:\n",
    "        return 3\n",
    "    elif s[-1] == '*':   #I_n^* cases (anticipating group output in another function)\n",
    "        n = int(s[1:-1])\n",
    "        if n%2 == 0:\n",
    "            return 4\n",
    "        else:\n",
    "            return 4\n",
    "    else:                # we are in case I_n\n",
    "        n = int(s[1:])\n",
    "        return n\n",
    "\n",
    "def ktype_to_cgroup(ktype):\n",
    "    s = str(ktype)\n",
    "    if ktype in [KodairaSymbol(\"I0\"), KodairaSymbol(\"I1\"), KodairaSymbol(\"II\"), KodairaSymbol(\"II*\")]:\n",
    "        return CyclicPermutationGroup(1)\n",
    "    elif ktype in [KodairaSymbol(\"III\"), KodairaSymbol(\"III*\")]:\n",
    "        return CyclicPermutationGroup(2)\n",
    "    elif ktype in [KodairaSymbol(\"IV\"), KodairaSymbol(\"IV*\")]:\n",
    "        return CyclicPermutationGroup(3)\n",
    "    elif s[-1] == '*':   #I_n^* cases (anticipating group output in another function)\n",
    "        n = int(s[1:-1])\n",
    "        if n%2 == 0:\n",
    "            return KleinFourGroup()\n",
    "        else:\n",
    "            return CyclicPermutationGroup(4)\n",
    "    else:                # we are in case I_n\n",
    "        n = int(s[1:])\n",
    "        return CyclicPermutationGroup(n)\n",
    "\n",
    "def ktype_to_cgroup_gid(ktype):\n",
    "    s = str(ktype)\n",
    "    if ktype in [KodairaSymbol(\"I0\"), KodairaSymbol(\"I1\"), KodairaSymbol(\"II\"), KodairaSymbol(\"II*\")]:\n",
    "        return [1,1]\n",
    "    elif ktype in [KodairaSymbol(\"III\"), KodairaSymbol(\"III*\")]:\n",
    "        return [2,1]\n",
    "    elif ktype in [KodairaSymbol(\"IV\"), KodairaSymbol(\"IV*\")]:\n",
    "        return [3,1]\n",
    "    elif s[-1] == '*':   #I_n^* cases (anticipating group output in another function)\n",
    "        n = int(s[1:-1])\n",
    "        if n%2 == 0:\n",
    "            return [4,2]\n",
    "        else:\n",
    "            return [4,1]\n",
    "    else:                # we are in case I_n\n",
    "        n = int(s[1:])\n",
    "        return [n,1]\n",
    "    \n",
    "## to get useful name, use gap.StructureDescription \n",
    "\n",
    "\n",
    "def ktype_to_stab_index(ktype):\n",
    "    s = str(ktype)\n",
    "    if ktype in [KodairaSymbol(\"II\"), KodairaSymbol(\"II*\")]:\n",
    "        return 6\n",
    "    elif ktype in [KodairaSymbol(\"III\"), KodairaSymbol(\"III*\")]:\n",
    "        return 4\n",
    "    elif ktype in [KodairaSymbol(\"IV\"), KodairaSymbol(\"IV*\")]:\n",
    "        return 3\n",
    "    elif s[-1] == '*':   #I_n^* cases (anticipating group output in another function)\n",
    "        return 2\n",
    "    else:                # we are in case I_n\n",
    "        raise ValueError(\"Kodaira type conversion to stabilization index not implemented.\")"
   ]
  },
  {
   "cell_type": "code",
   "execution_count": null,
   "metadata": {},
   "outputs": [],
   "source": []
  },
  {
   "cell_type": "code",
   "execution_count": 23,
   "metadata": {},
   "outputs": [
    {
     "data": {
      "text/plain": [
       "[('36a1', III, 4), ('36a3', III*, 4)]"
      ]
     },
     "execution_count": 23,
     "metadata": {},
     "output_type": "execute_result"
    }
   ],
   "source": [
    "# which curves have CM?\n",
    "filter(lambda t: EllipticCurve(t[0]).has_cm(), first_examples)"
   ]
  },
  {
   "cell_type": "code",
   "execution_count": 24,
   "metadata": {},
   "outputs": [
    {
     "data": {
      "text/plain": [
       "[('36a1', III, 4), ('36a3', III*, 4)]"
      ]
     },
     "execution_count": 24,
     "metadata": {},
     "output_type": "execute_result"
    }
   ],
   "source": [
    "filter(lambda t: t[2]==4, first_examples)"
   ]
  },
  {
   "cell_type": "code",
   "execution_count": 26,
   "metadata": {},
   "outputs": [
    {
     "name": "stdout",
     "output_type": "stream",
     "text": [
      "Local data at Fractional ideal (b):\n",
      "Reduction type: good\n",
      "Local minimal model: Elliptic Curve defined by y^2 + b*x*y + b*y = x^3 + (-1)*x^2 + (-2)*x + (-1) over Number Field in b with defining polynomial x^2 - 3\n",
      "Minimal discriminant valuation: 0\n",
      "Conductor exponent: 0\n",
      "Kodaira Symbol: I0\n",
      "Tamagawa Number: 1\n"
     ]
    },
    {
     "data": {
      "text/plain": [
       "'Base change has ordinary reduction: True'"
      ]
     },
     "execution_count": 26,
     "metadata": {},
     "output_type": "execute_result"
    }
   ],
   "source": [
    "# is there a potentially ordinary curve?\n",
    "E = EllipticCurve('126a1')\n",
    "K1.<b> = NumberField(x^2-3)\n",
    "EK1 = E.base_extend(K1)\n",
    "pp1 = K1.prime_above(p)\n",
    "print(EK1.local_data(pp1))\n",
    "Ekappa1 = EK1.reduction(pp1); \n",
    "\"Base change has ordinary reduction: {}\".format(Ekappa1.is_ordinary())"
   ]
  },
  {
   "cell_type": "code",
   "execution_count": 27,
   "metadata": {},
   "outputs": [
    {
     "name": "stdout",
     "output_type": "stream",
     "text": [
      "Local data at Fractional ideal (3, 1/360*b^5 - 41/120*b):\n",
      "Reduction type: bad additive\n",
      "Local minimal model: Elliptic Curve defined by y^2 + (-1/900*b^6+1/144*b^4+11/300*b^2+7/48)*x*y + (1/72*b^4+7/24)*y = x^3 + (-1/1200*b^6-39/400*b^2-1/2)*x^2 + (1/1200*b^6+39/400*b^2-1/2)*x + 1 over Number Field in b with defining polynomial x^8 + 42*x^4 + 5625\n",
      "Minimal discriminant valuation: 12\n",
      "Conductor exponent: 6\n",
      "Kodaira Symbol: IV*\n",
      "Tamagawa Number: 3\n",
      "\n",
      "Local data at Fractional ideal (3, 1/360*b^5 - 41/120*b):\n",
      "Reduction type: bad additive\n",
      "Local minimal model: Elliptic Curve defined by y^2 + (1/360*b^5-41/120*b)*x*y + (1/180*b^5+19/60*b)*y = x^3 + (1/1200*b^6+39/400*b^2-9/2)*x + (1/150*b^6-11/50*b^2) over Number Field in b with defining polynomial x^8 + 42*x^4 + 5625\n",
      "Minimal discriminant valuation: 8\n",
      "Conductor exponent: 6\n",
      "Kodaira Symbol: IV\n",
      "Tamagawa Number: 3\n",
      "\n",
      "Local data at Fractional ideal (3, 1/360*b^5 - 41/120*b):\n",
      "Reduction type: bad additive\n",
      "Local minimal model: Elliptic Curve defined by y^2 + x*y = x^3 + (-1)*x^2 + (-3)*x + 3 over Number Field in b with defining polynomial x^8 + 42*x^4 + 5625\n",
      "Minimal discriminant valuation: 12\n",
      "Conductor exponent: 6\n",
      "Kodaira Symbol: IV*\n",
      "Tamagawa Number: 3\n",
      "\n",
      "Local data at Fractional ideal (3, 1/360*b^5 - 41/120*b):\n",
      "Reduction type: bad additive\n",
      "Local minimal model: Elliptic Curve defined by y^2 + (11/18000*b^7+1/360*b^5+29/6000*b^3+19/120*b)*x*y + (1/360*b^5-41/120*b)*y = x^3 + (1/240*b^6+39/80*b^2+3/2)*x + (-1/150*b^6+11/50*b^2) over Number Field in b with defining polynomial x^8 + 42*x^4 + 5625\n",
      "Minimal discriminant valuation: 8\n",
      "Conductor exponent: 6\n",
      "Kodaira Symbol: IV\n",
      "Tamagawa Number: 3\n",
      "\n"
     ]
    }
   ],
   "source": [
    "# do the Dicy12 curves become type II after tame base change (the only C3 curves I see are II/II*)\n",
    "# answer: No.\n",
    "L = ['54a1','54a2', '54a3', '54b3']\n",
    "for label in L:\n",
    "    E = EllipticCurve(label)\n",
    "    K1.<b> = NumberField(x^4-p)\n",
    "    K1.<b> = K1.galois_closure()\n",
    "    EK1 = E.base_extend(K1)\n",
    "    pp1 = K1.prime_above(p)\n",
    "    print(EK1.local_data(pp1))\n",
    "    print('')"
   ]
  },
  {
   "cell_type": "code",
   "execution_count": null,
   "metadata": {},
   "outputs": [],
   "source": []
  },
  {
   "cell_type": "code",
   "execution_count": 26,
   "metadata": {},
   "outputs": [
    {
     "name": "stdout",
     "output_type": "stream",
     "text": [
      "Local data at Fractional ideal (b):\n",
      "Reduction type: bad additive\n",
      "Local minimal model: Elliptic Curve defined by y^2 + x*y = x^3 + (-1)*x^2 + (-3)*x + 3 over Number Field in b with defining polynomial x^2 - 3\n",
      "Minimal discriminant valuation: 6\n",
      "Conductor exponent: 4\n",
      "Kodaira Symbol: IV\n",
      "Tamagawa Number: 3\n",
      "()\n",
      "Local data at Fractional ideal (b):\n",
      "Reduction type: bad additive\n",
      "Local minimal model: Elliptic Curve defined by y^2 + b*x*y + b*y = x^3 + (-15)*x + (-30) over Number Field in b with defining polynomial x^2 - 3\n",
      "Minimal discriminant valuation: 10\n",
      "Conductor exponent: 4\n",
      "Kodaira Symbol: IV*\n",
      "Tamagawa Number: 1\n",
      "()\n",
      "Local data at Fractional ideal (b):\n",
      "Reduction type: bad additive\n",
      "Local minimal model: Elliptic Curve defined by y^2 + x*y = x^3 + (-1)*x^2 + (-3)*x + 3 over Number Field in b with defining polynomial x^2 - 3\n",
      "Minimal discriminant valuation: 6\n",
      "Conductor exponent: 4\n",
      "Kodaira Symbol: IV\n",
      "Tamagawa Number: 3\n",
      "()\n",
      "Local data at Fractional ideal (b):\n",
      "Reduction type: bad additive\n",
      "Local minimal model: Elliptic Curve defined by y^2 + x*y + y = x^3 + (-1)*x^2 + (-14)*x + 29 over Number Field in b with defining polynomial x^2 - 3\n",
      "Minimal discriminant valuation: 10\n",
      "Conductor exponent: 4\n",
      "Kodaira Symbol: IV*\n",
      "Tamagawa Number: 3\n",
      "()\n"
     ]
    }
   ],
   "source": [
    "# do the IV/IV* type-12 curves become type 3 after quadratic base change? Yes.\n",
    "L = ['54a3','54a2']\n",
    "for label in L:\n",
    "    E = EllipticCurve(label)\n",
    "    K1.<b> = QuadraticField(p)\n",
    "    EK1 = E.base_extend(K1)\n",
    "    pp1 = K1.prime_above(p)\n",
    "    print(EK1.local_data(pp1))\n",
    "    print()"
   ]
  },
  {
   "cell_type": "code",
   "execution_count": 33,
   "metadata": {},
   "outputs": [
    {
     "name": "stdout",
     "output_type": "stream",
     "text": [
      "label      f    M  Kod      stab  Phi        Tam    Aut  CM?\n",
      "-------  ---  ---  -----  ------  -------  -----  -----  -----\n",
      "36a1       2    4  III         4  C2           2     24  True\n",
      "36a3       2    4  III*        4  C2           2     24  True\n",
      "54a1       3   12  IV*         3  C3           3     24  False\n",
      "54a2       3   12  II*         6  1            1     24  False\n",
      "54a3       3   12  II          6  1            1     24  False\n",
      "54b3       3   12  IV          3  C3           3     24  False\n",
      "126a1      2    2  I0*         2  C2 x C2      2      2  False\n",
      "162a1      4    6  IV          3  C3           3     24  False\n",
      "162a2      4    6  IV*         3  C3           3     24  False\n",
      "162b1      4    3  II          6  1            1     24  False\n",
      "162b2      4    3  II*         6  1            1     24  False\n",
      "\\begin{array}{l}\n",
      "\\text{\\texttt{label{ }{ }{ }{ }{ }{ }f{ }{ }{ }{ }M{ }{ }Kod{ }{ }{ }{ }{ }{ }stab{ }{ }Phi{ }{ }{ }{ }{ }{ }{ }{ }Tam{ }{ }{ }{ }Aut{ }{ }CM?}}\\\\\n",
      "\\text{\\texttt{{-}{-}{-}{-}{-}{-}{-}{ }{ }{-}{-}{-}{ }{ }{-}{-}{-}{ }{ }{-}{-}{-}{-}{-}{ }{ }{-}{-}{-}{-}{-}{-}{ }{ }{-}{-}{-}{-}{-}{-}{-}{ }{ }{-}{-}{-}{-}{-}{ }{ }{-}{-}{-}{-}{-}{ }{ }{-}{-}{-}{-}{-}}}\\\\\n",
      "\\text{\\texttt{36a1{ }{ }{ }{ }{ }{ }{ }2{ }{ }{ }{ }4{ }{ }III{ }{ }{ }{ }{ }{ }{ }{ }{ }4{ }{ }C2{ }{ }{ }{ }{ }{ }{ }{ }{ }{ }{ }2{ }{ }{ }{ }{ }24{ }{ }True}}\\\\\n",
      "\\text{\\texttt{36a3{ }{ }{ }{ }{ }{ }{ }2{ }{ }{ }{ }4{ }{ }III*{ }{ }{ }{ }{ }{ }{ }{ }4{ }{ }C2{ }{ }{ }{ }{ }{ }{ }{ }{ }{ }{ }2{ }{ }{ }{ }{ }24{ }{ }True}}\\\\\n",
      "\\text{\\texttt{54a1{ }{ }{ }{ }{ }{ }{ }3{ }{ }{ }12{ }{ }IV*{ }{ }{ }{ }{ }{ }{ }{ }{ }3{ }{ }C3{ }{ }{ }{ }{ }{ }{ }{ }{ }{ }{ }3{ }{ }{ }{ }{ }24{ }{ }False}}\\\\\n",
      "\\text{\\texttt{54a2{ }{ }{ }{ }{ }{ }{ }3{ }{ }{ }12{ }{ }II*{ }{ }{ }{ }{ }{ }{ }{ }{ }6{ }{ }1{ }{ }{ }{ }{ }{ }{ }{ }{ }{ }{ }{ }1{ }{ }{ }{ }{ }24{ }{ }False}}\\\\\n",
      "\\text{\\texttt{54a3{ }{ }{ }{ }{ }{ }{ }3{ }{ }{ }12{ }{ }II{ }{ }{ }{ }{ }{ }{ }{ }{ }{ }6{ }{ }1{ }{ }{ }{ }{ }{ }{ }{ }{ }{ }{ }{ }1{ }{ }{ }{ }{ }24{ }{ }False}}\\\\\n",
      "\\text{\\texttt{54b3{ }{ }{ }{ }{ }{ }{ }3{ }{ }{ }12{ }{ }IV{ }{ }{ }{ }{ }{ }{ }{ }{ }{ }3{ }{ }C3{ }{ }{ }{ }{ }{ }{ }{ }{ }{ }{ }3{ }{ }{ }{ }{ }24{ }{ }False}}\\\\\n",
      "\\text{\\texttt{126a1{ }{ }{ }{ }{ }{ }2{ }{ }{ }{ }2{ }{ }I0*{ }{ }{ }{ }{ }{ }{ }{ }{ }2{ }{ }C2{ }x{ }C2{ }{ }{ }{ }{ }{ }2{ }{ }{ }{ }{ }{ }2{ }{ }False}}\\\\\n",
      "\\text{\\texttt{162a1{ }{ }{ }{ }{ }{ }4{ }{ }{ }{ }6{ }{ }IV{ }{ }{ }{ }{ }{ }{ }{ }{ }{ }3{ }{ }C3{ }{ }{ }{ }{ }{ }{ }{ }{ }{ }{ }3{ }{ }{ }{ }{ }24{ }{ }False}}\\\\\n",
      "\\text{\\texttt{162a2{ }{ }{ }{ }{ }{ }4{ }{ }{ }{ }6{ }{ }IV*{ }{ }{ }{ }{ }{ }{ }{ }{ }3{ }{ }C3{ }{ }{ }{ }{ }{ }{ }{ }{ }{ }{ }3{ }{ }{ }{ }{ }24{ }{ }False}}\\\\\n",
      "\\text{\\texttt{162b1{ }{ }{ }{ }{ }{ }4{ }{ }{ }{ }3{ }{ }II{ }{ }{ }{ }{ }{ }{ }{ }{ }{ }6{ }{ }1{ }{ }{ }{ }{ }{ }{ }{ }{ }{ }{ }{ }1{ }{ }{ }{ }{ }24{ }{ }False}}\\\\\n",
      "\\text{\\texttt{162b2{ }{ }{ }{ }{ }{ }4{ }{ }{ }{ }3{ }{ }II*{ }{ }{ }{ }{ }{ }{ }{ }{ }6{ }{ }1{ }{ }{ }{ }{ }{ }{ }{ }{ }{ }{ }{ }1{ }{ }{ }{ }{ }24{ }{ }False}}\n",
      "\\end{array}\n"
     ]
    }
   ],
   "source": [
    "from tabulate import tabulate\n",
    "\n",
    "aut_helper = {0:24, 1:2, 2:2}\n",
    "\n",
    "rows = []\n",
    "for (label, ktype, mtype) in first_examples:\n",
    "    E = EllipticCurve(label)\n",
    "    LD = E.local_data(p)\n",
    "    stab_index = ktype_to_stab_index(LD.kodaira_symbol())  \n",
    "    j = E.j_invariant()\n",
    "    if ktype_to_cgroup_order(ktype) > 0:\n",
    "        ktype_str_desc = gap.StructureDescription(ktype_to_cgroup(ktype)) #to get group name\n",
    "        rows += [[label, LD.conductor_valuation(), mtype, LD.kodaira_symbol(), stab_index, ktype_str_desc,\n",
    "                  E.tamagawa_number(p), aut_helper[mod(j,p)], E.has_cm()]]\n",
    "print(tabulate(rows, headers=['label','f','M','Kod','stab','Phi','Tam','Aut','CM?']))\n",
    "print(latex(tabulate(rows, headers=['label','f','M','Kod','stab','Phi','Tam','Aut','CM?'])))"
   ]
  },
  {
   "cell_type": "code",
   "execution_count": null,
   "metadata": {},
   "outputs": [],
   "source": []
  }
 ],
 "metadata": {
  "kernelspec": {
   "display_name": "SageMath 8.2",
   "language": "",
   "name": "sagemath"
  },
  "language_info": {
   "codemirror_mode": {
    "name": "ipython",
    "version": 2
   },
   "file_extension": ".py",
   "mimetype": "text/x-python",
   "name": "python",
   "nbconvert_exporter": "python",
   "pygments_lexer": "ipython2",
   "version": "2.7.14"
  }
 },
 "nbformat": 4,
 "nbformat_minor": 2
}
