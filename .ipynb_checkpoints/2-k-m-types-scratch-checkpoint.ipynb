{
 "cells": [
  {
   "cell_type": "code",
   "execution_count": 1,
   "metadata": {},
   "outputs": [],
   "source": [
    "import time\n",
    "load(\"kraus_tables.sage\")\n",
    "kraus = kraus_table_Q2\n",
    "DB = CremonaDatabase(); DB\n",
    "p = 2\n",
    "# note: the quadratic extensions of Q2 are Q2(sqrt(d)) with d = 3,5,7,2,6,10,14."
   ]
  },
  {
   "cell_type": "code",
   "execution_count": 2,
   "metadata": {},
   "outputs": [],
   "source": [
    "objfile = os.path.join('./', '2-ktype_mtype_data.sobj')\n",
    "# save(label_type_tuples, objfile)\n",
    "label_type_tuples = load(objfile)  # format: (cremona label (string), Kodaira type (Sage custom type), integer)"
   ]
  },
  {
   "cell_type": "code",
   "execution_count": 3,
   "metadata": {},
   "outputs": [
    {
     "data": {
      "text/plain": [
       "[('20a1', IV*, 3),\n",
       " ('20a2', IV, 3),\n",
       " ('20a3', IV*, 3),\n",
       " ('20a4', IV, 3),\n",
       " ('24a1', I1*, 24),\n",
       " ('24a2', III*, 24),\n",
       " ('24a3', III*, 24),\n",
       " ('24a4', III, 24),\n",
       " ('24a5', II*, 24),\n",
       " ('24a6', II*, 24)]"
      ]
     },
     "execution_count": 3,
     "metadata": {},
     "output_type": "execute_result"
    }
   ],
   "source": [
    "# scratch\n",
    "label_type_tuples[0:10]"
   ]
  },
  {
   "cell_type": "code",
   "execution_count": 4,
   "metadata": {},
   "outputs": [],
   "source": [
    "objfile = os.path.join('./', '2-ktype_mtype_first_examples.sobj')\n",
    "# save(first_examples, objfile)\n",
    "first_examples = load(objfile)"
   ]
  },
  {
   "cell_type": "code",
   "execution_count": 5,
   "metadata": {},
   "outputs": [
    {
     "data": {
      "text/plain": [
       "{2: [II*, I4*, II, I8*],\n",
       " 3: [IV*, IV],\n",
       " 4: [III, III*],\n",
       " 6: [I0*, II, I4*, II*],\n",
       " 8: [I3*, III, I0*, I2*, I5*, II, III*],\n",
       " 24: [I1*, III*, III, II*, I0*, I2*, II, I3*, I4*, I6*, I7*]}"
      ]
     },
     "execution_count": 5,
     "metadata": {},
     "output_type": "execute_result"
    }
   ],
   "source": [
    "ktype_given_mtype = dict.fromkeys([2, 3, 4, 6, 8, 24], [])\n",
    "for (_, ktype, mtype) in label_type_tuples:\n",
    "    if ktype not in ktype_given_mtype[mtype]:\n",
    "        ktype_given_mtype[mtype] = ktype_given_mtype[mtype] + [ktype]\n",
    "ktype_given_mtype\n",
    "\n",
    "#  mtypes and component groups:\n",
    "#\n",
    "# (2, ['0', 'Z/2 x Z/2'])\n",
    "# (3, ['Z/3'])\n",
    "# (4, ['Z/2'])\n",
    "# (6, ['Z/2 x Z/2', '0'])\n",
    "# (8, ['Z/2 x Z/2', 'Z/2', 'Z/4', '0'])\n",
    "# (24, ['0', 'Z/2', 'Z/4', 'Z/2 x Z/2'])"
   ]
  },
  {
   "cell_type": "code",
   "execution_count": 6,
   "metadata": {},
   "outputs": [
    {
     "data": {
      "text/plain": [
       "[('20a1', IV*, 3),\n",
       " ('20a2', IV, 3),\n",
       " ('24a1', I1*, 24),\n",
       " ('24a2', III*, 24),\n",
       " ('24a4', III, 24),\n",
       " ('24a5', II*, 24),\n",
       " ('32a1', I3*, 8),\n",
       " ('32a2', III, 8),\n",
       " ('32a3', I0*, 8),\n",
       " ('48a1', I0*, 24),\n",
       " ('48a2', I2*, 24),\n",
       " ('48a4', II, 24),\n",
       " ('48a5', I3*, 24),\n",
       " ('64a1', I2*, 8),\n",
       " ('64a2', I5*, 8),\n",
       " ('64a4', II, 8),\n",
       " ('80b1', I0*, 6),\n",
       " ('80b2', II, 6),\n",
       " ('176b1', II*, 2),\n",
       " ('192c2', I4*, 24),\n",
       " ('192c3', I6*, 24),\n",
       " ('192c5', I7*, 24),\n",
       " ('240d1', I4*, 2),\n",
       " ('256a1', III, 4),\n",
       " ('256a2', III*, 4),\n",
       " ('256b2', III*, 8),\n",
       " ('320c2', I4*, 6),\n",
       " ('704a1', II, 2),\n",
       " ('704d1', II*, 6),\n",
       " ('960g1', I8*, 2)]"
      ]
     },
     "execution_count": 6,
     "metadata": {},
     "output_type": "execute_result"
    }
   ],
   "source": [
    "first_examples"
   ]
  },
  {
   "cell_type": "code",
   "execution_count": 10,
   "metadata": {},
   "outputs": [
    {
     "data": {
      "text/plain": [
       "[('24a5', II*, 24),\n",
       " ('48a4', II, 24),\n",
       " ('64a4', II, 8),\n",
       " ('80b2', II, 6),\n",
       " ('176b1', II*, 2),\n",
       " ('704a1', II, 2),\n",
       " ('704d1', II*, 6)]"
      ]
     },
     "execution_count": 10,
     "metadata": {},
     "output_type": "execute_result"
    }
   ],
   "source": [
    "stab6_egs = [t for t in first_examples if t[1] in [KodairaSymbol('II'), KodairaSymbol('II*')]]"
   ]
  },
  {
   "cell_type": "code",
   "execution_count": 9,
   "metadata": {},
   "outputs": [],
   "source": [
    "# remarks:\n",
    "# McCallum proves exponent of inertial monodromy kills component group\n",
    "# exponents: 2, 3, 4, 6, 8, 24 |-> 2, 3, 4, 6, 4, 12\n",
    "#\n",
    "# for C_2, the possible component group are: 0, C_2, C_2 x C_2,\n",
    "#        but we don't see C_2\n",
    "# note: in this case, see case monodromy group smaller than component group\n",
    "# note: I think Dokchitser paper shows this is the only situation where potentially ordinary\n",
    "#       reduction is possible.\n",
    "#\n",
    "# for C_3, possibilities are 0 and C_3, \n",
    "#        but we don't see 0\n",
    "#\n",
    "# for C_4, possibilities are 0, C_2, C_4, C_2 x C_2,\n",
    "#        but we ONLY see one of these, C_2\n",
    "#\n",
    "# for C_6, possibilities are 0, C_2, C_3, C_2 x C_2,\n",
    "#        but we don't see C_2 or C_3\n",
    "# note: C_2 x C_2 is not a subquotient of C_6\n",
    "# note: Dokchitsers show this is potentially supersingular\n",
    "#\n",
    "# for Q_8, the possiblities are 0, C_2, C_4, C_2 x C_2, and we see all of these\n",
    "# \n",
    "# for SL_2(F_3), the possiblities are 0, C_2, C_4, C_2 x C_2, and we see all of these"
   ]
  },
  {
   "cell_type": "code",
   "execution_count": 10,
   "metadata": {},
   "outputs": [],
   "source": [
    "# # i noticed '960g1' is optimal so i checked whether i could replace first examples\n",
    "# # but something in same isogeny class. but no, optimal rep can even have different \n",
    "# # component group\n",
    "\n",
    "# for (label, ktype, mtype) in first_examples:\n",
    "#     E = EllipticCurve(label)\n",
    "#     Eo = E.optimal_curve()\n",
    "#     labelo = Eo.label()\n",
    "#     if label != labelo:\n",
    "#         print(label, Eo.label())\n",
    "#         print('{}, {} vs {}, {}'.format(ktype, \n",
    "#                                         mtype, \n",
    "#                                         Eo.kodaira_symbol(2), \n",
    "#                                         kraus_table_Q2(Eo)))\n",
    "#     else:\n",
    "#         print \"Label is optimal\"\n",
    "#     print"
   ]
  },
  {
   "cell_type": "code",
   "execution_count": 129,
   "metadata": {},
   "outputs": [],
   "source": [
    "# # find the quadratic extensions over which the mtype-2 examples  have good reduction\n",
    "# m2_egs = [t for t in first_examples if t[-1]==2]\n",
    "# for (label, ktype, mtype) in m2_egs:\n",
    "#     print(\"Label: {}, Kodaira type: {}\".format(label, ktype))\n",
    "#     E = EllipticCurve(label)\n",
    "#     for d in [-1, -2, 3, 6, -3, -6, 2]:\n",
    "#         K.<a> = NumberField(x^2-d)\n",
    "#         EK = E.base_extend(K)\n",
    "#         pp = K.prime_above(2)\n",
    "#         if EK.has_good_reduction(pp):\n",
    "#             print(\"Good reduction over Q2 adjoin sqrt of {}\".format(d)) \n",
    "#     print"
   ]
  },
  {
   "cell_type": "code",
   "execution_count": 80,
   "metadata": {},
   "outputs": [
    {
     "name": "stdout",
     "output_type": "stream",
     "text": [
      "Label: 80b1, Kodaira type: I0*\n",
      "Good reduction over Q_2(3) adjoin sqrt of -1\n",
      "Good reduction over Q_2(3) adjoin sqrt of 3\n",
      "\n",
      "Label: 80b2, Kodaira type: II\n",
      "Good reduction over Q_2(3) adjoin sqrt of -1\n",
      "Good reduction over Q_2(3) adjoin sqrt of 3\n",
      "\n",
      "Label: 320c2, Kodaira type: I4*\n",
      "Good reduction over Q_2(3) adjoin sqrt of -6\n",
      "Good reduction over Q_2(3) adjoin sqrt of 2\n",
      "\n",
      "Label: 704d1, Kodaira type: II*\n",
      "Good reduction over Q_2(3) adjoin sqrt of -6\n",
      "Good reduction over Q_2(3) adjoin sqrt of 2\n",
      "\n"
     ]
    }
   ],
   "source": [
    "# # find the quadratic extensions over which the mtype-6 examples have good reduction\n",
    "# K3.<a> = NumberField(x^3-2)\n",
    "# m6_egs = [t for t in first_examples if t[-1]==6]\n",
    "# for (label, ktype, mtype) in m6_egs:\n",
    "#     print(\"Label: {}, Kodaira type: {}\".format(label, ktype))\n",
    "#     E = EllipticCurve(label)\n",
    "#     for d in [-1, -2, 3, 6, -3, -6, 2]:\n",
    "#         K.<b> = K3.extension(x^2-d)\n",
    "#         EK = E.base_extend(K)\n",
    "#         pp = K.prime_above(2)\n",
    "#         if EK.has_good_reduction(pp):\n",
    "#             print(\"Good reduction over Q_2(3) adjoin sqrt of {}\".format(d)) \n",
    "#     print"
   ]
  },
  {
   "cell_type": "code",
   "execution_count": 7,
   "metadata": {},
   "outputs": [],
   "source": [
    "############ look at curve 80b1 ###########\n",
    "E = EllipticCurve('80b1')"
   ]
  },
  {
   "cell_type": "code",
   "execution_count": 131,
   "metadata": {},
   "outputs": [
    {
     "name": "stdout",
     "output_type": "stream",
     "text": [
      "(3, 1, I0*)\n",
      "(5, 1, I0*)\n",
      "(7, 4, I0*)\n"
     ]
    }
   ],
   "source": [
    "# note: has tamagawa number 1. get full component group after extending res field to F_8\n",
    "for d in range(3, 8, 2):\n",
    "    K.<a> = CyclotomicField(d)\n",
    "    EK = E.base_extend(K)\n",
    "    pp = K.prime_above(2)\n",
    "    print(d, EK.tamagawa_number(pp), EK.kodaira_symbol(pp))"
   ]
  },
  {
   "cell_type": "code",
   "execution_count": 132,
   "metadata": {},
   "outputs": [
    {
     "name": "stdout",
     "output_type": "stream",
     "text": [
      "12\n",
      "True\n",
      "6\n",
      "Inertia is C6\n"
     ]
    }
   ],
   "source": [
    "# can construct division field\n",
    "DF.<s> = E.division_field(3, simplify=true)\n",
    "print(DF.absolute_degree())\n",
    "print(DF.is_galois())\n",
    "pp = DF.prime_above(2)\n",
    "print(pp.ramification_index())\n",
    "G = DF.galois_group()\n",
    "I = G.inertia_group(pp)\n",
    "print('Inertia is {}'.format(I.structure_description()))\n",
    "# I.id() gives GAP id"
   ]
  },
  {
   "cell_type": "code",
   "execution_count": null,
   "metadata": {},
   "outputs": [],
   "source": []
  },
  {
   "cell_type": "code",
   "execution_count": 133,
   "metadata": {},
   "outputs": [
    {
     "name": "stdout",
     "output_type": "stream",
     "text": [
      "16\n",
      "QD16\n",
      "8\n"
     ]
    }
   ],
   "source": [
    "# a Q8 example\n",
    "E = EllipticCurve('32a1', simplify=true)\n",
    "DF.<s> = E.division_field(3)\n",
    "print(DF.absolute_degree())\n",
    "G = DF.galois_group()\n",
    "print(G.structure_description())\n",
    "pp = DF.prime_above(2)\n",
    "# I = G.inertia_group(pp) # this crashed my computer\n",
    "# print(I.structure_description()\n",
    "print(pp.ramification_index()) # can probably infer I for small groups"
   ]
  },
  {
   "cell_type": "code",
   "execution_count": null,
   "metadata": {},
   "outputs": [],
   "source": []
  },
  {
   "cell_type": "code",
   "execution_count": 134,
   "metadata": {},
   "outputs": [
    {
     "data": {
      "text/plain": [
       "Local data at Fractional ideal (b + 1):\n",
       "Reduction type: good\n",
       "Local minimal model: Elliptic Curve defined by y^2 + y = x^3 + (-1)*x^2 over Number Field in b with defining polynomial x^2 + 1\n",
       "Minimal discriminant valuation: 0\n",
       "Conductor exponent: 0\n",
       "Kodaira Symbol: I0\n",
       "Tamagawa Number: 1"
      ]
     },
     "execution_count": 134,
     "metadata": {},
     "output_type": "execute_result"
    }
   ],
   "source": [
    "E = EllipticCurve('176b1')\n",
    "K1.<b> = NumberField(x^2+1)\n",
    "EK1 = E.base_extend(K1)\n",
    "pp1 = K1.prime_above(2)\n",
    "EK1.local_data(pp1)"
   ]
  },
  {
   "cell_type": "code",
   "execution_count": 135,
   "metadata": {},
   "outputs": [
    {
     "data": {
      "text/plain": [
       "True"
      ]
     },
     "execution_count": 135,
     "metadata": {},
     "output_type": "execute_result"
    }
   ],
   "source": [
    "EK1.has_good_reduction(pp1)"
   ]
  },
  {
   "cell_type": "code",
   "execution_count": 136,
   "metadata": {},
   "outputs": [
    {
     "data": {
      "text/plain": [
       "Local data at Fractional ideal (b + 1):\n",
       "Reduction type: good\n",
       "Local minimal model: Elliptic Curve defined by y^2 + y = x^3 + (b+1)*x^2 + (-18*b-31)*x + (-154*b-267) over Number Field in b with defining polynomial x^2 - 3\n",
       "Minimal discriminant valuation: 0\n",
       "Conductor exponent: 0\n",
       "Kodaira Symbol: I0\n",
       "Tamagawa Number: 1"
      ]
     },
     "execution_count": 136,
     "metadata": {},
     "output_type": "execute_result"
    }
   ],
   "source": [
    "E = EllipticCurve('176b1')\n",
    "K2.<b> = NumberField(x^2-3)\n",
    "EK2 = E.base_extend(K2)\n",
    "pp2 = K2.prime_above(2)\n",
    "EK2.local_data(pp2)"
   ]
  },
  {
   "cell_type": "code",
   "execution_count": 137,
   "metadata": {},
   "outputs": [
    {
     "data": {
      "text/plain": [
       "True"
      ]
     },
     "execution_count": 137,
     "metadata": {},
     "output_type": "execute_result"
    }
   ],
   "source": [
    "EK2.has_good_reduction(pp2)"
   ]
  },
  {
   "cell_type": "code",
   "execution_count": 138,
   "metadata": {},
   "outputs": [
    {
     "name": "stdout",
     "output_type": "stream",
     "text": [
      "48\n"
     ]
    }
   ],
   "source": [
    "DF.<s> = E.division_field(3)\n",
    "print(DF.absolute_degree())"
   ]
  },
  {
   "cell_type": "code",
   "execution_count": 139,
   "metadata": {},
   "outputs": [],
   "source": [
    "# it seems like all of the C2-monodromy curves have monodromy group of order 48 \n",
    "# (err... didn't look at inertia... also what did i mean?)"
   ]
  },
  {
   "cell_type": "code",
   "execution_count": 140,
   "metadata": {},
   "outputs": [],
   "source": [
    "##########\n",
    "## computing differents of the quadratic extensions of Q_2\n",
    "##########"
   ]
  },
  {
   "cell_type": "code",
   "execution_count": 13,
   "metadata": {},
   "outputs": [],
   "source": [
    "K = Qp(2,20)\n",
    "K2.<a> = K.extension(x^2+6)\n",
    "# there is no way to compute the different"
   ]
  },
  {
   "cell_type": "code",
   "execution_count": 44,
   "metadata": {},
   "outputs": [
    {
     "name": "stdout",
     "output_type": "stream",
     "text": [
      "0\n",
      "2\n",
      "2\n",
      "3\n",
      "3\n",
      "3\n",
      "3\n"
     ]
    }
   ],
   "source": [
    "polys = [x^2-5, x^2-3, x^2-7, x^2-2, x^2-6, x^2-10, x^2-14]\n",
    "# can also find polys using T\n",
    "for f in polys:\n",
    "    K.<a> = NumberField(f)\n",
    "    pp = K.prime_above(2)\n",
    "    DD = K.relative_different()\n",
    "    print DD.valuation(pp)"
   ]
  },
  {
   "cell_type": "code",
   "execution_count": 69,
   "metadata": {},
   "outputs": [],
   "source": [
    "##########\n",
    "## computing size of automorphism groups of first examples\n",
    "##########"
   ]
  },
  {
   "cell_type": "code",
   "execution_count": 141,
   "metadata": {},
   "outputs": [
    {
     "name": "stdout",
     "output_type": "stream",
     "text": [
      "20a1 $ IV^{*} $ 3 24 \\\\\n",
      "20a2 $ IV $ 3 24 \\\\\n",
      "24a1 $ I_1^{*} $ 24 24 \\\\\n",
      "24a2 $ III^{*} $ 24 24 \\\\\n",
      "24a4 $ III $ 24 24 \\\\\n",
      "24a5 $ II^{*} $ 24 24 \\\\\n",
      "32a1 $ I_3^{*} $ 8 24 \\\\\n",
      "32a2 $ III $ 8 24 \\\\\n",
      "32a3 $ I_0^{*} $ 8 24 \\\\\n",
      "48a1 $ I_0^{*} $ 24 24 \\\\\n",
      "48a2 $ I_2^{*} $ 24 24 \\\\\n",
      "48a4 $ II $ 24 24 \\\\\n",
      "48a5 $ I_3^{*} $ 24 24 \\\\\n",
      "64a1 $ I_2^{*} $ 8 24 \\\\\n",
      "64a2 $ I_5^{*} $ 8 24 \\\\\n",
      "64a4 $ II $ 8 24 \\\\\n",
      "80b1 $ I_0^{*} $ 6 24 \\\\\n",
      "80b2 $ II $ 6 24 \\\\\n",
      "176b1 $ II^{*} $ 2 24 \\\\\n",
      "192c2 $ I_4^{*} $ 24 24 \\\\\n",
      "192c3 $ I_6^{*} $ 24 24 \\\\\n",
      "192c5 $ I_7^{*} $ 24 24 \\\\\n",
      "240d1 $ I_4^{*} $ 2 2 \\\\\n",
      "256a1 $ III $ 4 24 \\\\\n",
      "256a2 $ III^{*} $ 4 24 \\\\\n",
      "256b2 $ III^{*} $ 8 24 \\\\\n",
      "320c2 $ I_4^{*} $ 6 24 \\\\\n",
      "704a1 $ II $ 2 24 \\\\\n",
      "704d1 $ II^{*} $ 6 24 \\\\\n",
      "960g1 $ I_8^{*} $ 2 2 \\\\\n"
     ]
    }
   ],
   "source": [
    "# by Silverman Theorem 10.1: \n",
    "# Aut of generic fiber is always C_2\n",
    "# Aut of the special fiber is C_2 iff 2 \\nmid j, otherwise is order 24 (is it GL(2,3))\n",
    "# We see that, in our list of examples (must look at more, not just first occurances), \n",
    "# below we see that most curves have Aut  = GL(2,3), except for two examples. Those examples both have C2 monodromy and I_4n^* and Kodaira type. Other examples have this type, but \n",
    "helper = {0:24, 1:2}\n",
    "for (label, ktype, mtype) in first_examples:\n",
    "    E = EllipticCurve(label)\n",
    "    j = E.j_invariant()\n",
    "    print label, \"$\", latex(ktype),\"$\", mtype, helper[mod(j,2)] , \"\\\\\\\\\""
   ]
  },
  {
   "cell_type": "code",
   "execution_count": 50,
   "metadata": {},
   "outputs": [],
   "source": [
    "def ktype_to_cgroup_order(ktype):\n",
    "    s = str(ktype)\n",
    "    if ktype in [KodairaSymbol(\"I0\"), KodairaSymbol(\"I1\"), KodairaSymbol(\"II\"), KodairaSymbol(\"II*\")]:\n",
    "        return 1\n",
    "    elif ktype in [KodairaSymbol(\"III\"), KodairaSymbol(\"III*\")]:\n",
    "        return 2\n",
    "    elif ktype in [KodairaSymbol(\"IV\"), KodairaSymbol(\"IV*\")]:\n",
    "        return 3\n",
    "    elif s[-1] == '*':   #I_n^* cases (anticipating group output in another function)\n",
    "        n = int(s[1:-1])\n",
    "        if n%2 == 0:\n",
    "            return 4\n",
    "        else:\n",
    "            return 4\n",
    "    else:                # we are in case I_n\n",
    "        n = int(s[1:])\n",
    "        return n\n",
    "\n",
    "def ktype_to_cgroup(ktype):\n",
    "    s = str(ktype)\n",
    "    if ktype in [KodairaSymbol(\"I0\"), KodairaSymbol(\"I1\"), KodairaSymbol(\"II\"), KodairaSymbol(\"II*\")]:\n",
    "        return CyclicPermutationGroup(1)\n",
    "    elif ktype in [KodairaSymbol(\"III\"), KodairaSymbol(\"III*\")]:\n",
    "        return CyclicPermutationGroup(2)\n",
    "    elif ktype in [KodairaSymbol(\"IV\"), KodairaSymbol(\"IV*\")]:\n",
    "        return CyclicPermutationGroup(3)\n",
    "    elif s[-1] == '*':   #I_n^* cases (anticipating group output in another function)\n",
    "        n = int(s[1:-1])\n",
    "        if n%2 == 0:\n",
    "            return KleinFourGroup()\n",
    "        else:\n",
    "            return CyclicPermutationGroup(4)\n",
    "    else:                # we are in case I_n\n",
    "        n = int(s[1:])\n",
    "        return CyclicPermutationGroup(n)\n",
    "\n",
    "def ktype_to_cgroup_gid(ktype):\n",
    "    s = str(ktype)\n",
    "    if ktype in [KodairaSymbol(\"I0\"), KodairaSymbol(\"I1\"), KodairaSymbol(\"II\"), KodairaSymbol(\"II*\")]:\n",
    "        return [1,1]\n",
    "    elif ktype in [KodairaSymbol(\"III\"), KodairaSymbol(\"III*\")]:\n",
    "        return [2,1]\n",
    "    elif ktype in [KodairaSymbol(\"IV\"), KodairaSymbol(\"IV*\")]:\n",
    "        return [3,1]\n",
    "    elif s[-1] == '*':   #I_n^* cases (anticipating group output in another function)\n",
    "        n = int(s[1:-1])\n",
    "        if n%2 == 0:\n",
    "            return [4,2]\n",
    "        else:\n",
    "            return [4,1]\n",
    "    else:                # we are in case I_n\n",
    "        n = int(s[1:])\n",
    "        return [n,1]\n",
    "## to get useful name, use gap.StructureDescription \n",
    "\n",
    "def ktype_to_stab_index(ktype):\n",
    "    s = str(ktype)\n",
    "    if ktype in [KodairaSymbol(\"II\"), KodairaSymbol(\"II*\")]:\n",
    "        return 6\n",
    "    elif ktype in [KodairaSymbol(\"III\"), KodairaSymbol(\"III*\")]:\n",
    "        return 4\n",
    "    elif ktype in [KodairaSymbol(\"IV\"), KodairaSymbol(\"IV*\")]:\n",
    "        return 3\n",
    "    elif s[-1] == '*':   #I_n^* cases (anticipating group output in another function)\n",
    "        return 2\n",
    "    else:                # we are in case I_n\n",
    "        raise ValueError(\"Kodaira type conversion to stabilization index not implemented.\")\n"
   ]
  },
  {
   "cell_type": "code",
   "execution_count": null,
   "metadata": {},
   "outputs": [],
   "source": []
  },
  {
   "cell_type": "code",
   "execution_count": 135,
   "metadata": {},
   "outputs": [
    {
     "data": {
      "text/plain": [
       "8"
      ]
     },
     "execution_count": 135,
     "metadata": {},
     "output_type": "execute_result"
    }
   ],
   "source": [
    "# on normalized to v(varpi) = 1/e\n",
    "e = 8\n",
    "v1 = e*K1.valuation(pp1)\n",
    "varpi = K1.uniformizer(pp1);\n",
    "v1()"
   ]
  },
  {
   "cell_type": "code",
   "execution_count": 186,
   "metadata": {},
   "outputs": [
    {
     "name": "stdout",
     "output_type": "stream",
     "text": [
      "(1, 3, 2.0)\n",
      "(+Infinity, 3, 2.0)\n",
      "(4, 8, 5.333333333333333)\n",
      "(4, 8, 5.333333333333333)\n",
      "(2, 8, 5.333333333333333)\n",
      "(4, 8, 5.333333333333333)\n",
      "(2, 8, 5.333333333333333)\n",
      "(4, 8, 5.333333333333333)\n",
      "(2, 6, 4.0)\n",
      "(+Infinity, 6, 4.0)\n",
      "(2, 4, 2.6666666666666665)\n",
      "(2, 4, 2.6666666666666665)\n",
      "(4, 8, 5.333333333333333)\n",
      "(2, 6, 4.0)\n",
      "(+Infinity, 6, 4.0)\n"
     ]
    }
   ],
   "source": [
    "for (label, ktype, mtype) in first_examples:\n",
    "    E = EllipticCurve(label)\n",
    "\n",
    "    K1.<b> = E.division_field(3) # needs to change for p=3\n",
    "    EK1 = E.base_extend(K1)\n",
    "    deg1 = K1.degree() \n",
    "    if  deg1 < 48:\n",
    "        pp1 = K1.prime_above(p)\n",
    "        e = mtype\n",
    "        v1 = e * K1.valuation(pp1)\n",
    "        LD1 = EK1.local_data(pp1)\n",
    "        ap1 = LD1.minimal_model().a1()\n",
    "        vap1 = v1(ap1)\n",
    "        print(vap1, e, float(e*p/(p+1)))"
   ]
  },
  {
   "cell_type": "code",
   "execution_count": 182,
   "metadata": {},
   "outputs": [
    {
     "name": "stdout",
     "output_type": "stream",
     "text": [
      "(('20a1', IV*, 3), True)\n",
      "(('20a2', IV, 3), True)\n",
      "Skipping ('24a1', I1*, 24); large 3-division field of degree 48\n",
      "Skipping ('24a2', III*, 24); large 3-division field of degree 48\n",
      "Skipping ('24a4', III, 24); large 3-division field of degree 48\n",
      "Skipping ('24a5', II*, 24); large 3-division field of degree 48\n",
      "(('32a1', I3*, 8), True)\n",
      "(('32a2', III, 8), True)\n",
      "(('32a3', I0*, 8), True)\n",
      "Skipping ('48a1', I0*, 24); large 3-division field of degree 48\n",
      "Skipping ('48a2', I2*, 24); large 3-division field of degree 48\n",
      "Skipping ('48a4', II, 24); large 3-division field of degree 48\n",
      "Skipping ('48a5', I3*, 24); large 3-division field of degree 48\n",
      "(('64a1', I2*, 8), True)\n",
      "(('64a2', I5*, 8), True)\n",
      "(('64a4', II, 8), True)\n",
      "(('80b1', I0*, 6), True)\n",
      "(('80b2', II, 6), True)\n",
      "Skipping ('176b1', II*, 2); large 3-division field of degree 48\n",
      "Skipping ('192c2', I4*, 24); large 3-division field of degree 48\n",
      "Skipping ('192c3', I6*, 24); large 3-division field of degree 48\n",
      "Skipping ('192c5', I7*, 24); large 3-division field of degree 48\n",
      "Skipping ('240d1', I4*, 2); large 3-division field of degree 48\n",
      "(('256a1', III, 4), True)\n",
      "(('256a2', III*, 4), True)\n",
      "(('256b2', III*, 8), True)\n",
      "(('320c2', I4*, 6), True)\n",
      "Skipping ('704a1', II, 2); large 3-division field of degree 48\n",
      "(('704d1', II*, 6), True)\n",
      "Skipping ('960g1', I8*, 2); large 3-division field of degree 48\n"
     ]
    }
   ],
   "source": [
    "# checking whether curves are potentially fake ordinary\n",
    "for (label, ktype, mtype) in first_examples:\n",
    "    E = EllipticCurve(label)\n",
    "\n",
    "    K1.<b> = E.division_field(3) # needs to change for p=3\n",
    "    EK1 = E.base_extend(K1)\n",
    "    deg1 = K1.degree() \n",
    "    if  deg1 < 48:\n",
    "        pp1 = K1.prime_above(2)\n",
    "        e = mtype\n",
    "        v1 = e * K1.valuation(pp1)\n",
    "        LD1 = EK1.local_data(pp1)\n",
    "        ap1 = LD1.minimal_model().a1()\n",
    "        vap1 = v1(ap1)\n",
    "        # should separate the two potentially ordinary ones\n",
    "        if vap1 == Infinity:\n",
    "            is_pot_fake_ord = True\n",
    "        elif vap1 < e*p/(p+1):\n",
    "            is_pot_fake_ord = True\n",
    "        else:\n",
    "            is_pot_fake_ord = False\n",
    "        print((label, ktype, mtype), is_pot_fake_ord)\n",
    "    else:\n",
    "        print(\"Skipping {}; large 3-division field of degree {}\".format((label, ktype, mtype), deg1))"
   ]
  },
  {
   "cell_type": "code",
   "execution_count": 173,
   "metadata": {},
   "outputs": [
    {
     "data": {
      "text/plain": [
       "[2, 3]"
      ]
     },
     "execution_count": 173,
     "metadata": {},
     "output_type": "execute_result"
    }
   ],
   "source": [
    "E = EllipticCurve('20a1')\n",
    "K1.<b> = E.division_field(3) # needs to change for p=3\n",
    "EK1 = E.base_extend(K1)\n",
    "\n",
    "rho1 = EK1.galois_representation()\n",
    "rho.reducible_primes()"
   ]
  },
  {
   "cell_type": "code",
   "execution_count": 168,
   "metadata": {},
   "outputs": [
    {
     "data": {
      "text/plain": [
       "Compatible family of Galois representations associated to the Elliptic Curve defined by y^2 = x^3 + x^2 + (-1)*x + 95 over Number Field in b with defining polynomial x^48 - 1080*x^47 + 931788*x^46 - 655874496*x^45 + 399772589238*x^44 - 212789632890744*x^43 + 103004256808266696*x^42 - 45326356907452107480*x^41 + 18313255542050438794641*x^40 - 6844547148339670372175112*x^39 + 2372692548537846818160113448*x^38 - 763304346887810494963023764424*x^37 + 228651357764010786361254845122806*x^36 - 63631925688858252994348072587754848*x^35 + 16401774286126520934291019046650836852*x^34 - 3906916885811245846944128423394520071144*x^33 + 851478720556043957002834421963702670270228*x^32 - 167125896849853738343180700818921686707274248*x^31 + 28928159633497240850567760522429999939216605700*x^30 - 4121652500148976969121533405286563851034296588000*x^29 + 394163333477626795882988076162369536652815931316422*x^28 + 6843306743675583080200212437963203610777834160446616*x^27 - 15774038523331429461940308103863414143010559943588365320*x^26 + 4686303946521245644541287322311087634443161260143805898696*x^25 - 926577903759877173586466812596974392808133279001907319341295*x^24 + 143525293214288761027117997310104014246634081959765608870700632*x^23 - 12222181591857468628903667625761883191342069968084820374332988968*x^22 - 429378874027002694745075920153621265537602781033239162172615631576*x^21 + 415023632917281802074003738041525828558624111116943256959947338699942*x^20 - 124358449440091084312309111025894384959689475416637324604288466417165888*x^19 + 15307833292843145663729538048922785085171356337497779339887557110485376268*x^18 - 1821864282433314382998471156084796598608120766673692723102507860564140540168*x^17 + 35045389655809459216454678094248047051300471412592073402883199333166758264849*x^16 + 53790905455183493540867578260716031844483874158134197461851765283366918394214768*x^15 - 4246063532508099908859949146509059338682201957478875154662603677013762100720706960*x^14 + 1983552631791328140955362370082123682304146195878950625429828334903028708074001523520*x^13 + 11392839208427331202269096825759159739534295276021658332025864251269674977842468433568*x^12 + 16444329374083832859595248094522019895900455706085968306913222553475779751491132125635072*x^11 + 2571960441583093549536453871644268072751610574767540775444597147386101712919813626701213184*x^10 - 111155240627899767733944334007886388731872288895825439232185200081204558393534408002321783808*x^9 + 42472782655099807682297381054425318173859837655750363390376573829991284766963904151758828632832*x^8 - 2547564671639840329967976825176390585194713641546716033887343146675740875966859622867606739230720*x^7 + 193119035323985800585141090193515559332089563463272619318612690154701228894100898935802439931895808*x^6 - 8145845711813183672738577009285548321043755045351872233052177145880659041219032647343322769606787072*x^5 + 1071159676103151194132212897820805547540717890324280463680680424139699794202520710737043688113116422144*x^4 - 59755768467804728481553419796487695401296250409779938909930098478512436380483048108560486607975835566080*x^3 - 3821665572862927763268148925547029893632843955576461709932669546275377647577581495026452448329982898536448*x^2 + 286073075881078736842532402088237230628532014291687423657932156614957957847858540419714778508238181023875072*x + 26161664597501118167774615477524525151248020542098442883985404411911356662660484425873434918914468516177969152"
      ]
     },
     "execution_count": 168,
     "metadata": {},
     "output_type": "execute_result"
    }
   ],
   "source": []
  },
  {
   "cell_type": "code",
   "execution_count": 215,
   "metadata": {},
   "outputs": [
    {
     "name": "stdout",
     "output_type": "stream",
     "text": [
      "Local data at Fractional ideal (b + 1):\n",
      "Reduction type: good\n",
      "Local minimal model: Elliptic Curve defined by y^2 + y = x^3 + (b+1)*x^2 + (-18*b-31)*x + (-154*b-267) over Number Field in b with defining polynomial x^2 - 3\n",
      "Minimal discriminant valuation: 0\n",
      "Conductor exponent: 0\n",
      "Kodaira Symbol: I0\n",
      "Tamagawa Number: 1\n"
     ]
    }
   ],
   "source": [
    "E = EllipticCurve('176b1') \n",
    "# K1.<b> = E.division_field(3) # needs to change for p=3\n",
    "# EK1 = E.base_extend(K1)\n",
    "\n",
    "K2.<b> = QuadraticField(3) # needs to change for p=3\n",
    "EK2 = E.base_extend(K2)\n",
    "pp2 = K2.prime_above(p)\n",
    "print(EK2.local_data(pp2, proof=True))"
   ]
  },
  {
   "cell_type": "code",
   "execution_count": 221,
   "metadata": {},
   "outputs": [
    {
     "data": {
      "text/plain": [
       "Elliptic Curve defined by y^2 + y = x^3 + x + 1 over Residue field of Fractional ideal (b + 1)"
      ]
     },
     "execution_count": 221,
     "metadata": {},
     "output_type": "execute_result"
    }
   ],
   "source": [
    "# 176b1 has a huge residue field\n",
    "Ek2 = EK2.reduction(pp2)\n",
    "Ek2"
   ]
  },
  {
   "cell_type": "code",
   "execution_count": 145,
   "metadata": {},
   "outputs": [
    {
     "name": "stdout",
     "output_type": "stream",
     "text": [
      "label      f    M  Kod      stab  Phi        Tam    Aut  CM?\n",
      "-------  ---  ---  -----  ------  -------  -----  -----  -----\n",
      "20a1       2    3  IV*         3  C3           3     24  False\n",
      "20a2       2    3  IV          3  C3           3     24  False\n",
      "24a1       3   24  I1*         2  C4           4     24  False\n",
      "24a2       3   24  III*        4  C2           2     24  False\n",
      "24a4       3   24  III         4  C2           2     24  False\n",
      "24a5       3   24  II*         6  1            1     24  False\n",
      "32a1       5    8  I3*         2  C4           4     24  True\n",
      "32a2       5    8  III         4  C2           2     24  True\n",
      "32a3       5    8  I0*         2  C2 x C2      1     24  True\n",
      "48a1       4   24  I0*         2  C2 x C2      2     24  False\n",
      "48a2       4   24  I2*         2  C2 x C2      2     24  False\n",
      "48a4       4   24  II          6  1            1     24  False\n",
      "48a5       4   24  I3*         2  C4           2     24  False\n",
      "64a1       6    8  I2*         2  C2 x C2      4     24  True\n",
      "64a2       6    8  I5*         2  C4           2     24  True\n",
      "64a4       6    8  II          6  1            1     24  True\n",
      "80b1       4    6  I0*         2  C2 x C2      1     24  False\n",
      "80b2       4    6  II          6  1            1     24  False\n",
      "176b1      4    2  II*         6  1            1     24  False\n",
      "192c2      6   24  I4*         2  C2 x C2      4     24  False\n",
      "192c3      6   24  I6*         2  C2 x C2      4     24  False\n",
      "192c5      6   24  I7*         2  C4           4     24  False\n",
      "240d1      4    2  I4*         2  C2 x C2      4      2  False\n",
      "256a1      8    4  III         4  C2           2     24  True\n",
      "256a2      8    4  III*        4  C2           2     24  True\n",
      "256b2      8    8  III*        4  C2           2     24  True\n",
      "320c2      6    6  I4*         2  C2 x C2      2     24  False\n",
      "704a1      6    2  II          6  1            1     24  False\n",
      "704d1      6    6  II*         6  1            1     24  False\n",
      "960g1      6    2  I8*         2  C2 x C2      4      2  False\n",
      "\\begin{array}{l}\n",
      "\\text{\\texttt{label{ }{ }{ }{ }{ }{ }f{ }{ }{ }{ }M{ }{ }Kod{ }{ }{ }{ }{ }{ }stab{ }{ }Phi{ }{ }{ }{ }{ }{ }{ }{ }Tam{ }{ }{ }{ }Aut{ }{ }CM?}}\\\\\n",
      "\\text{\\texttt{{-}{-}{-}{-}{-}{-}{-}{ }{ }{-}{-}{-}{ }{ }{-}{-}{-}{ }{ }{-}{-}{-}{-}{-}{ }{ }{-}{-}{-}{-}{-}{-}{ }{ }{-}{-}{-}{-}{-}{-}{-}{ }{ }{-}{-}{-}{-}{-}{ }{ }{-}{-}{-}{-}{-}{ }{ }{-}{-}{-}{-}{-}}}\\\\\n",
      "\\text{\\texttt{20a1{ }{ }{ }{ }{ }{ }{ }2{ }{ }{ }{ }3{ }{ }IV*{ }{ }{ }{ }{ }{ }{ }{ }{ }3{ }{ }C3{ }{ }{ }{ }{ }{ }{ }{ }{ }{ }{ }3{ }{ }{ }{ }{ }24{ }{ }False}}\\\\\n",
      "\\text{\\texttt{20a2{ }{ }{ }{ }{ }{ }{ }2{ }{ }{ }{ }3{ }{ }IV{ }{ }{ }{ }{ }{ }{ }{ }{ }{ }3{ }{ }C3{ }{ }{ }{ }{ }{ }{ }{ }{ }{ }{ }3{ }{ }{ }{ }{ }24{ }{ }False}}\\\\\n",
      "\\text{\\texttt{24a1{ }{ }{ }{ }{ }{ }{ }3{ }{ }{ }24{ }{ }I1*{ }{ }{ }{ }{ }{ }{ }{ }{ }2{ }{ }C4{ }{ }{ }{ }{ }{ }{ }{ }{ }{ }{ }4{ }{ }{ }{ }{ }24{ }{ }False}}\\\\\n",
      "\\text{\\texttt{24a2{ }{ }{ }{ }{ }{ }{ }3{ }{ }{ }24{ }{ }III*{ }{ }{ }{ }{ }{ }{ }{ }4{ }{ }C2{ }{ }{ }{ }{ }{ }{ }{ }{ }{ }{ }2{ }{ }{ }{ }{ }24{ }{ }False}}\\\\\n",
      "\\text{\\texttt{24a4{ }{ }{ }{ }{ }{ }{ }3{ }{ }{ }24{ }{ }III{ }{ }{ }{ }{ }{ }{ }{ }{ }4{ }{ }C2{ }{ }{ }{ }{ }{ }{ }{ }{ }{ }{ }2{ }{ }{ }{ }{ }24{ }{ }False}}\\\\\n",
      "\\text{\\texttt{24a5{ }{ }{ }{ }{ }{ }{ }3{ }{ }{ }24{ }{ }II*{ }{ }{ }{ }{ }{ }{ }{ }{ }6{ }{ }1{ }{ }{ }{ }{ }{ }{ }{ }{ }{ }{ }{ }1{ }{ }{ }{ }{ }24{ }{ }False}}\\\\\n",
      "\\text{\\texttt{32a1{ }{ }{ }{ }{ }{ }{ }5{ }{ }{ }{ }8{ }{ }I3*{ }{ }{ }{ }{ }{ }{ }{ }{ }2{ }{ }C4{ }{ }{ }{ }{ }{ }{ }{ }{ }{ }{ }4{ }{ }{ }{ }{ }24{ }{ }True}}\\\\\n",
      "\\text{\\texttt{32a2{ }{ }{ }{ }{ }{ }{ }5{ }{ }{ }{ }8{ }{ }III{ }{ }{ }{ }{ }{ }{ }{ }{ }4{ }{ }C2{ }{ }{ }{ }{ }{ }{ }{ }{ }{ }{ }2{ }{ }{ }{ }{ }24{ }{ }True}}\\\\\n",
      "\\text{\\texttt{32a3{ }{ }{ }{ }{ }{ }{ }5{ }{ }{ }{ }8{ }{ }I0*{ }{ }{ }{ }{ }{ }{ }{ }{ }2{ }{ }C2{ }x{ }C2{ }{ }{ }{ }{ }{ }1{ }{ }{ }{ }{ }24{ }{ }True}}\\\\\n",
      "\\text{\\texttt{48a1{ }{ }{ }{ }{ }{ }{ }4{ }{ }{ }24{ }{ }I0*{ }{ }{ }{ }{ }{ }{ }{ }{ }2{ }{ }C2{ }x{ }C2{ }{ }{ }{ }{ }{ }2{ }{ }{ }{ }{ }24{ }{ }False}}\\\\\n",
      "\\text{\\texttt{48a2{ }{ }{ }{ }{ }{ }{ }4{ }{ }{ }24{ }{ }I2*{ }{ }{ }{ }{ }{ }{ }{ }{ }2{ }{ }C2{ }x{ }C2{ }{ }{ }{ }{ }{ }2{ }{ }{ }{ }{ }24{ }{ }False}}\\\\\n",
      "\\text{\\texttt{48a4{ }{ }{ }{ }{ }{ }{ }4{ }{ }{ }24{ }{ }II{ }{ }{ }{ }{ }{ }{ }{ }{ }{ }6{ }{ }1{ }{ }{ }{ }{ }{ }{ }{ }{ }{ }{ }{ }1{ }{ }{ }{ }{ }24{ }{ }False}}\\\\\n",
      "\\text{\\texttt{48a5{ }{ }{ }{ }{ }{ }{ }4{ }{ }{ }24{ }{ }I3*{ }{ }{ }{ }{ }{ }{ }{ }{ }2{ }{ }C4{ }{ }{ }{ }{ }{ }{ }{ }{ }{ }{ }2{ }{ }{ }{ }{ }24{ }{ }False}}\\\\\n",
      "\\text{\\texttt{64a1{ }{ }{ }{ }{ }{ }{ }6{ }{ }{ }{ }8{ }{ }I2*{ }{ }{ }{ }{ }{ }{ }{ }{ }2{ }{ }C2{ }x{ }C2{ }{ }{ }{ }{ }{ }4{ }{ }{ }{ }{ }24{ }{ }True}}\\\\\n",
      "\\text{\\texttt{64a2{ }{ }{ }{ }{ }{ }{ }6{ }{ }{ }{ }8{ }{ }I5*{ }{ }{ }{ }{ }{ }{ }{ }{ }2{ }{ }C4{ }{ }{ }{ }{ }{ }{ }{ }{ }{ }{ }2{ }{ }{ }{ }{ }24{ }{ }True}}\\\\\n",
      "\\text{\\texttt{64a4{ }{ }{ }{ }{ }{ }{ }6{ }{ }{ }{ }8{ }{ }II{ }{ }{ }{ }{ }{ }{ }{ }{ }{ }6{ }{ }1{ }{ }{ }{ }{ }{ }{ }{ }{ }{ }{ }{ }1{ }{ }{ }{ }{ }24{ }{ }True}}\\\\\n",
      "\\text{\\texttt{80b1{ }{ }{ }{ }{ }{ }{ }4{ }{ }{ }{ }6{ }{ }I0*{ }{ }{ }{ }{ }{ }{ }{ }{ }2{ }{ }C2{ }x{ }C2{ }{ }{ }{ }{ }{ }1{ }{ }{ }{ }{ }24{ }{ }False}}\\\\\n",
      "\\text{\\texttt{80b2{ }{ }{ }{ }{ }{ }{ }4{ }{ }{ }{ }6{ }{ }II{ }{ }{ }{ }{ }{ }{ }{ }{ }{ }6{ }{ }1{ }{ }{ }{ }{ }{ }{ }{ }{ }{ }{ }{ }1{ }{ }{ }{ }{ }24{ }{ }False}}\\\\\n",
      "\\text{\\texttt{176b1{ }{ }{ }{ }{ }{ }4{ }{ }{ }{ }2{ }{ }II*{ }{ }{ }{ }{ }{ }{ }{ }{ }6{ }{ }1{ }{ }{ }{ }{ }{ }{ }{ }{ }{ }{ }{ }1{ }{ }{ }{ }{ }24{ }{ }False}}\\\\\n",
      "\\text{\\texttt{192c2{ }{ }{ }{ }{ }{ }6{ }{ }{ }24{ }{ }I4*{ }{ }{ }{ }{ }{ }{ }{ }{ }2{ }{ }C2{ }x{ }C2{ }{ }{ }{ }{ }{ }4{ }{ }{ }{ }{ }24{ }{ }False}}\\\\\n",
      "\\text{\\texttt{192c3{ }{ }{ }{ }{ }{ }6{ }{ }{ }24{ }{ }I6*{ }{ }{ }{ }{ }{ }{ }{ }{ }2{ }{ }C2{ }x{ }C2{ }{ }{ }{ }{ }{ }4{ }{ }{ }{ }{ }24{ }{ }False}}\\\\\n",
      "\\text{\\texttt{192c5{ }{ }{ }{ }{ }{ }6{ }{ }{ }24{ }{ }I7*{ }{ }{ }{ }{ }{ }{ }{ }{ }2{ }{ }C4{ }{ }{ }{ }{ }{ }{ }{ }{ }{ }{ }4{ }{ }{ }{ }{ }24{ }{ }False}}\\\\\n",
      "\\text{\\texttt{240d1{ }{ }{ }{ }{ }{ }4{ }{ }{ }{ }2{ }{ }I4*{ }{ }{ }{ }{ }{ }{ }{ }{ }2{ }{ }C2{ }x{ }C2{ }{ }{ }{ }{ }{ }4{ }{ }{ }{ }{ }{ }2{ }{ }False}}\\\\\n",
      "\\text{\\texttt{256a1{ }{ }{ }{ }{ }{ }8{ }{ }{ }{ }4{ }{ }III{ }{ }{ }{ }{ }{ }{ }{ }{ }4{ }{ }C2{ }{ }{ }{ }{ }{ }{ }{ }{ }{ }{ }2{ }{ }{ }{ }{ }24{ }{ }True}}\\\\\n",
      "\\text{\\texttt{256a2{ }{ }{ }{ }{ }{ }8{ }{ }{ }{ }4{ }{ }III*{ }{ }{ }{ }{ }{ }{ }{ }4{ }{ }C2{ }{ }{ }{ }{ }{ }{ }{ }{ }{ }{ }2{ }{ }{ }{ }{ }24{ }{ }True}}\\\\\n",
      "\\text{\\texttt{256b2{ }{ }{ }{ }{ }{ }8{ }{ }{ }{ }8{ }{ }III*{ }{ }{ }{ }{ }{ }{ }{ }4{ }{ }C2{ }{ }{ }{ }{ }{ }{ }{ }{ }{ }{ }2{ }{ }{ }{ }{ }24{ }{ }True}}\\\\\n",
      "\\text{\\texttt{320c2{ }{ }{ }{ }{ }{ }6{ }{ }{ }{ }6{ }{ }I4*{ }{ }{ }{ }{ }{ }{ }{ }{ }2{ }{ }C2{ }x{ }C2{ }{ }{ }{ }{ }{ }2{ }{ }{ }{ }{ }24{ }{ }False}}\\\\\n",
      "\\text{\\texttt{704a1{ }{ }{ }{ }{ }{ }6{ }{ }{ }{ }2{ }{ }II{ }{ }{ }{ }{ }{ }{ }{ }{ }{ }6{ }{ }1{ }{ }{ }{ }{ }{ }{ }{ }{ }{ }{ }{ }1{ }{ }{ }{ }{ }24{ }{ }False}}\\\\\n",
      "\\text{\\texttt{704d1{ }{ }{ }{ }{ }{ }6{ }{ }{ }{ }6{ }{ }II*{ }{ }{ }{ }{ }{ }{ }{ }{ }6{ }{ }1{ }{ }{ }{ }{ }{ }{ }{ }{ }{ }{ }{ }1{ }{ }{ }{ }{ }24{ }{ }False}}\\\\\n",
      "\\text{\\texttt{960g1{ }{ }{ }{ }{ }{ }6{ }{ }{ }{ }2{ }{ }I8*{ }{ }{ }{ }{ }{ }{ }{ }{ }2{ }{ }C2{ }x{ }C2{ }{ }{ }{ }{ }{ }4{ }{ }{ }{ }{ }{ }2{ }{ }False}}\n",
      "\\end{array}\n"
     ]
    }
   ],
   "source": [
    "from tabulate import tabulate\n",
    "\n",
    "helper = {0:24, 1:2}\n",
    "\n",
    "rows = []\n",
    "for (label, ktype, mtype) in first_examples:\n",
    "    E = EllipticCurve(label)\n",
    "    LD = E.local_data(p)\n",
    "    stab_index = ktype_to_stab_index(LD.kodaira_symbol())\n",
    "\n",
    "#     would like to check about potential mod-p type but i can't find a prime above p in reasonable time\n",
    "#     K1.<b> = E.division_field(3)\n",
    "#     EK1 = E.base_extend(K1)\n",
    "#     pp1 = K1.prime_above(2)\n",
    "#     e = mtype\n",
    "#     v1 = e * K1.valuation(pp1) \n",
    "#     LD1 = EK1.local_data(pp1)\n",
    "#     ap1 = LD1.minimal_model().a1()\n",
    "#     vap1 = v1(ap1)\n",
    "#     if vap1 == Infinity:\n",
    "#         is_pot_fake_ord = True\n",
    "#     elif vap1 < e*p/(p+1):\n",
    "#         is_pot_fake_ord = True\n",
    "#     else:\n",
    "#         is_pot_fake_ord = False\n",
    "    \n",
    "\n",
    "    j = E.j_invariant()\n",
    "    if ktype_to_cgroup_order(ktype) > 0:\n",
    "        ktype_str_desc = gap.StructureDescription(ktype_to_cgroup(ktype)) #to get group name\n",
    "        rows += [[label, LD.conductor_valuation(), mtype, LD.kodaira_symbol(), stab_index, ktype_str_desc,\n",
    "                  E.tamagawa_number(2), helper[mod(j,p)], E.has_cm()]]\n",
    "print(tabulate(rows, headers=['label','f','M','Kod','stab','Phi','Tam','Aut','CM?']))\n",
    "print(latex(tabulate(rows, headers=['label','f','M','Kod','stab','Phi','Tam','Aut','CM?'])))"
   ]
  },
  {
   "cell_type": "code",
   "execution_count": 9,
   "metadata": {},
   "outputs": [
    {
     "ename": "AttributeError",
     "evalue": "'function' object has no attribute 'tamagawa_number'",
     "output_type": "error",
     "traceback": [
      "\u001b[0;31m---------------------------------------------------------------------------\u001b[0m",
      "\u001b[0;31mAttributeError\u001b[0m                            Traceback (most recent call last)",
      "\u001b[0;32m<ipython-input-9-d07a142344a6>\u001b[0m in \u001b[0;36m<module>\u001b[0;34m()\u001b[0m\n\u001b[0;32m----> 1\u001b[0;31m \u001b[0mE\u001b[0m\u001b[0;34m.\u001b[0m\u001b[0mtamagawa_number\u001b[0m\u001b[0;34m(\u001b[0m\u001b[0mInteger\u001b[0m\u001b[0;34m(\u001b[0m\u001b[0;36m2\u001b[0m\u001b[0;34m)\u001b[0m\u001b[0;34m)\u001b[0m\u001b[0;34m\u001b[0m\u001b[0m\n\u001b[0m",
      "\u001b[0;31mAttributeError\u001b[0m: 'function' object has no attribute 'tamagawa_number'"
     ]
    }
   ],
   "source": []
  },
  {
   "cell_type": "code",
   "execution_count": 38,
   "metadata": {},
   "outputs": [
    {
     "name": "stdout",
     "output_type": "stream",
     "text": [
      "Local data at Principal ideal (3) of Integer Ring:\n",
      "Reduction type: bad additive\n",
      "Local minimal model: Elliptic Curve defined by y^2 = x^3 - 3*x + 83 over Rational Field\n",
      "Minimal discriminant valuation: 7\n",
      "Conductor exponent: 2\n",
      "Kodaira Symbol: I1*\n",
      "Tamagawa Number: 4\n",
      "()\n",
      "now base change Qp(sqrt(p))\n",
      "()\n"
     ]
    },
    {
     "data": {
      "text/plain": [
       "Local data at Fractional ideal (b):\n",
       "Reduction type: bad split multiplicative\n",
       "Local minimal model: Elliptic Curve defined by y^2 = x^3 + x^2 + 3 over Number Field in b with defining polynomial x^2 - 3\n",
       "Minimal discriminant valuation: 2\n",
       "Conductor exponent: 1\n",
       "Kodaira Symbol: I2\n",
       "Tamagawa Number: 2"
      ]
     },
     "execution_count": 38,
     "metadata": {},
     "output_type": "execute_result"
    }
   ],
   "source": [
    "p = 3\n",
    "E = EllipticCurve([0,1,0,0, p])\n",
    "E = E.quadratic_twist(p)\n",
    "print(E.local_data(p, proof=True))\n",
    "print()\n",
    "print(\"now base change Qp(sqrt(p))\")\n",
    "print()\n",
    "K2.<b> = NumberField(x^2-p)\n",
    "EK2 = E.base_extend(K2)\n",
    "pp2 = K2.prime_above(p)\n",
    "EK2.local_data(pp2, proof=True)"
   ]
  },
  {
   "cell_type": "code",
   "execution_count": null,
   "metadata": {},
   "outputs": [],
   "source": []
  },
  {
   "cell_type": "code",
   "execution_count": 6,
   "metadata": {},
   "outputs": [
    {
     "name": "stdout",
     "output_type": "stream",
     "text": [
      "Local data at Principal ideal (3) of Integer Ring:\n",
      "Reduction type: bad additive\n",
      "Local minimal model: Elliptic Curve defined by y^2 = x^3 - 3*x + 83 over Rational Field\n",
      "Minimal discriminant valuation: 7\n",
      "Conductor exponent: 2\n",
      "Kodaira Symbol: I1*\n",
      "Tamagawa Number: 4\n",
      "()\n",
      "now base change Qp(sqrt(p))\n",
      "()\n"
     ]
    },
    {
     "data": {
      "text/plain": [
       "Local data at Fractional ideal (b):\n",
       "Reduction type: bad split multiplicative\n",
       "Local minimal model: Elliptic Curve defined by y^2 = x^3 + x^2 + 3 over Number Field in b with defining polynomial x^2 - 3\n",
       "Minimal discriminant valuation: 2\n",
       "Conductor exponent: 1\n",
       "Kodaira Symbol: I2\n",
       "Tamagawa Number: 2"
      ]
     },
     "execution_count": 6,
     "metadata": {},
     "output_type": "execute_result"
    }
   ],
   "source": [
    "p = 3\n",
    "E = EllipticCurve([0,1,0,0, p])\n",
    "E = E.quadratic_twist(p)\n",
    "print(E.local_data(p))\n",
    "print()\n",
    "print(\"now base change Qp(sqrt(p))\")\n",
    "print()\n",
    "K2.<b> = NumberField(x^2-p)\n",
    "EK2 = E.base_extend(K2)\n",
    "pp2 = K2.prime_above(p)\n",
    "EK2.local_data(pp2, proof=True)"
   ]
  },
  {
   "cell_type": "code",
   "execution_count": 20,
   "metadata": {},
   "outputs": [
    {
     "name": "stdout",
     "output_type": "stream",
     "text": [
      "Local data at Principal ideal (7) of Integer Ring:\n",
      "Reduction type: bad additive\n",
      "Local minimal model: Elliptic Curve defined by y^2 = x^3 + 49 over Rational Field\n",
      "Minimal discriminant valuation: 4\n",
      "Conductor exponent: 2\n",
      "Kodaira Symbol: IV\n",
      "Tamagawa Number: 3\n",
      "\n",
      "now base change to Galois closure of Qp(p^1/3)\n",
      "\n",
      "Local data at Fractional ideal (7, b - zeta3 - 3):\n",
      "Reduction type: good\n",
      "Local minimal model: Elliptic Curve defined by y^2 = x^3 + ((-1108*zeta3-668)*b^2+(844*zeta3+2120)*b+2440*zeta3-1611) over Number Field in b with defining polynomial x^3 - 7 over its base field\n",
      "Minimal discriminant valuation: 0\n",
      "Conductor exponent: 0\n",
      "Kodaira Symbol: I0\n",
      "Tamagawa Number: 1\n"
     ]
    }
   ],
   "source": [
    "p = 7\n",
    "E = EllipticCurve([0,0,0,0, p^2]);\n",
    "print(E.local_data(p))\n",
    "\n",
    "print('')\n",
    "print(\"now base change to Galois closure of Qp(p^1/3)\")\n",
    "print('')\n",
    "m = 3\n",
    "\n",
    "K2 = CyclotomicField(m)\n",
    "K3.<b> = K2.extension(x^m - p)\n",
    "EK3m3 = E.base_extend(K3)\n",
    "pp3 = K3.prime_above(p)\n",
    "print(EK3m3.local_data(pp3, proof=True))"
   ]
  },
  {
   "cell_type": "code",
   "execution_count": 22,
   "metadata": {},
   "outputs": [
    {
     "data": {
      "text/plain": [
       "Local data at Principal ideal (2) of Integer Ring:\n",
       "Reduction type: bad additive\n",
       "Local minimal model: Elliptic Curve defined by y^2 = x^3 + 49 over Rational Field\n",
       "Minimal discriminant valuation: 4\n",
       "Conductor exponent: 2\n",
       "Kodaira Symbol: IV\n",
       "Tamagawa Number: 3"
      ]
     },
     "execution_count": 22,
     "metadata": {},
     "output_type": "execute_result"
    }
   ],
   "source": [
    "E.local_data(2)"
   ]
  },
  {
   "cell_type": "code",
   "execution_count": 25,
   "metadata": {},
   "outputs": [],
   "source": [
    "LD = E.local_data(2)"
   ]
  },
  {
   "cell_type": "code",
   "execution_count": 27,
   "metadata": {},
   "outputs": [
    {
     "data": {
      "text/plain": [
       "True"
      ]
     },
     "execution_count": 27,
     "metadata": {},
     "output_type": "execute_result"
    }
   ],
   "source": [
    "LD.has_additive_reduction()"
   ]
  },
  {
   "cell_type": "code",
   "execution_count": null,
   "metadata": {},
   "outputs": [],
   "source": [
    "# This example seemed a little fishy. My implementation of Kraus's tables says it's a (II, Q_8) example wit\n",
    "# but I don't have any (II^*, Q_8) examples, even though every other monodromy type of a II example\n",
    "# matches that of a II^* example. But I check by another means that it is actually of the claimed type."
   ]
  },
  {
   "cell_type": "code",
   "execution_count": 26,
   "metadata": {},
   "outputs": [
    {
     "name": "stdout",
     "output_type": "stream",
     "text": [
      "Elliptic Curve defined by y^2 = x^3 + x over Rational Field\n",
      "Local data at Principal ideal (2) of Integer Ring:\n",
      "Reduction type: bad additive\n",
      "Local minimal model: Elliptic Curve defined by y^2 = x^3 + x over Rational Field\n",
      "Minimal discriminant valuation: 6\n",
      "Conductor exponent: 6\n",
      "Kodaira Symbol: II\n",
      "Tamagawa Number: 1\n",
      "-48\n",
      "Number Field in b with defining polynomial x^16 - 72*x^15 + 3564*x^14 - 122472*x^13 + 3285306*x^12 - 69937344*x^11 + 1218905496*x^10 - 17513513496*x^9 + 211094512371*x^8 - 2140842262752*x^7 + 18226353286440*x^6 - 128001389808024*x^5 + 726535129001850*x^4 - 3217390988482296*x^3 + 10631732528388276*x^2 - 23676843314647440*x + 29125512911215233\n",
      "8\n"
     ]
    }
   ],
   "source": [
    "E = EllipticCurve('64a4'); print(E)\n",
    "print(E.local_data(2))\n",
    "print(E.c4())\n",
    "F.<b> = E.division_field(3); print(F)\n",
    "pp = F.prime_above(2); print(pp.ramification_index())"
   ]
  },
  {
   "cell_type": "code",
   "execution_count": 27,
   "metadata": {},
   "outputs": [
    {
     "data": {
      "text/plain": [
       "'64a4'"
      ]
     },
     "execution_count": 27,
     "metadata": {},
     "output_type": "execute_result"
    }
   ],
   "source": [
    "E.cremona_label()"
   ]
  },
  {
   "cell_type": "code",
   "execution_count": 22,
   "metadata": {},
   "outputs": [
    {
     "name": "stdout",
     "output_type": "stream",
     "text": [
      "Elliptic Curve defined by y^2 = x^3 + x^2 - x + 95 over Rational Field\n"
     ]
    },
    {
     "data": {
      "text/plain": [
       "Local data at Principal ideal (2) of Integer Ring:\n",
       "Reduction type: bad additive\n",
       "Local minimal model: Elliptic Curve defined by y^2 = x^3 + x^2 - x + 95 over Rational Field\n",
       "Minimal discriminant valuation: 18\n",
       "Conductor exponent: 6\n",
       "Kodaira Symbol: I8*\n",
       "Tamagawa Number: 4"
      ]
     },
     "execution_count": 22,
     "metadata": {},
     "output_type": "execute_result"
    }
   ],
   "source": [
    "#the first curve with maximal discriminant valuation; think i'm checking if i implemented Kraus incorrectly?\n",
    "E = EllipticCurve('960g1'); print(E)\n",
    "E.local_data(2)"
   ]
  },
  {
   "cell_type": "code",
   "execution_count": 23,
   "metadata": {},
   "outputs": [
    {
     "name": "stdout",
     "output_type": "stream",
     "text": [
      "2\n",
      "2^6 * 3 * 5\n"
     ]
    }
   ],
   "source": [
    "print(kraus(E))\n",
    "print(factor(960))"
   ]
  },
  {
   "cell_type": "code",
   "execution_count": 25,
   "metadata": {},
   "outputs": [
    {
     "data": {
      "text/plain": [
       "[('176b1', II*, 2), ('240d1', I4*, 2), ('704a1', II, 2), ('960g1', I8*, 2)]"
      ]
     },
     "execution_count": 25,
     "metadata": {},
     "output_type": "execute_result"
    }
   ],
   "source": [
    "# checking if the first C_2 examples with kodaira type II & II* are potentially ordinary (later: they are not)\n",
    "# should check more than just the first ones if they are!\n",
    "[t for t in first_examples if t[2] == 2]"
   ]
  },
  {
   "cell_type": "code",
   "execution_count": 189,
   "metadata": {},
   "outputs": [
    {
     "name": "stdout",
     "output_type": "stream",
     "text": [
      "Local data at Fractional ideal (b + 1):\n",
      "Reduction type: good\n",
      "Local minimal model: Elliptic Curve defined by y^2 + y = x^3 + (-1)*x^2 over Number Field in b with defining polynomial x^2 + 1\n",
      "Minimal discriminant valuation: 0\n",
      "Conductor exponent: 0\n",
      "Kodaira Symbol: I0\n",
      "Tamagawa Number: 1\n"
     ]
    },
    {
     "data": {
      "text/plain": [
       "'Base change has ordinary reduction: False'"
      ]
     },
     "execution_count": 189,
     "metadata": {},
     "output_type": "execute_result"
    }
   ],
   "source": [
    "E = EllipticCurve('176b1')\n",
    "K1.<b> = NumberField(x^2+1)\n",
    "EK1 = E.base_extend(K1)\n",
    "pp1 = K1.prime_above(2)\n",
    "print(EK1.local_data(pp1))\n",
    "Ekappa1 = EK1.reduction(pp1); \n",
    "\"Base change has ordinary reduction: {}\".format(Ekappa1.is_ordinary())"
   ]
  },
  {
   "cell_type": "code",
   "execution_count": 212,
   "metadata": {},
   "outputs": [],
   "source": [
    "E.zeta_series?"
   ]
  },
  {
   "cell_type": "code",
   "execution_count": 53,
   "metadata": {},
   "outputs": [
    {
     "name": "stdout",
     "output_type": "stream",
     "text": [
      "Local data at Fractional ideal (b):\n",
      "Reduction type: good\n",
      "Local minimal model: Elliptic Curve defined by y^2 + y = x^3 + (-1)*x^2 over Number Field in b with defining polynomial x^2 - 2\n",
      "Minimal discriminant valuation: 0\n",
      "Conductor exponent: 0\n",
      "Kodaira Symbol: I0\n",
      "Tamagawa Number: 1\n"
     ]
    },
    {
     "data": {
      "text/plain": [
       "'Base change has ordinary reduction: False'"
      ]
     },
     "execution_count": 53,
     "metadata": {},
     "output_type": "execute_result"
    }
   ],
   "source": [
    "E = EllipticCurve('704a1')\n",
    "K1.<b> = NumberField(x^2-2)\n",
    "EK1 = E.base_extend(K1)\n",
    "pp1 = K1.prime_above(2)\n",
    "print(EK1.local_data(pp1))\n",
    "Ekappa1 = EK1.reduction(pp1); \n",
    "\"Base change has ordinary reduction: {}\".format(Ekappa1.is_ordinary())"
   ]
  },
  {
   "cell_type": "code",
   "execution_count": 85,
   "metadata": {},
   "outputs": [
    {
     "data": {
      "text/plain": [
       "[('176b1', II*, 2), ('240d1', I4*, 2), ('704a1', II, 2), ('960g1', I8*, 2)]"
      ]
     },
     "execution_count": 85,
     "metadata": {},
     "output_type": "execute_result"
    }
   ],
   "source": [
    "# checking if the other first C_2 examples with kodaira type II & II* are pot ordinary (later: they are not)\n",
    "# should check more than just the first ones if they are!\n",
    "[t for t in first_examples if t[2] == 2]"
   ]
  },
  {
   "cell_type": "code",
   "execution_count": 93,
   "metadata": {},
   "outputs": [
    {
     "name": "stdout",
     "output_type": "stream",
     "text": [
      "Local data at Fractional ideal (b + 1):\n",
      "Reduction type: good\n",
      "Local minimal model: Elliptic Curve defined by y^2 + x*y + y = x^3 + x^2 over Number Field in b with defining polynomial x^2 + 1\n",
      "Minimal discriminant valuation: 0\n",
      "Conductor exponent: 0\n",
      "Kodaira Symbol: I0\n",
      "Tamagawa Number: 1\n"
     ]
    },
    {
     "data": {
      "text/plain": [
       "'Base change has ordinary reduction: True'"
      ]
     },
     "execution_count": 93,
     "metadata": {},
     "output_type": "execute_result"
    }
   ],
   "source": [
    "E = EllipticCurve('240d1')\n",
    "K1.<b> = NumberField(x^2+1)\n",
    "EK1 = E.base_extend(K1)\n",
    "pp1 = K1.prime_above(2)\n",
    "print(EK1.local_data(pp1))\n",
    "Ekappa1 = EK1.reduction(pp1); \n",
    "\"Base change has ordinary reduction: {}\".format(Ekappa1.is_ordinary())"
   ]
  },
  {
   "cell_type": "code",
   "execution_count": 95,
   "metadata": {},
   "outputs": [
    {
     "name": "stdout",
     "output_type": "stream",
     "text": [
      "Local data at Fractional ideal (b):\n",
      "Reduction type: good\n",
      "Local minimal model: Elliptic Curve defined by y^2 + x*y + y = x^3 + x^2 over Number Field in b with defining polynomial x^2 - 2\n",
      "Minimal discriminant valuation: 0\n",
      "Conductor exponent: 0\n",
      "Kodaira Symbol: I0\n",
      "Tamagawa Number: 1\n"
     ]
    },
    {
     "data": {
      "text/plain": [
       "'Base change has ordinary reduction: True'"
      ]
     },
     "execution_count": 95,
     "metadata": {},
     "output_type": "execute_result"
    }
   ],
   "source": [
    "E = EllipticCurve('960g1')\n",
    "K1.<b> = NumberField(x^2-2)\n",
    "EK1 = E.base_extend(K1)\n",
    "pp1 = K1.prime_above(2)\n",
    "print(EK1.local_data(pp1))\n",
    "Ekappa1 = EK1.reduction(pp1); \n",
    "\"Base change has ordinary reduction: {}\".format(Ekappa1.is_ordinary())"
   ]
  },
  {
   "cell_type": "code",
   "execution_count": null,
   "metadata": {},
   "outputs": [],
   "source": []
  },
  {
   "cell_type": "code",
   "execution_count": 54,
   "metadata": {},
   "outputs": [
    {
     "data": {
      "text/plain": [
       "[('80b1', I0*, 6), ('80b2', II, 6), ('320c2', I4*, 6), ('704d1', II*, 6)]"
      ]
     },
     "execution_count": 54,
     "metadata": {},
     "output_type": "execute_result"
    }
   ],
   "source": [
    "# checking if the first C_6 examples with kodaira type II & II* are potentially ordinary \n",
    "# dokchitsers say they should not be (later: they are not)\n",
    "# should check more than just the first ones if they are!\n",
    "[t for t in first_examples if t[2] == 6]"
   ]
  },
  {
   "cell_type": "code",
   "execution_count": 82,
   "metadata": {},
   "outputs": [
    {
     "name": "stdout",
     "output_type": "stream",
     "text": [
      "Local data at Fractional ideal (2, 55679070859/87052124386246104*b^11 + 543513551813/87052124386246104*b^10 + 304583972105/29017374795415368*b^9 - 2474807311483/43526062193123052*b^8 + 1800101237797/29017374795415368*b^7 - 179106586536701/87052124386246104*b^6 - 2215189117245107/87052124386246104*b^5 - 1113869018933723/43526062193123052*b^4 + 2346839620445851/29017374795415368*b^3 - 76782605638147991/87052124386246104*b^2 + 1795601785066469/9672458265138456*b + 1657414491040435/588190029636798):\n",
      "Reduction type: good\n",
      "Local minimal model: Elliptic Curve defined by y^2 + (26038456402/10881515548280763*b^11+712835709007/21763031096561526*b^10+641894646236/3627171849426921*b^9+6735207389239/10881515548280763*b^8+12989331332893/3627171849426921*b^7+118035578036308/10881515548280763*b^6-560080168289173/21763031096561526*b^5-1704220958276795/21763031096561526*b^4+79383395884873/315406247776254*b^3-17684393375111078/10881515548280763*b^2-4922410383957193/2418114566284614*b+578047749072412/294095014818399)*y = x^3 + (142934899787/43526062193123052*b^11+2218481885963/43526062193123052*b^10+7834386155099/21763031096561526*b^9+79401266707813/43526062193123052*b^8+438541023269879/43526062193123052*b^7+20811858544355/500299565438196*b^6+1962771752181757/21763031096561526*b^5+9987317393845523/43526062193123052*b^4+39415814179753843/43526062193123052*b^3+13358240375302765/43526062193123052*b^2+34121487380393155/21763031096561526*b-1617654320250797/392126686424532)*x^2 + (814944973529/7254343698853842*b^11+22891078539097/14508687397707684*b^10+65501611522903/7254343698853842*b^9+267889548672715/7254343698853842*b^8+1686068663313953/7254343698853842*b^7+489888421699409/537358792507692*b^6+4347986606408327/7254343698853842*b^5+24941641145157371/7254343698853842*b^4+257500235334310009/7254343698853842*b^3-12848540666566061/308695476546972*b^2-1053850395209528029/7254343698853842*b+2170364851921592/10892407956237)*x + (13245012598213/14508687397707684*b^11+2107706531622553/87052124386246104*b^10+19243214249238691/87052124386246104*b^9+92641616836899005/87052124386246104*b^8+50943564343730464/10881515548280763*b^7+2165038240245590197/87052124386246104*b^6+1642803447372321875/29017374795415368*b^5-151123732524904297/3001797392629176*b^4+6863315474716844095/21763031096561526*b^3+6021415016049853165/3784874973315048*b^2-616927822447695192325/87052124386246104*b+15787661747734071055/2352760118547192) over Number Field in b with defining polynomial x^12 + 10*x^11 + 39*x^10 + 180*x^9 + 1494*x^8 + 2510*x^7 - 4501*x^6 + 69460*x^5 + 91146*x^4 - 983310*x^3 + 3758859*x^2 - 6802240*x + 4665589\n",
      "Minimal discriminant valuation: 0\n",
      "Conductor exponent: 0\n",
      "Kodaira Symbol: I0\n",
      "Tamagawa Number: 1\n"
     ]
    },
    {
     "data": {
      "text/plain": [
       "'Base change has ordinary reduction: False'"
      ]
     },
     "execution_count": 82,
     "metadata": {},
     "output_type": "execute_result"
    }
   ],
   "source": [
    "E = EllipticCurve('80b2')\n",
    "K1.<b> = E.division_field(3)\n",
    "EK1 = E.base_extend(K1)\n",
    "pp1 = K1.prime_above(2)\n",
    "print(EK1.local_data(pp1))\n",
    "Ekappa1 = EK1.reduction(pp1); \n",
    "\"Base change has ordinary reduction: {}\".format(Ekappa1.is_ordinary())"
   ]
  },
  {
   "cell_type": "code",
   "execution_count": 80,
   "metadata": {},
   "outputs": [
    {
     "data": {
      "text/plain": [
       "Number Field in a with defining polynomial x^12 + 10*x^11 + 39*x^10 + 180*x^9 + 1494*x^8 + 2510*x^7 - 4501*x^6 + 69460*x^5 + 91146*x^4 - 983310*x^3 + 3758859*x^2 - 6802240*x + 4665589"
      ]
     },
     "execution_count": 80,
     "metadata": {},
     "output_type": "execute_result"
    }
   ],
   "source": [
    "F.<a> = E.division_field(3); F"
   ]
  },
  {
   "cell_type": "code",
   "execution_count": 84,
   "metadata": {},
   "outputs": [
    {
     "name": "stdout",
     "output_type": "stream",
     "text": [
      "Local data at Fractional ideal (2, 464369891693949491/12146192931537889893414595008000*b^11 + 19931631002486805847/2429238586307577978682919001600*b^10 - 3510173669736819617/12146192931537889893414595008*b^9 + 5379953630517975859/441358754779719836243262900*b^8 - 2953430967693583376669683/12146192931537889893414595008000*b^7 + 21799941310506971002413023/4048730977179296631138198336000*b^6 - 40981512668744867245654763/607309646576894494670729750400*b^5 + 137631029113064961902081731/151827411644223623667682437600*b^4 - 531858149423904864154566251/87382682960704243837515072000*b^3 + 656490912127407782146126737979/12146192931537889893414595008000*b^2 - 363755039023973300606678336063/6073096465768944946707297504000*b - 15787160779122113967240869171/23816064571642921359636460800):\n",
      "Reduction type: good\n",
      "Local minimal model: Elliptic Curve defined by y^2 + (-2822226479394788761/2699153984786197754092132224000*b^11+523365029267410013393/24292385863075779786829190016000*b^10-880077493935164761399/971695434523031191473167600640*b^9+339497558819590671907/37956852911055905916920609400*b^8-5447494070729096642457773/24292385863075779786829190016000*b^7+1530534919224585305767351/4858477172615155957365838003200*b^6-25972956206133962468748197/2699153984786197754092132224000*b^5-193522930232062068430731521/1214619293153788989341459500800*b^4-17334081643434556127270386639/24292385863075779786829190016000*b^3+655572781117534808763281131837/24292385863075779786829190016000*b^2-2458908488484797932447931821889/24292385863075779786829190016000*b+3815062675696886241145175838773/714481937149287640789093824000)*y = x^3 + (-336759170147284561/168697124049137359630758264000*b^11+20329429395940884847/337394248098274719261516528000*b^10-128650677661822968827/53983079695723955081842644480*b^9+5666260010478993631711/134957699239309887704606611200*b^8-22951116440752812966329/24992166525798127352704928000*b^7+218082212461549879223891/21087140506142169953844783000*b^6-187138031168502624203352593/1349576992393098877046066112000*b^5+124402459200449479942151711/134957699239309887704606611200*b^4-6051357636584286836350468279/674788496196549438523033056000*b^3+5169748666912115803311555263/112464749366091573087172176000*b^2-12058001264611351170001546133/89971799492873258469737740800*b+43554236437927560714864869731/13231146984246067422020256000)*x^2 + (137098331282516995362433417301/899717994928732584697377408000*b^11-1583578859381311267562937944309/161949239087171865245527933440*b^10+207128752656672722886688460333/1044833800562399130616309248*b^9-3804311450388516010805344129369381/1619492390871718652455279334400*b^8+92014699424807332988300077460408683/8097461954358593262276396672000*b^7+111818393132755603611378122422678619/2024365488589648315569099168000*b^6-48622485565053104693587558552689781/17994359898574651693947548160*b^5+78463389081189142343313110735529544909/1619492390871718652455279334400*b^4-1613964458945620192716658748922353558011/8097461954358593262276396672000*b^3-36293186112665819482163535743815351649/31630710759213254930767174500*b^2+2701347907081679745834895804103030789477/1012182744294824157784549584000*b+801960748987151092926629623549912506403/19052851657314337087709168640)*x + (63061441889067467483040800952651937/2699153984786197754092132224000*b^11-204662198704223600072189565653155291909/12146192931537889893414595008000*b^10+152807574570037133459723805238774468141/242923858630757797868291900160*b^9-62351039524046260681065062324201384662487/4858477172615155957365838003200*b^8+4345489416697852305179241384352067454121331/24292385863075779786829190016000*b^7-5643448989886518362106378243327068726641513/3036548232884472473353648752000*b^6+5307529632862834726017493692971062712707159/337394248098274719261516528000*b^5-201045051136644274071306462902721930616030417/4858477172615155957365838003200*b^4-7757331603787808261071937809720304407210533347/24292385863075779786829190016000*b^3+719837532186393496556596986542083058337707261/6073096465768944946707297504000*b^2+32580358062248692351009029006692880689512403483/2429238586307577978682919001600*b+4851655686061386216018417089365929320858234729/1428963874298575281578187648000) over Number Field in b with defining polynomial x^12 - 38*x^11 + 1449*x^10 - 30870*x^9 + 646722*x^8 - 9018022*x^7 + 114683081*x^6 - 963907034*x^5 + 7090981506*x^4 - 26871596394*x^3 - 112770754839*x^2 + 343402425254*x + 7264171236001\n",
      "Minimal discriminant valuation: 0\n",
      "Conductor exponent: 0\n",
      "Kodaira Symbol: I0\n",
      "Tamagawa Number: 1\n"
     ]
    },
    {
     "data": {
      "text/plain": [
       "'Base change has ordinary reduction: False'"
      ]
     },
     "execution_count": 84,
     "metadata": {},
     "output_type": "execute_result"
    }
   ],
   "source": [
    "E = EllipticCurve('704d1')\n",
    "K1.<b> = E.division_field(3)\n",
    "EK1 = E.base_extend(K1)\n",
    "pp1 = K1.prime_above(2)\n",
    "print(EK1.local_data(pp1))\n",
    "Ekappa1 = EK1.reduction(pp1); \n",
    "\"Base change has ordinary reduction: {}\".format(Ekappa1.is_ordinary())"
   ]
  },
  {
   "cell_type": "code",
   "execution_count": 118,
   "metadata": {},
   "outputs": [
    {
     "data": {
      "text/plain": [
       "[('32a1', I3*, 8),\n",
       " ('32a2', III, 8),\n",
       " ('32a3', I0*, 8),\n",
       " ('64a1', I2*, 8),\n",
       " ('64a2', I5*, 8),\n",
       " ('64a4', II, 8),\n",
       " ('256a1', III, 4),\n",
       " ('256a2', III*, 4),\n",
       " ('256b2', III*, 8)]"
      ]
     },
     "execution_count": 118,
     "metadata": {},
     "output_type": "execute_result"
    }
   ],
   "source": [
    "# which curves have CM?\n",
    "filter(lambda t: EllipticCurve(t[0]).has_cm(), first_examples)"
   ]
  },
  {
   "cell_type": "code",
   "execution_count": 116,
   "metadata": {},
   "outputs": [
    {
     "data": {
      "text/plain": [
       "[('32a1', I3*, 8),\n",
       " ('32a2', III, 8),\n",
       " ('32a3', I0*, 8),\n",
       " ('64a1', I2*, 8),\n",
       " ('64a2', I5*, 8),\n",
       " ('64a4', II, 8),\n",
       " ('256b2', III*, 8)]"
      ]
     },
     "execution_count": 116,
     "metadata": {},
     "output_type": "execute_result"
    }
   ],
   "source": [
    "filter(lambda t: t[2]==8, first_examples)"
   ]
  },
  {
   "cell_type": "code",
   "execution_count": 202,
   "metadata": {},
   "outputs": [
    {
     "name": "stdout",
     "output_type": "stream",
     "text": [
      "[('48a4', II, 24), ('64a4', II, 8), ('80b2', II, 6), ('704a1', II, 2)]\n",
      "Local data at Fractional ideal (-b^2 + b + 1):\n",
      "Reduction type: bad additive\n",
      "Local minimal model: Elliptic Curve defined by y^2 = x^3 + x^2 + x over Cyclotomic Field of order 12 and degree 4\n",
      "Minimal discriminant valuation: 8\n",
      "Conductor exponent: 3\n",
      "Kodaira Symbol: I1*\n",
      "Tamagawa Number: 4\n",
      "()\n",
      "Local data at Fractional ideal (-b^2 + b + 1):\n",
      "Reduction type: bad additive\n",
      "Local minimal model: Elliptic Curve defined by y^2 = x^3 + x over Cyclotomic Field of order 12 and degree 4\n",
      "Minimal discriminant valuation: 12\n",
      "Conductor exponent: 8\n",
      "Kodaira Symbol: I0*\n",
      "Tamagawa Number: 4\n",
      "()\n",
      "Local data at Fractional ideal (-b^2 + b + 1):\n",
      "Reduction type: bad additive\n",
      "Local minimal model: Elliptic Curve defined by y^2 = x^3 + (-1)*x^2 + (-1)*x over Cyclotomic Field of order 12 and degree 4\n",
      "Minimal discriminant valuation: 8\n",
      "Conductor exponent: 2\n",
      "Kodaira Symbol: IV*\n",
      "Tamagawa Number: 3\n",
      "()\n",
      "Local data at Fractional ideal (-b^2 + b + 1):\n",
      "Reduction type: bad additive\n",
      "Local minimal model: Elliptic Curve defined by y^2 = x^3 + x^2 + (-1)*x + 1 over Cyclotomic Field of order 12 and degree 4\n",
      "Minimal discriminant valuation: 12\n",
      "Conductor exponent: 8\n",
      "Kodaira Symbol: I0*\n",
      "Tamagawa Number: 4\n",
      "()\n"
     ]
    }
   ],
   "source": [
    "# \n",
    "L = filter(lambda t: t[1]==KodairaSymbol('II'), first_examples); print(L)\n",
    "for t in L:\n",
    "    E = EllipticCurve(t[0])\n",
    "    K1.<b> = CyclotomicField(12)\n",
    "    EK1 = E.base_extend(K1)\n",
    "    pp1 = K1.prime_above(2)\n",
    "    print(EK1.local_data(pp1))\n",
    "    print()"
   ]
  },
  {
   "cell_type": "code",
   "execution_count": 74,
   "metadata": {},
   "outputs": [
    {
     "name": "stdout",
     "output_type": "stream",
     "text": [
      "Local data at Fractional ideal (b):\n",
      "Reduction type: bad additive\n",
      "Local minimal model: Elliptic Curve defined by y^2 = x^3 + x over Number Field in b with defining polynomial x^3 - 2\n",
      "Minimal discriminant valuation: 18\n",
      "Conductor exponent: 14\n",
      "Kodaira Symbol: I0*\n",
      "Tamagawa Number: 2\n"
     ]
    }
   ],
   "source": [
    "# testing whether D-D formula is correct in this case\n",
    "# (wondered if C_2, II/II* examples in Halle Nicaise are special)\n",
    "E = EllipticCurve('64a4');\n",
    "K1.<b> = NumberField(x^3-2)\n",
    "EK1 = E.base_extend(K1)\n",
    "pp1 = K1.prime_above(2)\n",
    "print(EK1.local_data(pp1))"
   ]
  },
  {
   "cell_type": "code",
   "execution_count": 76,
   "metadata": {},
   "outputs": [
    {
     "data": {
      "text/plain": [
       "0"
      ]
     },
     "execution_count": 76,
     "metadata": {},
     "output_type": "execute_result"
    }
   ],
   "source": [
    "LD.discriminant_valuation"
   ]
  },
  {
   "cell_type": "code",
   "execution_count": 14,
   "metadata": {},
   "outputs": [],
   "source": [
    "e6_egs = [t for t in first_examples if t[1] in [KodairaSymbol('II'), KodairaSymbol('II*')]]\n",
    "e6_curves = [EllipticCurve(eg[0]) for eg in e6_egs]"
   ]
  },
  {
   "cell_type": "code",
   "execution_count": 15,
   "metadata": {},
   "outputs": [
    {
     "data": {
      "text/plain": [
       "[Elliptic Curve defined by y^2 = x^3 - x^2 - 384*x - 2772 over Rational Field,\n",
       " Elliptic Curve defined by y^2 = x^3 + x^2 + x over Rational Field,\n",
       " Elliptic Curve defined by y^2 = x^3 + x over Rational Field,\n",
       " Elliptic Curve defined by y^2 = x^3 - x^2 - x over Rational Field,\n",
       " Elliptic Curve defined by y^2 = x^3 + x^2 - 5*x - 13 over Rational Field,\n",
       " Elliptic Curve defined by y^2 = x^3 + x^2 - x + 1 over Rational Field,\n",
       " Elliptic Curve defined by y^2 = x^3 - x^2 + 11*x - 19 over Rational Field]"
      ]
     },
     "execution_count": 15,
     "metadata": {},
     "output_type": "execute_result"
    }
   ],
   "source": [
    "E = e6_curves"
   ]
  },
  {
   "cell_type": "code",
   "execution_count": 8,
   "metadata": {},
   "outputs": [
    {
     "ename": "NameError",
     "evalue": "name 'things' is not defined",
     "output_type": "error",
     "traceback": [
      "\u001b[0;31m---------------------------------------------------------------------------\u001b[0m",
      "\u001b[0;31mNameError\u001b[0m                                 Traceback (most recent call last)",
      "\u001b[0;32m<ipython-input-8-804b3fc69ddb>\u001b[0m in \u001b[0;36m<module>\u001b[0;34m()\u001b[0m\n\u001b[0;32m----> 1\u001b[0;31m \u001b[0mthings\u001b[0m\u001b[0;34m\u001b[0m\u001b[0m\n\u001b[0m",
      "\u001b[0;31mNameError\u001b[0m: name 'things' is not defined"
     ]
    }
   ],
   "source": [
    " things"
   ]
  },
  {
   "cell_type": "code",
   "execution_count": 9,
   "metadata": {},
   "outputs": [
    {
     "name": "stdout",
     "output_type": "stream",
     "text": [
      "Local data at Fractional ideal (b):\n",
      "Reduction type: bad additive\n",
      "Local minimal model: Elliptic Curve defined by y^2 = x^3 + x over Number Field in b with defining polynomial x^3 - 2\n",
      "Minimal discriminant valuation: 18\n",
      "Conductor exponent: 14\n",
      "Kodaira Symbol: I0*\n",
      "Tamagawa Number: 2\n"
     ]
    }
   ],
   "source": [
    "# testing whether D-D formula is correct in this case\n",
    "# (wondered if C_2, II/II* examples in Halle Nicaise are special)\n",
    "E = EllipticCurve('64a4');\n",
    "K1.<b> = NumberField(x^3-2)\n",
    "EK1 = E.base_extend(K1)\n",
    "pp1 = K1.prime_above(2)\n",
    "print(EK1.local_data(pp1))"
   ]
  },
  {
   "cell_type": "code",
   "execution_count": null,
   "metadata": {},
   "outputs": [],
   "source": []
  },
  {
   "cell_type": "code",
   "execution_count": null,
   "metadata": {},
   "outputs": [],
   "source": []
  },
  {
   "cell_type": "code",
   "execution_count": 10,
   "metadata": {},
   "outputs": [],
   "source": [
    "### computing some Swan conductors"
   ]
  },
  {
   "cell_type": "code",
   "execution_count": null,
   "metadata": {},
   "outputs": [],
   "source": [
    "# testing whether D-D formula is correct in this case\n",
    "# (wondered if C_2, II/II* examples in Halle Nicaise are special)\n",
    "E = EllipticCurve('64a4');\n",
    "K1.<b> = NumberField(x^3-2)\n",
    "EK1 = E.base_extend(K1)"
   ]
  },
  {
   "cell_type": "code",
   "execution_count": null,
   "metadata": {},
   "outputs": [],
   "source": []
  },
  {
   "cell_type": "code",
   "execution_count": 11,
   "metadata": {},
   "outputs": [],
   "source": [
    "### computing some Swan conductors"
   ]
  },
  {
   "cell_type": "code",
   "execution_count": 28,
   "metadata": {},
   "outputs": [
    {
     "data": {
      "text/plain": [
       "Local data at Principal ideal (2) of Integer Ring:\n",
       "Reduction type: bad additive\n",
       "Local minimal model: Elliptic Curve defined by y^2 = x^3 + x^2 + 4*x + 4 over Rational Field\n",
       "Minimal discriminant valuation: 8\n",
       "Conductor exponent: 2\n",
       "Kodaira Symbol: IV*\n",
       "Tamagawa Number: 3"
      ]
     },
     "execution_count": 28,
     "metadata": {},
     "output_type": "execute_result"
    }
   ],
   "source": [
    "E = EllipticCurve(first_examples[0][0]); E\n",
    "LD = E.local_data(2); LD"
   ]
  },
  {
   "cell_type": "code",
   "execution_count": 32,
   "metadata": {},
   "outputs": [],
   "source": [
    "KodairaSymbol?"
   ]
  },
  {
   "cell_type": "code",
   "execution_count": 33,
   "metadata": {},
   "outputs": [],
   "source": [
    "def ctame(S):\n",
    "    if S == KodairaSymbol('In*'):\n",
    "        return 1/2\n",
    "    elif S == KodairaSymbol('II'):\n",
    "        return 1/6\n",
    "    elif S == KodairaSymbol('II*'):\n",
    "        return 5/6\n",
    "    elif S == KodairaSymbol('III'):\n",
    "        return 1/4\n",
    "    elif S == KodairaSymbol('III*'):\n",
    "        return 3/4\n",
    "    elif S == KodairaSymbol('IV'):\n",
    "        return 1/3\n",
    "    elif S == KodairaSymbol('IV*'):\n",
    "        return 2/3\n",
    "    else:\n",
    "        raise ValueError(\"Kodaira type In not implemented\")"
   ]
  },
  {
   "cell_type": "code",
   "execution_count": 42,
   "metadata": {},
   "outputs": [
    {
     "data": {
      "text/plain": [
       "18"
      ]
     },
     "execution_count": 42,
     "metadata": {},
     "output_type": "execute_result"
    }
   ],
   "source": [
    "LD.discriminant_valuation()"
   ]
  },
  {
   "cell_type": "code",
   "execution_count": 52,
   "metadata": {},
   "outputs": [
    {
     "name": "stdout",
     "output_type": "stream",
     "text": [
      "('32a1', 1, 1/2, 1/2, 8)\n",
      "('32a2', 1/2, 1/4, 1/4, 8)\n",
      "('32a3', 3/4, 1/2, 1/4, 8)\n",
      "('64a1', 1, 1/2, 1/2, 8)\n",
      "('64a2', 5/4, 1/2, 3/4, 8)\n",
      "('64a4', 1/2, 1/6, 1/3, 8)\n",
      "('176b1', 1, 5/6, 1/6, 2)\n",
      "('240d1', 1, 1/2, 1/2, 2)\n",
      "('256a1', 3/4, 1/4, 1/2, 4)\n",
      "('256a2', 5/4, 3/4, 1/2, 4)\n",
      "('256b2', 5/4, 3/4, 1/2, 8)\n",
      "('704a1', 1/2, 1/6, 1/3, 2)\n",
      "('960g1', 3/2, 1/2, 1, 2)\n"
     ]
    }
   ],
   "source": [
    "for label, symbol, mtype in first_examples:\n",
    "    if mtype in [2,4,8]:\n",
    "        E = EllipticCurve(label)\n",
    "        LD = E.local_data(2)\n",
    "        c = LD.discriminant_valuation()/12\n",
    "        ct  = ctame(symbol)\n",
    "        cw = c - ct\n",
    "        print((label, c, ct, cw, mtype))"
   ]
  },
  {
   "cell_type": "code",
   "execution_count": null,
   "metadata": {},
   "outputs": [],
   "source": [
    "power"
   ]
  }
 ],
 "metadata": {
  "kernelspec": {
   "display_name": "SageMath 8.2",
   "language": "",
   "name": "sagemath"
  },
  "language_info": {
   "codemirror_mode": {
    "name": "ipython",
    "version": 2
   },
   "file_extension": ".py",
   "mimetype": "text/x-python",
   "name": "python",
   "nbconvert_exporter": "python",
   "pygments_lexer": "ipython2",
   "version": "2.7.14"
  }
 },
 "nbformat": 4,
 "nbformat_minor": 2
}
