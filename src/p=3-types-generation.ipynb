{
 "cells": [
  {
   "cell_type": "code",
   "execution_count": 4,
   "metadata": {},
   "outputs": [],
   "source": [
    "import time\n",
    "load(\"kraus_tables.sage\")"
   ]
  },
  {
   "cell_type": "code",
   "execution_count": 5,
   "metadata": {},
   "outputs": [],
   "source": [
    "DB = CremonaDatabase(); DB\n",
    "p = 3\n",
    "kraus = kraus_table_Q3"
   ]
  },
  {
   "cell_type": "code",
   "execution_count": null,
   "metadata": {},
   "outputs": [],
   "source": []
  },
  {
   "cell_type": "code",
   "execution_count": 6,
   "metadata": {},
   "outputs": [],
   "source": [
    "# need to impose bad additive reduction and potentially good reduction (j valuation >= 0)\n",
    "# then compute monodromy type and record Kodaira type\n",
    "\n",
    "def mtype_ktype(conductor_range):\n",
    "    t0 = time.time()    \n",
    "    label_type_tuples = []\n",
    "    no_curves = 0\n",
    "    \n",
    "    for E in DB.iter(conductor_range):\n",
    "        no_curves += 1\n",
    "        if valuation(E.j_invariant(), p) >= 0:\n",
    "            # run Tate's algorithm to get reduction type\n",
    "            LD = E.local_data(p)\n",
    "            if LD.has_additive_reduction():\n",
    "                # run Kraus's algorithm to determine monodromy type (returns group order)\n",
    "                m_type = kraus(E)\n",
    "                label_type_tuples.append((E.cremona_label(), \n",
    "                                          LD.kodaira_symbol(), \n",
    "                                          m_type))\n",
    "    t1 = time.time()\n",
    "    \n",
    "    print('{} curves in conductor range.'.format(no_curves))\n",
    "    print('{} curves with bad potentially good reduction.'.format(len(label_type_tuples)))\n",
    "    print(\"Time: {}\".format(t1-t0))\n",
    "    return label_type_tuples"
   ]
  },
  {
   "cell_type": "code",
   "execution_count": 8,
   "metadata": {},
   "outputs": [
    {
     "name": "stdout",
     "output_type": "stream",
     "text": [
      "Conductor range: (0, 10000, 3)\n",
      "50462 curves in conductor range.\n",
      "7475 curves with bad potentially good reduction.\n",
      "Time: 35.8027670383\n",
      "\n",
      "Conductor range: (10000, 20000, 3)\n",
      "53983 curves in conductor range.\n",
      "8210 curves with bad potentially good reduction.\n",
      "Time: 36.429915905\n",
      "\n",
      "Conductor range: (20000, 30000, 3)\n",
      "53554 curves in conductor range.\n",
      "8580 curves with bad potentially good reduction.\n",
      "Time: 36.9982590675\n",
      "\n",
      "Conductor range: (30000, 40000, 3)\n",
      "53121 curves in conductor range.\n",
      "8085 curves with bad potentially good reduction.\n",
      "Time: 35.634706974\n",
      "\n",
      "Conductor range: (40000, 50000, 3)\n",
      "53480 curves in conductor range.\n",
      "8174 curves with bad potentially good reduction.\n",
      "Time: 37.146697998\n",
      "\n",
      "TOTAL RUNTIME: 182.016019106\n"
     ]
    }
   ],
   "source": [
    "label_type_tuples = []\n",
    "\n",
    "t0 = time.time()\n",
    "for i in range(5): # adjust this as needed; set to 40 for full table, at present\n",
    "    (N0, N1) = 10000*i, 10000*(i+1)\n",
    "    conductor_range = iter(range(N0, N1, 2))\n",
    "    print('Conductor range: {}'.format((N0, N1, p)))\n",
    "    label_type_tuples += mtype_ktype(conductor_range)\n",
    "    print\n",
    "t1 = time.time()\n",
    "\n",
    "print('TOTAL RUNTIME: {}'.format(t1-t0))  #"
   ]
  },
  {
   "cell_type": "code",
   "execution_count": 67,
   "metadata": {},
   "outputs": [],
   "source": [
    "objfile = os.path.join('./', '3-ktype_mtype_data.sobj')\n",
    "save(label_type_tuples, objfile)"
   ]
  },
  {
   "cell_type": "code",
   "execution_count": 68,
   "metadata": {},
   "outputs": [
    {
     "data": {
      "text/plain": [
       "{2: [I0*],\n",
       " 3: [II, II*],\n",
       " 4: [III, III*],\n",
       " 6: [IV, IV*],\n",
       " 8: [],\n",
       " 12: [IV*, II*, II, IV],\n",
       " 24: []}"
      ]
     },
     "execution_count": 68,
     "metadata": {},
     "output_type": "execute_result"
    }
   ],
   "source": [
    "ktype_given_mtype = dict.fromkeys([2, 3, 4, 6, 8, 12, 24], [])\n",
    "for (_, ktype, mtype) in label_type_tuples:\n",
    "    if ktype not in ktype_given_mtype[mtype]:\n",
    "        ktype_given_mtype[mtype] = ktype_given_mtype[mtype] + [ktype]\n",
    "ktype_given_mtype"
   ]
  },
  {
   "cell_type": "code",
   "execution_count": 69,
   "metadata": {},
   "outputs": [],
   "source": [
    "first_examples = []\n",
    "for (label, ktype, mtype) in label_type_tuples:\n",
    "    if (ktype, mtype) not in [e[1:] for e in first_examples]:\n",
    "        first_examples += [(label, ktype, mtype)]\n",
    "\n",
    "objfile = os.path.join('./', '3-ktype_mtype_first_examples.sobj')\n",
    "save(first_examples, objfile)\n",
    "first_examples = load(objfile)"
   ]
  },
  {
   "cell_type": "code",
   "execution_count": 70,
   "metadata": {},
   "outputs": [
    {
     "data": {
      "text/plain": [
       "[('36a1', III, 4),\n",
       " ('36a3', III*, 4),\n",
       " ('54a1', IV*, 12),\n",
       " ('54a2', II*, 12),\n",
       " ('54a3', II, 12),\n",
       " ('54b3', IV, 12),\n",
       " ('126a1', I0*, 2),\n",
       " ('162a1', IV, 6),\n",
       " ('162a2', IV*, 6),\n",
       " ('162b1', II, 3),\n",
       " ('162b2', II*, 3)]"
      ]
     },
     "execution_count": 70,
     "metadata": {},
     "output_type": "execute_result"
    }
   ],
   "source": [
    "first_examples"
   ]
  },
  {
   "cell_type": "code",
   "execution_count": 8,
   "metadata": {},
   "outputs": [],
   "source": [
    "def k_type_to_cpt_group(symbol):\n",
    "    if symbol in [KodairaSymbol('II'), KodairaSymbol('II*')]:\n",
    "        return \"0\"\n",
    "    elif symbol in [KodairaSymbol('III'), KodairaSymbol('III*')]:\n",
    "        return \"Z/2\"\n",
    "    elif symbol in [KodairaSymbol('IV'), KodairaSymbol('IV*')]:\n",
    "        return \"Z/3\"\n",
    "    elif str(symbol)[-1] == '*':\n",
    "        if int(str(symbol)[1:-1]) % 2 == 0:\n",
    "            return \"Z/2 x Z/2\"\n",
    "        else:\n",
    "            return \"Z/4\"\n",
    "    else:\n",
    "        print \"Invalid reduction type\""
   ]
  },
  {
   "cell_type": "code",
   "execution_count": 9,
   "metadata": {},
   "outputs": [
    {
     "name": "stdout",
     "output_type": "stream",
     "text": [
      "(2, ['0', 'Z/2 x Z/2'])\n",
      "(3, ['Z/3'])\n",
      "(4, ['Z/2'])\n",
      "(6, ['Z/2 x Z/2', '0'])\n",
      "(8, ['Z/2 x Z/2', 'Z/2', 'Z/4', '0'])\n",
      "(24, ['0', 'Z/2', 'Z/4', 'Z/2 x Z/2'])\n"
     ]
    }
   ],
   "source": [
    "for m_type in ktype_given_mtype:\n",
    "    cpt_gps = map(lambda t: k_type_to_cpt_group(t), ktype_given_mtype[m_type])\n",
    "    cpt_gps = list(set(cpt_gps))\n",
    "    print(m_type, cpt_gps)"
   ]
  },
  {
   "cell_type": "code",
   "execution_count": 71,
   "metadata": {},
   "outputs": [],
   "source": [
    "# remarks:\n",
    "# McCallum proves exponent of inertial monodromy kills component group\n",
    "# exponents: 2, 3, 4, 6, 8, 24 |-> 2, 3, 4, 6, 4, 12\n",
    "#\n",
    "# for C_2, the possible component group are: 0, C_2, C_2 x C_2,\n",
    "#        but we don't see C_2\n",
    "# note: in this case, monodromy group smaller than component group\n",
    "# note: I think Dokchitser paper shows this is the only situation where potentially ordinary\n",
    "#       reduction is possible.\n",
    "#\n",
    "# for C_3, possibilities are 0 and C_3, \n",
    "#        but we don't see 0\n",
    "#\n",
    "# for C_4, possibilities are 0, C_2, C_4, C_2 x C_2,\n",
    "#        but we ONLY see one of these, C_2\n",
    "#\n",
    "# for C_6, possibilities are 0, C_2, C_3, C_2 x C_2,\n",
    "#        but we don't see C_2 or C_3\n",
    "# note: C_2 x C_2 is not a subquotient of C_6\n",
    "# note: Dokchitsers show this is potentially supersingular\n",
    "#\n",
    "# for Q8, the possiblities are 0, C_2, C_4, C_2 x C_2, and we see all of these\n",
    "# \n",
    "# for SL_2(F_3), the possiblities are 0, C_2, C_4, C_2 x C_2, and wee see all of these"
   ]
  },
  {
   "cell_type": "code",
   "execution_count": 73,
   "metadata": {},
   "outputs": [
    {
     "data": {
      "text/plain": [
       "2 * 3^4"
      ]
     },
     "execution_count": 73,
     "metadata": {},
     "output_type": "execute_result"
    }
   ],
   "source": [
    "factor(162)"
   ]
  },
  {
   "cell_type": "code",
   "execution_count": null,
   "metadata": {},
   "outputs": [],
   "source": []
  }
 ],
 "metadata": {
  "kernelspec": {
   "display_name": "SageMath 8.2",
   "language": "",
   "name": "sagemath"
  },
  "language_info": {
   "codemirror_mode": {
    "name": "ipython",
    "version": 2
   },
   "file_extension": ".py",
   "mimetype": "text/x-python",
   "name": "python",
   "nbconvert_exporter": "python",
   "pygments_lexer": "ipython2",
   "version": "2.7.14"
  }
 },
 "nbformat": 4,
 "nbformat_minor": 2
}
