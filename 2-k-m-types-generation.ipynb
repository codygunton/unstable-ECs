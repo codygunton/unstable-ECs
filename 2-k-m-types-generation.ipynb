{
 "cells": [
  {
   "cell_type": "code",
   "execution_count": 2,
   "metadata": {},
   "outputs": [],
   "source": [
    "import time\n",
    "load(\"kraus_tables.sage\")"
   ]
  },
  {
   "cell_type": "code",
   "execution_count": 3,
   "metadata": {},
   "outputs": [],
   "source": [
    "DB = CremonaDatabase(); DB\n",
    "p = 2\n",
    "kraus = kraus_table_Q2"
   ]
  },
  {
   "cell_type": "code",
   "execution_count": null,
   "metadata": {},
   "outputs": [],
   "source": [
    "# need to impose bad additive reduction and potentially good reduction (j valuation >= 0)\n",
    "# then compute monodromy type and record Kodaira type\n",
    "\n",
    "def mtype_ktype(conductor_range):\n",
    "    t0 = time.time()    \n",
    "    label_type_tuples = []\n",
    "    no_curves = 0\n",
    "    \n",
    "    for E in DB.iter(conductor_range):\n",
    "        no_curves += 1\n",
    "        if valuation(E.j_invariant(), p) >= 0:\n",
    "            # run Tate's algorithm to get reduction type\n",
    "            LD = E.local_data(p)\n",
    "            if LD.has_additive_reduction():\n",
    "                # run Kraus's algorithm to determine monodromy type (returns group order)\n",
    "                m_type = kraus(E)\n",
    "                label_type_tuples.append((E.cremona_label(), \n",
    "                                          LD.kodaira_symbol(), \n",
    "                                          m_type))\n",
    "    t1 = time.time()\n",
    "    \n",
    "    print('{} curves in conductor range.'.format(no_curves))\n",
    "    print('{} curves with bad potentially good reduction.'.format(len(label_type_tuples)))\n",
    "    print(\"Time: {}\".format(t1-t0))\n",
    "    return label_type_tuples"
   ]
  },
  {
   "cell_type": "code",
   "execution_count": 4,
   "metadata": {},
   "outputs": [
    {
     "name": "stdout",
     "output_type": "stream",
     "text": [
      "Conductor range: (0, 10000, 2)\n",
      "50462 curves in conductor range.\n",
      "20979 curves with bad potentially good reduction.\n",
      "Time: 34.561537981\n",
      "\n",
      "Conductor range: (10000, 20000, 2)\n",
      "53983 curves in conductor range.\n",
      "22692 curves with bad potentially good reduction.\n",
      "Time: 37.1490769386\n",
      "\n",
      "Conductor range: (20000, 30000, 2)\n",
      "53554 curves in conductor range.\n",
      "22560 curves with bad potentially good reduction.\n",
      "Time: 35.5450279713\n",
      "\n",
      "Conductor range: (30000, 40000, 2)\n",
      "53121 curves in conductor range.\n",
      "22231 curves with bad potentially good reduction.\n",
      "Time: 37.4674530029\n",
      "\n",
      "Conductor range: (40000, 50000, 2)\n",
      "53480 curves in conductor range.\n",
      "22809 curves with bad potentially good reduction.\n",
      "Time: 37.2663981915\n",
      "\n",
      "TOTAL RUNTIME: 181.996042013\n"
     ]
    }
   ],
   "source": [
    "label_type_tuples = []\n",
    "\n",
    "t0 = time.time()\n",
    "for i in range(5): # adjust this as needed; set to 40 for full table, at present\n",
    "    (N0, N1) = 10000*i, 10000*(i+1)\n",
    "    conductor_range = iter(range(N0, N1, 2))\n",
    "    print('Conductor range: {}'.format((N0, N1, p)))\n",
    "    label_type_tuples += mtype_ktype(conductor_range)\n",
    "    print\n",
    "t1 = time.time()\n",
    "\n",
    "print('TOTAL RUNTIME: {}'.format(t1-t0))  # TOTAL RUNTIME: 2427.10351396 on my Dell Latitude E5270"
   ]
  },
  {
   "cell_type": "code",
   "execution_count": 9,
   "metadata": {},
   "outputs": [],
   "source": [
    "# You don't want to run this unless you want to recompute over the entire Cremona database\n",
    "# objfile = os.path.join('./', '2-ktype_mtype_data.sobj')\n",
    "# save(label_type_tuples, objfile)"
   ]
  },
  {
   "cell_type": "code",
   "execution_count": 3,
   "metadata": {},
   "outputs": [
    {
     "data": {
      "text/plain": [
       "{2: [II*, I4*, II, I8*],\n",
       " 3: [IV*, IV],\n",
       " 4: [III, III*],\n",
       " 6: [I0*, II, I4*, II*],\n",
       " 8: [I3*, III, I0*, I2*, I5*, II, III*],\n",
       " 24: [I1*, III*, III, II*, I0*, I2*, II, I3*, I4*, I6*, I7*]}"
      ]
     },
     "execution_count": 3,
     "metadata": {},
     "output_type": "execute_result"
    }
   ],
   "source": [
    "ktype_given_mtype = dict.fromkeys([2, 3, 4, 6, 8, 24], [])\n",
    "for (_, ktype, mtype) in label_type_tuples:\n",
    "    if ktype not in ktype_given_mtype[mtype]:\n",
    "        ktype_given_mtype[mtype] = ktype_given_mtype[mtype] + [ktype]\n",
    "ktype_given_mtype"
   ]
  },
  {
   "cell_type": "code",
   "execution_count": 26,
   "metadata": {},
   "outputs": [],
   "source": [
    "first_examples = []\n",
    "for (label, ktype, mtype) in label_type_tuples:\n",
    "    if (ktype, mtype) not in [e[1:] for e in first_examples]:\n",
    "        first_examples += [(label, ktype, mtype)]\n",
    "\n",
    "objfile = os.path.join('./', '2-ktype_mtype_first_examples.sobj')\n",
    "save(first_examples, objfile)\n",
    "first_examples = load(objfile)"
   ]
  },
  {
   "cell_type": "code",
   "execution_count": 8,
   "metadata": {},
   "outputs": [],
   "source": [
    "def k_type_to_cpt_group(symbol):\n",
    "    if symbol in [KodairaSymbol('II'), KodairaSymbol('II*')]:\n",
    "        return \"0\"\n",
    "    elif symbol in [KodairaSymbol('III'), KodairaSymbol('III*')]:\n",
    "        return \"Z/2\"\n",
    "    elif symbol in [KodairaSymbol('IV'), KodairaSymbol('IV*')]:\n",
    "        return \"Z/3\"\n",
    "    elif str(symbol)[-1] == '*':\n",
    "        if int(str(symbol)[1:-1]) % 2 == 0:\n",
    "            return \"Z/2 x Z/2\"\n",
    "        else:\n",
    "            return \"Z/4\"\n",
    "    else:\n",
    "        print \"Invalid reduction type\""
   ]
  },
  {
   "cell_type": "code",
   "execution_count": 9,
   "metadata": {},
   "outputs": [
    {
     "name": "stdout",
     "output_type": "stream",
     "text": [
      "(2, ['0', 'Z/2 x Z/2'])\n",
      "(3, ['Z/3'])\n",
      "(4, ['Z/2'])\n",
      "(6, ['Z/2 x Z/2', '0'])\n",
      "(8, ['Z/2 x Z/2', 'Z/2', 'Z/4', '0'])\n",
      "(24, ['0', 'Z/2', 'Z/4', 'Z/2 x Z/2'])\n"
     ]
    }
   ],
   "source": [
    "for m_type in ktype_given_mtype:\n",
    "    cpt_gps = map(lambda t: k_type_to_cpt_group(t), ktype_given_mtype[m_type])\n",
    "    cpt_gps = list(set(cpt_gps))\n",
    "    print(m_type, cpt_gps)"
   ]
  },
  {
   "cell_type": "code",
   "execution_count": 10,
   "metadata": {},
   "outputs": [],
   "source": [
    "# remarks:\n",
    "# McCallum proves exponent of inertial monodromy kills component group\n",
    "# exponents: 2, 3, 4, 6, 8, 24 |-> 2, 3, 4, 6, 4, 12\n",
    "#\n",
    "# for C_2, the possible component group are: 0, C_2, C_2 x C_2,\n",
    "#        but we don't see C_2\n",
    "# note: in this case, monodromy group smaller than component group\n",
    "# note: I think Dokchitser paper shows this is the only situation where potentially ordinary\n",
    "#       reduction is possible.\n",
    "#\n",
    "# for C_3, possibilities are 0 and C_3, \n",
    "#        but we don't see 0\n",
    "#\n",
    "# for C_4, possibilities are 0, C_2, C_4, C_2 x C_2,\n",
    "#        but we ONLY see one of these, C_2\n",
    "#\n",
    "# for C_6, possibilities are 0, C_2, C_3, C_2 x C_2,\n",
    "#        but we don't see C_2 or C_3\n",
    "# note: C_2 x C_2 is not a subquotient of C_6\n",
    "# note: Dokchitsers show this is potentially supersingular\n",
    "#\n",
    "# for Q8, the possiblities are 0, C_2, C_4, C_2 x C_2, and we see all of these\n",
    "# \n",
    "# for SL_2(F_3), the possiblities are 0, C_2, C_4, C_2 x C_2, and wee see all of these"
   ]
  }
 ],
 "metadata": {
  "kernelspec": {
   "display_name": "SageMath 8.2",
   "language": "",
   "name": "sagemath"
  },
  "language_info": {
   "codemirror_mode": {
    "name": "ipython",
    "version": 2
   },
   "file_extension": ".py",
   "mimetype": "text/x-python",
   "name": "python",
   "nbconvert_exporter": "python",
   "pygments_lexer": "ipython2",
   "version": "2.7.14"
  }
 },
 "nbformat": 4,
 "nbformat_minor": 2
}
