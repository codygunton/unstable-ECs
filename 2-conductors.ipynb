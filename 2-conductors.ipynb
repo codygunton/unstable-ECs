{
 "cells": [
  {
   "cell_type": "code",
   "execution_count": 1,
   "metadata": {},
   "outputs": [],
   "source": [
    "# sage documentation for SQLite interface\n",
    "# http://doc.sagemath.org/html/en/reference/misc/sage/databases/sql_db.html"
   ]
  },
  {
   "cell_type": "code",
   "execution_count": 100,
   "metadata": {},
   "outputs": [],
   "source": [
    "from tabulate import tabulate # for making texable tables of the data\n",
    "import numpy as np #...just because i'm being lazy and using this to take a transpose\n",
    "import time\n",
    "load(\"kraus_tables.sage\")\n",
    "kraus = kraus_table_Q2\n",
    "DB = CremonaDatabase(); DB\n",
    "p = 2\n",
    "# note: the quadratic extensions of Q2 are Q2(sqrt(d)) with d = 3,5,7,2,6,10,14.\n",
    "\n",
    "objfile = os.path.join('./', '2-ktype_mtype_data.sobj')\n",
    "label_type_tuples = load(objfile)  # format: (cremona label (string), Kodaira type (Sage custom type), integer)\n",
    "\n",
    "objfile = os.path.join('./', '2-ktype_mtype_first_examples.sobj')\n",
    "first_examples = load(objfile)"
   ]
  },
  {
   "cell_type": "code",
   "execution_count": 101,
   "metadata": {},
   "outputs": [
    {
     "data": {
      "text/plain": [
       "399998"
      ]
     },
     "execution_count": 101,
     "metadata": {},
     "output_type": "execute_result"
    }
   ],
   "source": [
    "DB.largest_conductor()"
   ]
  },
  {
   "cell_type": "code",
   "execution_count": 3,
   "metadata": {},
   "outputs": [],
   "source": [
    "def ctame(S):\n",
    "    if S == KodairaSymbol('In*'):\n",
    "        return 1/2\n",
    "    elif S == KodairaSymbol('II'):\n",
    "        return 1/6\n",
    "    elif S == KodairaSymbol('II*'):\n",
    "        return 5/6\n",
    "    elif S == KodairaSymbol('III'):\n",
    "        return 1/4\n",
    "    elif S == KodairaSymbol('III*'):\n",
    "        return 3/4\n",
    "    elif S == KodairaSymbol('IV'):\n",
    "        return 1/3\n",
    "    elif S == KodairaSymbol('IV*'):\n",
    "        return 2/3\n",
    "    else:\n",
    "        raise ValueError(\"Kodaira type In not implemented\")"
   ]
  },
  {
   "cell_type": "code",
   "execution_count": 4,
   "metadata": {},
   "outputs": [],
   "source": [
    "D = SQLDatabase(filename='2-totally-wild.db')"
   ]
  },
  {
   "cell_type": "code",
   "execution_count": 268,
   "metadata": {},
   "outputs": [
    {
     "name": "stdout",
     "output_type": "stream",
     "text": [
      "Time: 191.098484039\n"
     ]
    }
   ],
   "source": [
    "## don't run this unless you have recomputed everything \n",
    "\n",
    "##create database:\n",
    "#from collections import OrderedDict\n",
    "#table_skeleton = OrderedDict([\n",
    "#    ('label',{'sql':'TEXT', 'index':True, 'primary_key':True}), # the Cremona label\n",
    "#    ('mtype',{'sql':'TEXT', 'index':True,}), # monodromy type                         \n",
    "#    ('ktype',{'sql':'TEXT', 'index':True,}), # Kodaira type\n",
    "#    ('c',{'sql':'TEXT', 'index':True,}), # the Chai conductor\n",
    "#    ('c_tame',{'sql':'TEXT', 'index':True,}), # the tame part of the chai conductor\n",
    "#    ('c_wild',{'sql':'TEXT', 'index':True,}),# the wild part of the chai conductor\n",
    "#])\n",
    "#D = SQLDatabase()\n",
    "#D.create_table('twpg', table_skeleton) # twpg = totally wild potentially good\n",
    "## D.show('twpg')\n",
    "\n",
    "#t0 = time.time()\n",
    "#for (label, symbol, mtype) in label_type_tuples:\n",
    "#    if mtype in [2,4,8]:\n",
    "#        E = EllipticCurve(label)\n",
    "#        LD = E.local_data(2)\n",
    "#\n",
    "#        c = LD.discriminant_valuation()/12       \n",
    "#        ct = ctame(symbol)\n",
    "#        cw = c - ct\n",
    "#        \n",
    "#        D.add_row('twpg', (label, mtype, symbol, c, ct, cw))\n",
    "#        # print((label, c, ct, cw, mtype))\n",
    "## D.show('twpg')\n",
    "#t1 = time.time()\n",
    "#print('Time: {}'.format(t1-t0))\n",
    "## 194.962843895s on my personal laptop on 5 Oct. 2019\n",
    "\n",
    "# D.save('/home/cody/Dropbox/sage-notebooks/unstable-ECs/2-totally-wild.db')"
   ]
  },
  {
   "cell_type": "code",
   "execution_count": 5,
   "metadata": {},
   "outputs": [
    {
     "data": {
      "text/plain": [
       "{'1', '1/2', '3/2', '3/4', '5/4'}"
      ]
     },
     "execution_count": 5,
     "metadata": {},
     "output_type": "execute_result"
    }
   ],
   "source": [
    "# which chai conductors occur?\n",
    "Q = SQLQuery(D, {'table_name':'twpg',\n",
    "                 'display_cols':['c'], \n",
    "                 'expression':['c','>','0']})\n",
    "Qout = Q.query_results(); \n",
    "Qout = set([str(l[0]) for l in Qout]); Qout"
   ]
  },
  {
   "cell_type": "code",
   "execution_count": 89,
   "metadata": {},
   "outputs": [],
   "source": [
    "# function for making latex table from the data below\n",
    "def tablify_query(Q):\n",
    "    Q = set(Q.query_results());\n",
    "    Q = [[KodairaSymbol(str(t[0]))]+map(Rational, t[1:]) for t in Q]\n",
    "    Q = [['Kodaira type', 'c(E)', 'c_tame(E)', 'c_wild(E)']] + Q\n",
    "    Q = np.array(Q).T.tolist() # I use numpy for this, ha\n",
    "    print(tabulate(Q))\n",
    "    return(latex(tabulate(Q)))"
   ]
  },
  {
   "cell_type": "code",
   "execution_count": 96,
   "metadata": {},
   "outputs": [
    {
     "name": "stdout",
     "output_type": "stream",
     "text": [
      "------------  ---  ---  ---  ---\n",
      "Kodaira type  II   II*  I4*  I8*\n",
      "c(E)          1/2  1    1    3/2\n",
      "c_tame(E)     1/6  5/6  1/2  1/2\n",
      "c_wild(E)     1/3  1/6  1/2  1\n",
      "------------  ---  ---  ---  ---\n"
     ]
    },
    {
     "data": {
      "text/plain": [
       "\\begin{array}{l}\n",
       "\\text{\\texttt{{-}{-}{-}{-}{-}{-}{-}{-}{-}{-}{-}{-}{ }{ }{-}{-}{-}{ }{ }{-}{-}{-}{ }{ }{-}{-}{-}{ }{ }{-}{-}{-}}}\\\\\n",
       "\\text{\\texttt{Kodaira{ }type{ }{ }II{ }{ }{ }II*{ }{ }I4*{ }{ }I8*}}\\\\\n",
       "\\text{\\texttt{c(E){ }{ }{ }{ }{ }{ }{ }{ }{ }{ }1/2{ }{ }1{ }{ }{ }{ }1{ }{ }{ }{ }3/2}}\\\\\n",
       "\\text{\\texttt{c{\\char`\\_}tame(E){ }{ }{ }{ }{ }1/6{ }{ }5/6{ }{ }1/2{ }{ }1/2}}\\\\\n",
       "\\text{\\texttt{c{\\char`\\_}wild(E){ }{ }{ }{ }{ }1/3{ }{ }1/6{ }{ }1/2{ }{ }1}}\\\\\n",
       "\\text{\\texttt{{-}{-}{-}{-}{-}{-}{-}{-}{-}{-}{-}{-}{ }{ }{-}{-}{-}{ }{ }{-}{-}{-}{ }{ }{-}{-}{-}{ }{ }{-}{-}{-}}}\n",
       "\\end{array}"
      ]
     },
     "execution_count": 96,
     "metadata": {},
     "output_type": "execute_result"
    }
   ],
   "source": [
    "# conductors and types when M = C_2?\n",
    "Q = SQLQuery(D, {'table_name':'twpg',\n",
    "                 'display_cols':['ktype','c', 'c_tame', 'c_wild'], \n",
    "                 'expression':['mtype','=','2']})\n",
    "tablify_query(Q)"
   ]
  },
  {
   "cell_type": "code",
   "execution_count": 97,
   "metadata": {},
   "outputs": [
    {
     "name": "stdout",
     "output_type": "stream",
     "text": [
      "------------  ----  ---\n",
      "Kodaira type  III*  III\n",
      "c(E)          5/4   3/4\n",
      "c_tame(E)     3/4   1/4\n",
      "c_wild(E)     1/2   1/2\n",
      "------------  ----  ---\n"
     ]
    },
    {
     "data": {
      "text/plain": [
       "\\begin{array}{l}\n",
       "\\text{\\texttt{{-}{-}{-}{-}{-}{-}{-}{-}{-}{-}{-}{-}{ }{ }{-}{-}{-}{-}{ }{ }{-}{-}{-}}}\\\\\n",
       "\\text{\\texttt{Kodaira{ }type{ }{ }III*{ }{ }III}}\\\\\n",
       "\\text{\\texttt{c(E){ }{ }{ }{ }{ }{ }{ }{ }{ }{ }5/4{ }{ }{ }3/4}}\\\\\n",
       "\\text{\\texttt{c{\\char`\\_}tame(E){ }{ }{ }{ }{ }3/4{ }{ }{ }1/4}}\\\\\n",
       "\\text{\\texttt{c{\\char`\\_}wild(E){ }{ }{ }{ }{ }1/2{ }{ }{ }1/2}}\\\\\n",
       "\\text{\\texttt{{-}{-}{-}{-}{-}{-}{-}{-}{-}{-}{-}{-}{ }{ }{-}{-}{-}{-}{ }{ }{-}{-}{-}}}\n",
       "\\end{array}"
      ]
     },
     "execution_count": 97,
     "metadata": {},
     "output_type": "execute_result"
    }
   ],
   "source": [
    "# conductors and types when M = C_4?\n",
    "Q = SQLQuery(D, {'table_name':'twpg',\n",
    "                 'display_cols':['ktype','c', 'c_tame', 'c_wild'], \n",
    "                 'expression':['mtype','=','4']})\n",
    "tablify_query(Q)"
   ]
  },
  {
   "cell_type": "code",
   "execution_count": 98,
   "metadata": {},
   "outputs": [
    {
     "name": "stdout",
     "output_type": "stream",
     "text": [
      "------------  ---  ----  ---  ---  ---  ---  ---  ----  ---\n",
      "Kodaira type  I0*  III*  III  I3*  I2*  III  II   III*  I5*\n",
      "c(E)          3/4  5/4   3/4  1    1    1/2  1/2  1     5/4\n",
      "c_tame(E)     1/2  3/4   1/4  1/2  1/2  1/4  1/6  3/4   1/2\n",
      "c_wild(E)     1/4  1/2   1/2  1/2  1/2  1/4  1/3  1/4   3/4\n",
      "------------  ---  ----  ---  ---  ---  ---  ---  ----  ---\n"
     ]
    },
    {
     "data": {
      "text/plain": [
       "\\begin{array}{l}\n",
       "\\text{\\texttt{{-}{-}{-}{-}{-}{-}{-}{-}{-}{-}{-}{-}{ }{ }{-}{-}{-}{ }{ }{-}{-}{-}{-}{ }{ }{-}{-}{-}{ }{ }{-}{-}{-}{ }{ }{-}{-}{-}{ }{ }{-}{-}{-}{ }{ }{-}{-}{-}{ }{ }{-}{-}{-}{-}{ }{ }{-}{-}{-}}}\\\\\n",
       "\\text{\\texttt{Kodaira{ }type{ }{ }I0*{ }{ }III*{ }{ }III{ }{ }I3*{ }{ }I2*{ }{ }III{ }{ }II{ }{ }{ }III*{ }{ }I5*}}\\\\\n",
       "\\text{\\texttt{c(E){ }{ }{ }{ }{ }{ }{ }{ }{ }{ }3/4{ }{ }5/4{ }{ }{ }3/4{ }{ }1{ }{ }{ }{ }1{ }{ }{ }{ }1/2{ }{ }1/2{ }{ }1{ }{ }{ }{ }{ }5/4}}\\\\\n",
       "\\text{\\texttt{c{\\char`\\_}tame(E){ }{ }{ }{ }{ }1/2{ }{ }3/4{ }{ }{ }1/4{ }{ }1/2{ }{ }1/2{ }{ }1/4{ }{ }1/6{ }{ }3/4{ }{ }{ }1/2}}\\\\\n",
       "\\text{\\texttt{c{\\char`\\_}wild(E){ }{ }{ }{ }{ }1/4{ }{ }1/2{ }{ }{ }1/2{ }{ }1/2{ }{ }1/2{ }{ }1/4{ }{ }1/3{ }{ }1/4{ }{ }{ }3/4}}\\\\\n",
       "\\text{\\texttt{{-}{-}{-}{-}{-}{-}{-}{-}{-}{-}{-}{-}{ }{ }{-}{-}{-}{ }{ }{-}{-}{-}{-}{ }{ }{-}{-}{-}{ }{ }{-}{-}{-}{ }{ }{-}{-}{-}{ }{ }{-}{-}{-}{ }{ }{-}{-}{-}{ }{ }{-}{-}{-}{-}{ }{ }{-}{-}{-}}}\n",
       "\\end{array}"
      ]
     },
     "execution_count": 98,
     "metadata": {},
     "output_type": "execute_result"
    }
   ],
   "source": [
    "# conductors and types when M = Q_8?\n",
    "Q = SQLQuery(D, {'table_name':'twpg',\n",
    "                 'display_cols':['ktype','c', 'c_tame', 'c_wild'], \n",
    "                 'expression':['mtype','=','8']})\n",
    "tablify_query(Q)"
   ]
  },
  {
   "cell_type": "code",
   "execution_count": 91,
   "metadata": {},
   "outputs": [
    {
     "name": "stdout",
     "output_type": "stream",
     "text": [
      "------------  ---  ----  ---  ---  ---  ---  ---  ----  ---\n",
      "Kodaira type  I0*  III*  III  I3*  I2*  III  II   III*  I5*\n",
      "c(E)          3/4  5/4   3/4  1    1    1/2  1/2  1     5/4\n",
      "c_tame(E)     1/2  3/4   1/4  1/2  1/2  1/4  1/6  3/4   1/2\n",
      "c_wild(E)     1/4  1/2   1/2  1/2  1/2  1/4  1/3  1/4   3/4\n",
      "------------  ---  ----  ---  ---  ---  ---  ---  ----  ---\n"
     ]
    },
    {
     "data": {
      "text/plain": [
       "\\begin{array}{l}\n",
       "\\text{\\texttt{{-}{-}{-}{-}{-}{-}{-}{-}{-}{-}{-}{-}{ }{ }{-}{-}{-}{ }{ }{-}{-}{-}{-}{ }{ }{-}{-}{-}{ }{ }{-}{-}{-}{ }{ }{-}{-}{-}{ }{ }{-}{-}{-}{ }{ }{-}{-}{-}{ }{ }{-}{-}{-}{-}{ }{ }{-}{-}{-}}}\\\\\n",
       "\\text{\\texttt{Kodaira{ }type{ }{ }I0*{ }{ }III*{ }{ }III{ }{ }I3*{ }{ }I2*{ }{ }III{ }{ }II{ }{ }{ }III*{ }{ }I5*}}\\\\\n",
       "\\text{\\texttt{c(E){ }{ }{ }{ }{ }{ }{ }{ }{ }{ }3/4{ }{ }5/4{ }{ }{ }3/4{ }{ }1{ }{ }{ }{ }1{ }{ }{ }{ }1/2{ }{ }1/2{ }{ }1{ }{ }{ }{ }{ }5/4}}\\\\\n",
       "\\text{\\texttt{c{\\char`\\_}tame(E){ }{ }{ }{ }{ }1/2{ }{ }3/4{ }{ }{ }1/4{ }{ }1/2{ }{ }1/2{ }{ }1/4{ }{ }1/6{ }{ }3/4{ }{ }{ }1/2}}\\\\\n",
       "\\text{\\texttt{c{\\char`\\_}wild(E){ }{ }{ }{ }{ }1/4{ }{ }1/2{ }{ }{ }1/2{ }{ }1/2{ }{ }1/2{ }{ }1/4{ }{ }1/3{ }{ }1/4{ }{ }{ }3/4}}\\\\\n",
       "\\text{\\texttt{{-}{-}{-}{-}{-}{-}{-}{-}{-}{-}{-}{-}{ }{ }{-}{-}{-}{ }{ }{-}{-}{-}{-}{ }{ }{-}{-}{-}{ }{ }{-}{-}{-}{ }{ }{-}{-}{-}{ }{ }{-}{-}{-}{ }{ }{-}{-}{-}{ }{ }{-}{-}{-}{-}{ }{ }{-}{-}{-}}}\n",
       "\\end{array}"
      ]
     },
     "execution_count": 91,
     "metadata": {},
     "output_type": "execute_result"
    }
   ],
   "source": []
  },
  {
   "cell_type": "code",
   "execution_count": null,
   "metadata": {},
   "outputs": [],
   "source": []
  }
 ],
 "metadata": {
  "kernelspec": {
   "display_name": "SageMath 8.2",
   "language": "",
   "name": "sagemath"
  },
  "language_info": {
   "codemirror_mode": {
    "name": "ipython",
    "version": 2
   },
   "file_extension": ".py",
   "mimetype": "text/x-python",
   "name": "python",
   "nbconvert_exporter": "python",
   "pygments_lexer": "ipython2",
   "version": "2.7.14"
  }
 },
 "nbformat": 4,
 "nbformat_minor": 2
}
