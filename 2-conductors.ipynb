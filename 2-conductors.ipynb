{
 "cells": [
  {
   "cell_type": "code",
   "execution_count": 6,
   "metadata": {},
   "outputs": [],
   "source": [
    "import time\n",
    "load(\"kraus_tables.sage\")\n",
    "kraus = kraus_table_Q2\n",
    "DB = CremonaDatabase(); DB\n",
    "p = 2\n",
    "# note: the quadratic extensions of Q2 are Q2(sqrt(d)) with d = 3,5,7,2,6,10,14.\n",
    "\n",
    "objfile = os.path.join('./', '2-ktype_mtype_data.sobj')\n",
    "label_type_tuples = load(objfile)  # format: (cremona label (string), Kodaira type (Sage custom type), integer)\n",
    "\n",
    "objfile = os.path.join('./', '2-ktype_mtype_first_examples.sobj')\n",
    "first_examples = load(objfile)"
   ]
  },
  {
   "cell_type": "code",
   "execution_count": 11,
   "metadata": {},
   "outputs": [
    {
     "data": {
      "text/plain": [
       "<class 'sage.databases.cremona.LargeCremonaDatabase'>"
      ]
     },
     "execution_count": 11,
     "metadata": {},
     "output_type": "execute_result"
    }
   ],
   "source": [
    "type(DB)"
   ]
  },
  {
   "cell_type": "code",
   "execution_count": 2,
   "metadata": {},
   "outputs": [],
   "source": [
    "def ctame(S):\n",
    "    if S == KodairaSymbol('In*'):\n",
    "        return 1/2\n",
    "    elif S == KodairaSymbol('II'):\n",
    "        return 1/6\n",
    "    elif S == KodairaSymbol('II*'):\n",
    "        return 5/6\n",
    "    elif S == KodairaSymbol('III'):\n",
    "        return 1/4\n",
    "    elif S == KodairaSymbol('III*'):\n",
    "        return 3/4\n",
    "    elif S == KodairaSymbol('IV'):\n",
    "        return 1/3\n",
    "    elif S == KodairaSymbol('IV*'):\n",
    "        return 2/3\n",
    "    else:\n",
    "        raise ValueError(\"Kodaira type In not implemented\")"
   ]
  },
  {
   "cell_type": "code",
   "execution_count": 4,
   "metadata": {},
   "outputs": [],
   "source": [
    "chai_values = []\n",
    "for (label, symbol, mtype) in label_type_tuples[:1000]:\n",
    "    if mtype in [2,4,8]:\n",
    "        E = EllipticCurve(label)\n",
    "        LD = E.local_data(2)\n",
    "        c = LD.discriminant_valuation()/12\n",
    "        \n",
    "        ct  = ctame(symbol)\n",
    "        cw = c - ct\n",
    "        # print((label, c, ct, cw, mtype))"
   ]
  },
  {
   "cell_type": "code",
   "execution_count": 5,
   "metadata": {},
   "outputs": [
    {
     "data": {
      "text/plain": [
       "{1/2, 3/4, 1, 5/4}"
      ]
     },
     "execution_count": 5,
     "metadata": {},
     "output_type": "execute_result"
    }
   ],
   "source": [
    "set(chai_values)\n",
    "# the only values of the chai conductor I see in the totoally wild case are {1/2, 3/4, 1, 5/4, 3/2}"
   ]
  },
  {
   "cell_type": "code",
   "execution_count": 31,
   "metadata": {},
   "outputs": [
    {
     "data": {
      "text/plain": [
       "{1/3, 1/2, 7/12, 2/3, 3/4, 5/6, 11/12, 1, 13/12, 7/6, 5/4, 4/3, 17/12, 3/2}"
      ]
     },
     "execution_count": 31,
     "metadata": {},
     "output_type": "execute_result"
    }
   ],
   "source": [
    "chai_values = []\n",
    "for (label, symbol, mtype) in label_type_tuples[:5000]:\n",
    "    if mtype > 0:# in [2,4,8]:\n",
    "        E = EllipticCurve(label)\n",
    "        LD = E.local_data(2)\n",
    "        c = LD.discriminant_valuation()/12\n",
    "        chai_values += [c]\n",
    "        \n",
    "        ct  = ctame(symbol)\n",
    "        cw = c - ct\n",
    "        # print((label, c, ct, cw, mtype))\n",
    "set(chai_values)\n",
    "# get lots of other weird larger "
   ]
  },
  {
   "cell_type": "code",
   "execution_count": 22,
   "metadata": {},
   "outputs": [
    {
     "data": {
      "text/plain": [
       "[('64a2', I5*, 8),\n",
       " ('64a3', I5*, 8),\n",
       " ('192a3', I5*, 8),\n",
       " ('192a4', I5*, 8),\n",
       " ('192b3', I5*, 8),\n",
       " ('192b4', I5*, 8),\n",
       " ('256a2', III*, 4),\n",
       " ('256b2', III*, 8),\n",
       " ('256c2', III*, 8),\n",
       " ('256d2', III*, 4),\n",
       " ('448d2', I5*, 8),\n",
       " ('448g2', I5*, 8),\n",
       " ('576b3', I5*, 8),\n",
       " ('576b4', I5*, 8),\n",
       " ('576c3', I5*, 8),\n",
       " ('576c4', I5*, 8),\n",
       " ('576h3', I5*, 8),\n",
       " ('576h4', I5*, 8),\n",
       " ('768a2', III*, 8),\n",
       " ('768b2', III*, 4),\n",
       " ('768b4', III*, 4),\n",
       " ('768c2', III*, 8),\n",
       " ('768d2', III*, 4),\n",
       " ('768d4', III*, 4),\n",
       " ('768e2', III*, 8),\n",
       " ('768f2', III*, 4),\n",
       " ('768f4', III*, 4),\n",
       " ('768g2', III*, 8),\n",
       " ('768h2', III*, 4),\n",
       " ('768h4', III*, 4),\n",
       " ('832a1', I5*, 8),\n",
       " ('832b1', I5*, 8),\n",
       " ('960a3', I5*, 8),\n",
       " ('960a4', I5*, 8),\n",
       " ('960d3', I5*, 8),\n",
       " ('960d4', I5*, 8),\n",
       " ('960f3', I5*, 8),\n",
       " ('960f4', I5*, 8),\n",
       " ('960h3', I5*, 8),\n",
       " ('960h4', I5*, 8),\n",
       " ('960j3', I5*, 8),\n",
       " ('960j4', I5*, 8),\n",
       " ('960k3', I5*, 8),\n",
       " ('960k4', I5*, 8),\n",
       " ('960m3', I5*, 8),\n",
       " ('960m4', I5*, 8),\n",
       " ('960n3', I5*, 8),\n",
       " ('960n4', I5*, 8),\n",
       " ('1088a2', I5*, 8),\n",
       " ('1088b2', I5*, 8),\n",
       " ('1088h2', I5*, 8),\n",
       " ('1088j2', I5*, 8),\n",
       " ('1216m1', I5*, 8),\n",
       " ('1216r1', I5*, 8),\n",
       " ('1344k3', I5*, 8),\n",
       " ('1344k4', I5*, 8),\n",
       " ('1344n3', I5*, 8),\n",
       " ('1344n4', I5*, 8),\n",
       " ('1344q3', I5*, 8),\n",
       " ('1344q4', I5*, 8),\n",
       " ('1344s3', I5*, 8),\n",
       " ('1344s4', I5*, 8),\n",
       " ('1600b1', I5*, 8),\n",
       " ('1600d1', I5*, 8),\n",
       " ('1600i1', I5*, 8),\n",
       " ('1600k1', I5*, 8),\n",
       " ('1600o3', I5*, 8),\n",
       " ('1600o4', I5*, 8),\n",
       " ('1728n1', I5*, 8),\n",
       " ('1728o1', I5*, 8),\n",
       " ('1728w1', I5*, 8),\n",
       " ('1728y1', I5*, 8),\n",
       " ('1792a2', III*, 4),\n",
       " ('1792b2', III*, 8),\n",
       " ('1792c2', III*, 8),\n",
       " ('1792d2', III*, 4),\n",
       " ('1792e2', III*, 8),\n",
       " ('1792f2', III*, 4),\n",
       " ('1792g2', III*, 8),\n",
       " ('1792h2', III*, 4),\n",
       " ('2112b2', I5*, 8),\n",
       " ('2112f3', I5*, 8),\n",
       " ('2112f4', I5*, 8),\n",
       " ('2112h3', I5*, 8),\n",
       " ('2112h4', I5*, 8),\n",
       " ('2112i2', I5*, 8),\n",
       " ('2112k3', I5*, 8),\n",
       " ('2112k4', I5*, 8),\n",
       " ('2112n3', I5*, 8),\n",
       " ('2112n4', I5*, 8),\n",
       " ('2112o2', I5*, 8),\n",
       " ('2112p2', I5*, 8),\n",
       " ('2240e3', I5*, 8),\n",
       " ('2240e4', I5*, 8),\n",
       " ('2240k3', I5*, 8),\n",
       " ('2240k4', I5*, 8),\n",
       " ('2240o3', I5*, 8),\n",
       " ('2240o4', I5*, 8),\n",
       " ('2240t3', I5*, 8),\n",
       " ('2240t4', I5*, 8),\n",
       " ('2304a2', III*, 8),\n",
       " ('2304b2', III*, 8),\n",
       " ('2304c2', III*, 4),\n",
       " ('2304d2', III*, 8),\n",
       " ('2304e2', III*, 8),\n",
       " ('2304f2', III*, 4),\n",
       " ('2304f4', III*, 4),\n",
       " ('2304g2', III*, 4),\n",
       " ('2304g4', III*, 4),\n",
       " ('2304h2', III*, 8),\n",
       " ('2304i2', III*, 8),\n",
       " ('2304j2', III*, 8),\n",
       " ('2304k2', III*, 4),\n",
       " ('2304l2', III*, 8),\n",
       " ('2304m2', III*, 8),\n",
       " ('2304n2', III*, 4),\n",
       " ('2304n4', III*, 4),\n",
       " ('2304o2', III*, 4),\n",
       " ('2304o4', III*, 4),\n",
       " ('2304p2', III*, 8),\n",
       " ('2496b3', I5*, 8),\n",
       " ('2496b4', I5*, 8),\n",
       " ('2496h3', I5*, 8),\n",
       " ('2496h4', I5*, 8),\n",
       " ('2624e2', I5*, 8),\n",
       " ('2624f2', I5*, 8)]"
      ]
     },
     "execution_count": 22,
     "metadata": {},
     "output_type": "execute_result"
    }
   ],
   "source": [
    "egs = []\n",
    "for (label, symbol, mtype) in label_type_tuples[:5000]:\n",
    "    if mtype in [2,4,8]:\n",
    "        E = EllipticCurve(label)\n",
    "        LD = E.local_data(2)\n",
    "        c = LD.discriminant_valuation()/12\n",
    "        if c == 5/4:\n",
    "            egs += [(label, symbol, mtype)]\n",
    "egs"
   ]
  },
  {
   "cell_type": "code",
   "execution_count": 16,
   "metadata": {},
   "outputs": [],
   "source": [
    "E = EllipticCurve('2304c2')"
   ]
  },
  {
   "cell_type": "code",
   "execution_count": 17,
   "metadata": {},
   "outputs": [
    {
     "data": {
      "text/plain": [
       "Local data at Principal ideal (2) of Integer Ring:\n",
       "Reduction type: bad additive\n",
       "Local minimal model: Elliptic Curve defined by y^2 = x^3 - 120*x + 448 over Rational Field\n",
       "Minimal discriminant valuation: 15\n",
       "Conductor exponent: 8\n",
       "Kodaira Symbol: III*\n",
       "Tamagawa Number: 2"
      ]
     },
     "execution_count": 17,
     "metadata": {},
     "output_type": "execute_result"
    }
   ],
   "source": [
    "E.local_data(2)"
   ]
  },
  {
   "cell_type": "code",
   "execution_count": 19,
   "metadata": {},
   "outputs": [
    {
     "data": {
      "text/plain": [
       "Local data at Principal ideal (2) of Integer Ring:\n",
       "Reduction type: bad additive\n",
       "Local minimal model: Elliptic Curve defined by y^2 = x^3 - 120*x + 448 over Rational Field\n",
       "Minimal discriminant valuation: 15\n",
       "Conductor exponent: 8\n",
       "Kodaira Symbol: III*\n",
       "Tamagawa Number: 2"
      ]
     },
     "execution_count": 19,
     "metadata": {},
     "output_type": "execute_result"
    }
   ],
   "source": [
    "E.local_data(2)"
   ]
  },
  {
   "cell_type": "code",
   "execution_count": null,
   "metadata": {},
   "outputs": [],
   "source": []
  }
 ],
 "metadata": {
  "kernelspec": {
   "display_name": "SageMath 8.2",
   "language": "",
   "name": "sagemath"
  },
  "language_info": {
   "codemirror_mode": {
    "name": "ipython",
    "version": 2
   },
   "file_extension": ".py",
   "mimetype": "text/x-python",
   "name": "python",
   "nbconvert_exporter": "python",
   "pygments_lexer": "ipython2",
   "version": "2.7.14"
  }
 },
 "nbformat": 4,
 "nbformat_minor": 2
}
