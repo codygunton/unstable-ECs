{
 "cells": [
  {
   "cell_type": "code",
   "execution_count": 4,
   "metadata": {},
   "outputs": [],
   "source": [
    "import time"
   ]
  },
  {
   "cell_type": "code",
   "execution_count": 5,
   "metadata": {},
   "outputs": [
    {
     "data": {
      "text/plain": [
       "Cremona's database of elliptic curves with conductor at most 399998"
      ]
     },
     "execution_count": 5,
     "metadata": {},
     "output_type": "execute_result"
    }
   ],
   "source": [
    "DB = CremonaDatabase(); DB"
   ]
  },
  {
   "cell_type": "code",
   "execution_count": 3,
   "metadata": {},
   "outputs": [
    {
     "ename": "NameError",
     "evalue": "name 'time' is not defined",
     "output_type": "error",
     "traceback": [
      "\u001b[0;31m---------------------------------------------------------------------------\u001b[0m",
      "\u001b[0;31mNameError\u001b[0m                                 Traceback (most recent call last)",
      "\u001b[0;32m<ipython-input-3-ca6202a1fb0a>\u001b[0m in \u001b[0;36m<module>\u001b[0;34m()\u001b[0m\n\u001b[0;32m----> 1\u001b[0;31m \u001b[0mt0\u001b[0m \u001b[0;34m=\u001b[0m \u001b[0mtime\u001b[0m\u001b[0;34m.\u001b[0m\u001b[0mtime\u001b[0m\u001b[0;34m(\u001b[0m\u001b[0;34m)\u001b[0m\u001b[0;34m\u001b[0m\u001b[0m\n\u001b[0m\u001b[1;32m      2\u001b[0m \u001b[0mp\u001b[0m \u001b[0;34m=\u001b[0m \u001b[0mInteger\u001b[0m\u001b[0;34m(\u001b[0m\u001b[0;36m2\u001b[0m\u001b[0;34m)\u001b[0m\u001b[0;34m\u001b[0m\u001b[0m\n\u001b[1;32m      3\u001b[0m \u001b[0mlabels\u001b[0m \u001b[0;34m=\u001b[0m \u001b[0;34m[\u001b[0m\u001b[0;34m]\u001b[0m\u001b[0;34m\u001b[0m\u001b[0m\n\u001b[1;32m      4\u001b[0m \u001b[0;32mfor\u001b[0m \u001b[0mi\u001b[0m \u001b[0;32min\u001b[0m \u001b[0mrange\u001b[0m\u001b[0;34m(\u001b[0m\u001b[0mInteger\u001b[0m\u001b[0;34m(\u001b[0m\u001b[0;36m50000\u001b[0m\u001b[0;34m)\u001b[0m\u001b[0;34m,\u001b[0m \u001b[0mInteger\u001b[0m\u001b[0;34m(\u001b[0m\u001b[0;36m51000\u001b[0m\u001b[0;34m)\u001b[0m\u001b[0;34m)\u001b[0m\u001b[0;34m:\u001b[0m\u001b[0;34m\u001b[0m\u001b[0m\n\u001b[1;32m      5\u001b[0m     \u001b[0mN\u001b[0m \u001b[0;34m=\u001b[0m \u001b[0mp\u001b[0m\u001b[0;34m*\u001b[0m\u001b[0mi\u001b[0m\u001b[0;34m\u001b[0m\u001b[0m\n",
      "\u001b[0;31mNameError\u001b[0m: name 'time' is not defined"
     ]
    }
   ],
   "source": [
    "t0 = time.time()\n",
    "p = 2\n",
    "labels = []\n",
    "for i in range(5000, 6000):\n",
    "    N = p*i\n",
    "    D = DB.allcurves(N)\n",
    "    for e in D:\n",
    "        labels += ['{}{}'.format(N,e)]\n",
    "        \n",
    "# need to impose bad additive reduction and j valuation >= 0\n",
    "print len(labels)\n",
    "new_labels = []\n",
    "for label in labels:\n",
    "    E = EllipticCurve(label)\n",
    "    if valuation(E.j_invariant(),p) >= 0 and E.has_additive_reduction(p):\n",
    "        # has_additive_reduction might just run Tate's alg. if so, save results\n",
    "        new_labels += [label]\n",
    "labels = new_labels\n",
    "t1 = time.time()\n",
    "\n",
    "print len(labels)\n",
    "print(\"Time: {}\".format(t1-t0))"
   ]
  },
  {
   "cell_type": "code",
   "execution_count": 5,
   "metadata": {},
   "outputs": [
    {
     "name": "stdout",
     "output_type": "stream",
     "text": [
      "4 divides (v(c_4)|Φ|)\n"
     ]
    }
   ],
   "source": [
    "# coarse kraus for over Q2\n",
    "E = EllipticCurve('24a3')\n",
    "disc_val = valuation(E.discriminant(), 2)\n",
    "c4_val  = valuation(E.c4(), 2)\n",
    "if E.kodaira_type(2) in [KodairaSymbol('IV'), KodairaSymbol('IV*')]:\n",
    "    print '|Φ| = 3'\n",
    "elif disc_val == 3*c4_val:\n",
    "    print '|Φ| = 2'\n",
    "elif disc_val < 3*c4_val < 12 + disc_val:\n",
    "    print '4 divides (v(c_4)|Φ|)'\n",
    "elif 3*c4_val >= 12 + disc_val:\n",
    "    if disc_val % 3 == 0:\n",
    "        print '|Φ| = 2'\n",
    "    else:\n",
    "        print '|Φ| = 6'\n",
    "else:\n",
    "    print \"terminated without an answer\""
   ]
  },
  {
   "cell_type": "code",
   "execution_count": 6,
   "metadata": {},
   "outputs": [],
   "source": [
    "# kraus decision tree for Q2 (just coding a table)\n",
    "# to determine group order (hence group, in this case) just need:\n",
    "# c invariants, their 2-prime parts, their valuations, their reductions mod 4\n",
    "# discriminant, its 2-prime part, its valuation, and its reduction mod 4\n",
    "def KrausTableQ2(E):\n",
    "    (c4, c6) = E.c_invariants()\n",
    "    D  = E.discriminant()\n",
    "\n",
    "    c4u = c4.prime_to_S_part([2])\n",
    "    c6u = c6.prime_to_S_part([2])\n",
    "    Du = D.prime_to_S_part([2])\n",
    "\n",
    "    vD = valuation(D, 2)\n",
    "    vc4 = valuation(c4, 2)\n",
    "    vc6 = valuation(c6, 2)\n",
    "\n",
    "    c4ured = c4u % 4\n",
    "    c6ured = c6u % 4\n",
    "    Dured = Du % 4\n",
    "    \n",
    "    if vD < 4 or vD == 5 or vD > 18:\n",
    "        print(\"Error: invalid discriminant valuation\")\n",
    "\n",
    "    if vD == 4:\n",
    "        if vc4 == 4:\n",
    "            if c4ured == 3:\n",
    "                if c6ured == 1:\n",
    "                    return 3\n",
    "                else:\n",
    "                    return 6\n",
    "            else:\n",
    "                return 24\n",
    "        if vc4 == 5:\n",
    "            return 24\n",
    "        else:\n",
    "            if c6ured == 1:\n",
    "                return 3\n",
    "            else:\n",
    "                return 6\n",
    "\n",
    "    elif vD == 6:\n",
    "        if vc4 == 4:\n",
    "            return 8 \n",
    "        elif vc4 == 5:\n",
    "            return 8\n",
    "        else:\n",
    "            return 2\n",
    "\n",
    "    elif vD == 7:\n",
    "        if vc4 == 4:\n",
    "            return 24\n",
    "        else:\n",
    "            print \"This shouldn't happen.\"\n",
    "    \n",
    "    elif vD == 8:\n",
    "        if vc4 == 4:\n",
    "            if Dured == 3:\n",
    "                if c6ured == 1:\n",
    "                    return 6\n",
    "                else:\n",
    "                    return 3\n",
    "            else:\n",
    "                return 24\n",
    "        elif vc4 == 5:\n",
    "            return 24\n",
    "        elif vc4 == 6:\n",
    "            return 24\n",
    "        else:\n",
    "            if c6ured == 1:\n",
    "                return 3\n",
    "            else:\n",
    "                return 6\n",
    "    \n",
    "    elif vD == 9:\n",
    "        if vc4 == 4:\n",
    "            return 8\n",
    "        elif vc4 == 5:\n",
    "            if vc6 == 8:\n",
    "                return 4\n",
    "            if vc6 > 8:\n",
    "                return 8\n",
    "            else:\n",
    "                print \"This shouldn't happen.\"\n",
    "        else:\n",
    "            print \"This shouldn't happen.\"\n",
    "    \n",
    "    elif vD == 10:\n",
    "        if vc4 == 4:\n",
    "            return 24\n",
    "        elif vc4 == 5:\n",
    "            print \"This shouldn't happen.\"\n",
    "        elif vc4 == 6:\n",
    "            if c4ured == 3:\n",
    "                return 6\n",
    "            else:\n",
    "                return 24\n",
    "        elif vc4 == 7:\n",
    "            return 24\n",
    "        else:\n",
    "            return 6\n",
    "    elif vD == 11:\n",
    "        if vc4 == 4:\n",
    "            return 24\n",
    "        else:\n",
    "            print \"This shouldn't happen.\"\n",
    "    elif vD == 12:\n",
    "        if vc4 == 4:\n",
    "            return 2\n",
    "        elif vc4 == 6:\n",
    "            return 8\n",
    "        elif vc4 == 7:\n",
    "            return 8\n",
    "        elif vc4 == 8:\n",
    "            return 2\n",
    "        else:\n",
    "            return 2      \n",
    "\n",
    "    elif vD == 13:\n",
    "        if vc4 == 6:\n",
    "            return 24\n",
    "        else:\n",
    "            print \"This shouldn't happen.\"\n",
    "\n",
    "    elif vD == 14:\n",
    "        if vc4 == 6:\n",
    "            if Dured == 3:\n",
    "                return 6\n",
    "            else:\n",
    "                return 24\n",
    "        elif vc4 == 7:\n",
    "            return 24\n",
    "        elif vc4 == 8:\n",
    "            return 24\n",
    "        elif vc4 > 8:\n",
    "            return 6\n",
    "        else:\n",
    "            print \"This shouldn't happen.\"\n",
    "\n",
    "    elif vD == 15:\n",
    "        if vc4 == 6:\n",
    "            return 8\n",
    "        else:\n",
    "            if vc6 == 11:\n",
    "                return 4\n",
    "            else:\n",
    "                return 8\n",
    "            \n",
    "    elif vD == 16:\n",
    "        if vc4 == 6:\n",
    "            return 24\n",
    "        else:\n",
    "            print \"This shouldn't happen.\"\n",
    "\n",
    "    elif vD == 17:\n",
    "        if vc4 == 6:\n",
    "            return 24\n",
    "        else:\n",
    "            print \"This shouldn't happen.\"\n",
    "\n",
    "    else:\n",
    "        if vc4 == 6:\n",
    "            return 2\n",
    "        else:\n",
    "            print \"This shouldn't happen.\"    "
   ]
  },
  {
   "cell_type": "code",
   "execution_count": 7,
   "metadata": {},
   "outputs": [],
   "source": [
    "# # for testing KrausTableQ2\n",
    "# S = []\n",
    "# for label in labels:\n",
    "#     E = EllipticCurve(label)\n",
    "#     vD = valuation(E.discriminant(),2)\n",
    "#     S += [label]\n",
    "# #     if vD == 12:\n",
    "# #         S += [label]\n",
    "# for label in S:\n",
    "#     E = EllipticCurve(label)\n",
    "#     KrausTableQ2(E)"
   ]
  },
  {
   "cell_type": "code",
   "execution_count": 8,
   "metadata": {},
   "outputs": [],
   "source": [
    "########## first investivation ############"
   ]
  },
  {
   "cell_type": "code",
   "execution_count": 9,
   "metadata": {},
   "outputs": [],
   "source": [
    "monodromy_types = [2, 3, 4, 6, 8, 24]"
   ]
  },
  {
   "cell_type": "code",
   "execution_count": 10,
   "metadata": {},
   "outputs": [],
   "source": [
    "# generate a bunch of elliptic curves with Q8 monodromy and compute kodaira types\n",
    "labels_grouped = []\n",
    "for label in labels:\n",
    "    E = EllipticCurve(label)\n",
    "    labels_grouped.append((KrausTableQ2(E), label))"
   ]
  },
  {
   "cell_type": "code",
   "execution_count": 611,
   "metadata": {},
   "outputs": [],
   "source": [
    "monodromy_dict = dict.fromkeys(monodromy_types, [])\n",
    "for pair in labels_grouped:\n",
    "    monodromy_dict[pair[0]] += [pair[1]]"
   ]
  },
  {
   "cell_type": "code",
   "execution_count": 614,
   "metadata": {},
   "outputs": [
    {
     "name": "stdout",
     "output_type": "stream",
     "text": [
      "20a2\n"
     ]
    }
   ],
   "source": [
    "# testing: find a curve with type IV\n",
    "k_types_seen = []\n",
    "for label in monodromy_dict[8]:\n",
    "    E = EllipticCurve(label)\n",
    "    k_type_E = str(E.kodaira_symbol(2))\n",
    "    if k_type_E == \"IV\":\n",
    "        print label\n",
    "        break"
   ]
  },
  {
   "cell_type": "code",
   "execution_count": 597,
   "metadata": {},
   "outputs": [
    {
     "data": {
      "text/plain": [
       "1"
      ]
     },
     "execution_count": 597,
     "metadata": {},
     "output_type": "execute_result"
    }
   ],
   "source": [
    "E = EllipticCurve('20a2')\n",
    "# this is supposed to have kodaira type IV but Q8 monodromy\n",
    "# this is bad because Q8 does not admit C_3 as a quotient or a sub\n",
    "\n",
    "E.local_data(2)\n",
    "# right, so type is IV\n",
    "# now I should check the monodromy extension by hand\n",
    "\n",
    "(c4, c6) = E.c_invariants()\n",
    "D  = E.discriminant()\n",
    "c4u = c4.prime_to_S_part([2])\n",
    "c6u = c6.prime_to_S_part([2])\n",
    "Du = D.prime_to_S_part([2])\n",
    "vD = valuation(D, 2)\n",
    "vc4 = valuation(c4, 2)\n",
    "vc6 = valuation(c6, 2)\n",
    "c4ured = c4u % 4\n",
    "c6ured = c6u % 4\n",
    "Dured = Du % 4\n",
    "\n",
    "valuation(E.j_invariant(), 2)\n",
    "# valuation of j is 14 and red is bad additive so Kraus applies\n",
    "vD\n",
    "# valuation of discriminant is 4\n",
    "vc4\n",
    "# valuation of c_4 is 6, so I need to check c'_6 mod 4\n",
    "c6ured\n",
    "# valuation of c'_6 is 1, so monodromy group has size 3.\n",
    "# so my coding sucks but the dream is alive!\n",
    "# KrausTableQ2 gets this right, but it's grouped incorrectly"
   ]
  },
  {
   "cell_type": "code",
   "execution_count": 11,
   "metadata": {},
   "outputs": [],
   "source": [
    "########### second attempt ############"
   ]
  },
  {
   "cell_type": "code",
   "execution_count": 12,
   "metadata": {},
   "outputs": [
    {
     "name": "stdout",
     "output_type": "stream",
     "text": [
      "Time: 9.82452583313\n"
     ]
    }
   ],
   "source": [
    "# compute monodromy types of all labels\n",
    "# group in a dictionary where keys are the monodromy types\n",
    "# a monodromy type is a number 2, 3, 4, 6, 8, 24, the order of the monodromy group\n",
    "# if 2, 3, 4, or 6, the group is cyclic\n",
    "# if 8, the group is Q8\n",
    "# if 24, the group is SL_2(F_3)\n",
    "\n",
    "t0 = time.time()\n",
    "m_types = [2, 3, 4, 6, 8, 24]\n",
    "m_dict = dict.fromkeys(m_types, [])\n",
    "\n",
    "# group labels by monodromy type\n",
    "for label in labels:\n",
    "    E = EllipticCurve(label)\n",
    "    m_type = KrausTableQ2(E)\n",
    "    m_dict[m_type] = m_dict[m_type] + [label]\n",
    "    \n",
    "t1 = time.time()\n",
    "print(\"Time: {}\".format(t1-t0))"
   ]
  },
  {
   "cell_type": "code",
   "execution_count": 13,
   "metadata": {},
   "outputs": [
    {
     "name": "stdout",
     "output_type": "stream",
     "text": [
      "Time: 12.9623780251\n"
     ]
    }
   ],
   "source": [
    "# for each curve,  compute the kodaira type\n",
    "# output: a dictonary with keys the monodromy types and entries the kodaira types\n",
    "#         another dictionary with the same keys and entries (kodaira type, label)\n",
    "t0 = time.time()\n",
    "grouped_k_types = dict.fromkeys(m_types, [])\n",
    "m_k_egs = dict.fromkeys(m_types, [])\n",
    "for m_type in m_types:\n",
    "    for label in m_dict[m_type]:\n",
    "        E = EllipticCurve(label)\n",
    "        k_type = E.kodaira_type(p)\n",
    "        if k_type not in grouped_k_types[m_type]:\n",
    "            grouped_k_types[m_type] = grouped_k_types[m_type] + [k_type]\n",
    "            m_k_egs[m_type] = m_k_egs[m_type] + [(k_type, label)]\n",
    "t1 = time.time()\n",
    "print(\"Time: {}\".format(t1-t0))"
   ]
  },
  {
   "cell_type": "code",
   "execution_count": 14,
   "metadata": {},
   "outputs": [
    {
     "data": {
      "text/plain": [
       "{2: [II*, I4*, II, I8*],\n",
       " 3: [IV*, IV],\n",
       " 4: [III, III*],\n",
       " 6: [II, I0*, I4*, II*],\n",
       " 8: [I3*, I0*, III, I2*, I5*, II, III*],\n",
       " 24: [I1*, III*, II*, III, I0*, I2*, I3*, II, I7*, I6*, I4*]}"
      ]
     },
     "execution_count": 14,
     "metadata": {},
     "output_type": "execute_result"
    }
   ],
   "source": [
    "grouped_k_types"
   ]
  },
  {
   "cell_type": "code",
   "execution_count": 15,
   "metadata": {},
   "outputs": [],
   "source": [
    "def k_type_to_cpt_group(symbol):\n",
    "    if symbol in [KodairaSymbol('II'), KodairaSymbol('II*')]:\n",
    "        return \"0\"\n",
    "    elif symbol in [KodairaSymbol('III'), KodairaSymbol('III*')]:\n",
    "        return \"Z/2\"\n",
    "    elif symbol in [KodairaSymbol('IV'), KodairaSymbol('IV*')]:\n",
    "        return \"Z/3\"\n",
    "    elif str(symbol)[-1] == '*':\n",
    "        if int(str(symbol)[1:-1]) % 2 == 0:\n",
    "            return \"Z/2 x Z/2\"\n",
    "        else:\n",
    "            return \"Z/4\"\n",
    "    else:\n",
    "        print \"Invalid reduction type\"\n",
    "    "
   ]
  },
  {
   "cell_type": "code",
   "execution_count": 16,
   "metadata": {},
   "outputs": [
    {
     "name": "stdout",
     "output_type": "stream",
     "text": [
      "(2, ['0', 'Z/2 x Z/2'])\n",
      "(3, ['Z/3'])\n",
      "(4, ['Z/2'])\n",
      "(6, ['0', 'Z/2 x Z/2'])\n",
      "(8, ['Z/2 x Z/2', 'Z/2', 'Z/4', '0'])\n",
      "(24, ['0', 'Z/2', 'Z/4', 'Z/2 x Z/2'])\n"
     ]
    }
   ],
   "source": [
    "for m_type in grouped_k_types.keys():\n",
    "    cpt_gps = map(lambda t: k_type_to_cpt_group(t), grouped_k_types[m_type])\n",
    "    cpt_gps = list(set(cpt_gps))\n",
    "    print(m_type, cpt_gps)"
   ]
  },
  {
   "cell_type": "code",
   "execution_count": 17,
   "metadata": {},
   "outputs": [
    {
     "data": {
      "text/plain": [
       "{2: [(II*, '176b1'), (I4*, '240d8'), (II, '704k3'), (I8*, '960i8')],\n",
       " 3: [(IV*, '20a1'), (IV, '20a2')],\n",
       " 4: [(III, '256a1'), (III*, '256a2')],\n",
       " 6: [(II, '80b4'), (I0*, '80b3'), (I4*, '320f2'), (II*, '704f1')],\n",
       " 8: [(I3*, '32a1'),\n",
       "  (I0*, '32a3'),\n",
       "  (III, '32a2'),\n",
       "  (I2*, '64a1'),\n",
       "  (I5*, '64a3'),\n",
       "  (II, '64a4'),\n",
       "  (III*, '256b2')],\n",
       " 24: [(I1*, '24a1'),\n",
       "  (III*, '24a3'),\n",
       "  (II*, '24a5'),\n",
       "  (III, '24a4'),\n",
       "  (I0*, '48a1'),\n",
       "  (I2*, '48a3'),\n",
       "  (I3*, '48a5'),\n",
       "  (II, '48a4'),\n",
       "  (I7*, '192d5'),\n",
       "  (I6*, '192d4'),\n",
       "  (I4*, '192c2')]}"
      ]
     },
     "execution_count": 17,
     "metadata": {},
     "output_type": "execute_result"
    }
   ],
   "source": [
    "m_k_egs"
   ]
  },
  {
   "cell_type": "code",
   "execution_count": 761,
   "metadata": {},
   "outputs": [],
   "source": [
    "# remarks:\n",
    "# McCallum proves exponent of inertial monodromy kills component group\n",
    "# exponents: 2, 3, 4, 6, 8, 24 |-> 2, 3, 4, 6, 4, 12\n",
    "#\n",
    "# for C_2, the possible component group are: 0, C_2, C_2 x C_2,\n",
    "#        but we don't see C_2\n",
    "# note: in this case, monodromy group smaller than component group\n",
    "# note: I think Dokchitser paper shows this is the only situation where potentially ordinary\n",
    "#       reduction is possible.\n",
    "#\n",
    "# for C_3, possibilities are 0 and C_3, \n",
    "#        but we don't see 0\n",
    "#\n",
    "# for C_4, possibilities are 0, C_2, C_4, C_2 x C_2,\n",
    "#        but we ONLY see one of these, C_2\n",
    "#\n",
    "# for C_6, possibilities are 0, C_2, C_3, C_2 x C_2,\n",
    "#        but we don't see C_2 or C_3\n",
    "# note: C_2 x C_2 is not a subquotient of C_6\n",
    "# note: Dokchitsers show this is potentially supersingular\n",
    "#\n",
    "# for Q8, the possiblities are 0, C_2, C_4, C_2 x C_2, and we see all of these\n",
    "# \n",
    "# for SL_2(F_3), the possiblities are 0, C_2, C_4, C_2 x C_2, and wee see all of these"
   ]
  },
  {
   "cell_type": "code",
   "execution_count": 877,
   "metadata": {},
   "outputs": [
    {
     "data": {
      "text/plain": [
       "['320f2', '320f4', '320c2', '320c4', '576e2']"
      ]
     },
     "execution_count": 877,
     "metadata": {},
     "output_type": "execute_result"
    }
   ],
   "source": [
    "# check by hand that there is a curve with reduction I4star and monodromy group C6\n",
    "# find an example\n",
    "# deprecated: I log one example for each curve now\n",
    "I4star_C6_labels = []\n",
    "for label in m_dict[6]:\n",
    "    E = EllipticCurve(label)\n",
    "    if E.kodaira_symbol(p) == KodairaSymbol('I4*'):\n",
    "        I4star_C6_labels += [label]\n",
    "I4star_C6_labels[:5]"
   ]
  },
  {
   "cell_type": "code",
   "execution_count": 858,
   "metadata": {},
   "outputs": [
    {
     "data": {
      "text/plain": [
       "Elliptic Curve defined by y^2 = x^3 + x^2 + 15*x - 17 over Rational Field"
      ]
     },
     "execution_count": 858,
     "metadata": {},
     "output_type": "execute_result"
    }
   ],
   "source": [
    "# choose one of thes\n",
    "E = EllipticCurve('320f2'); E"
   ]
  },
  {
   "cell_type": "code",
   "execution_count": 859,
   "metadata": {},
   "outputs": [
    {
     "data": {
      "text/plain": [
       "3"
      ]
     },
     "execution_count": 859,
     "metadata": {},
     "output_type": "execute_result"
    }
   ],
   "source": [
    "E.local_data(2) # check: types is I4*\n",
    "\n",
    "(c4, c6) = E.c_invariants()\n",
    "D  = E.discriminant()\n",
    "c4u = c4.prime_to_S_part([2])\n",
    "c6u = c6.prime_to_S_part([2])\n",
    "Du = D.prime_to_S_part([2])\n",
    "vD = valuation(D, 2)\n",
    "vc4 = valuation(c4, 2)\n",
    "vc6 = valuation(c6, 2)\n",
    "c4ured = c4u % 4\n",
    "c6ured = c6u % 4\n",
    "Dured = Du % 4\n",
    "\n",
    "valuation(E.j_invariant(), 2) \n",
    "# check: j value has 2-adic valuation 4 >= 0\n",
    "vD\n",
    "# valuation of discriminant is 14\n",
    "vc4\n",
    "# valuation of c_4 is 6, so I need to check Delta' mod 4\n",
    "Dured\n",
    "# Delta' is 3 mod 4, so monodromy group is C_6"
   ]
  },
  {
   "cell_type": "code",
   "execution_count": 869,
   "metadata": {},
   "outputs": [],
   "source": [
    "rho = E.galois_representation()\n",
    "rho.image_type(2)\n",
    "E.galois_representation?"
   ]
  },
  {
   "cell_type": "code",
   "execution_count": 871,
   "metadata": {},
   "outputs": [
    {
     "data": {
      "text/plain": [
       "False"
      ]
     },
     "execution_count": 871,
     "metadata": {},
     "output_type": "execute_result"
    }
   ],
   "source": [
    "E.is_ordinary(2)"
   ]
  },
  {
   "cell_type": "code",
   "execution_count": 878,
   "metadata": {},
   "outputs": [],
   "source": [
    "########### playing with some examples ###########"
   ]
  },
  {
   "cell_type": "code",
   "execution_count": 18,
   "metadata": {},
   "outputs": [
    {
     "name": "stdout",
     "output_type": "stream",
     "text": [
      "2 [(II*, '176b1'), (I4*, '240d8'), (II, '704k3'), (I8*, '960i8')]\n",
      "3 [(IV*, '20a1'), (IV, '20a2')]\n",
      "4 [(III, '256a1'), (III*, '256a2')]\n",
      "6 [(II, '80b4'), (I0*, '80b3'), (I4*, '320f2'), (II*, '704f1')]\n",
      "8 [(I3*, '32a1'), (I0*, '32a3'), (III, '32a2'), (I2*, '64a1'), (I5*, '64a3'), (II, '64a4'), (III*, '256b2')]\n",
      "24 [(I1*, '24a1'), (III*, '24a3'), (II*, '24a5'), (III, '24a4'), (I0*, '48a1'), (I2*, '48a3'), (I3*, '48a5'), (II, '48a4'), (I7*, '192d5'), (I6*, '192d4'), (I4*, '192c2')]\n"
     ]
    }
   ],
   "source": [
    "for t in m_k_egs:\n",
    "    print t, m_k_egs[t]"
   ]
  },
  {
   "cell_type": "code",
   "execution_count": 32,
   "metadata": {},
   "outputs": [
    {
     "name": "stdout",
     "output_type": "stream",
     "text": [
      "Label: 176b1, Kodaira type: II*\n",
      "Good reduction over Q2 adjoin sqrt of -1\n",
      "Good reduction over Q2 adjoin sqrt of 3\n",
      "\n",
      "Label: 240d8, Kodaira type: I4*\n",
      "Good reduction over Q2 adjoin sqrt of -1\n",
      "Good reduction over Q2 adjoin sqrt of 3\n",
      "\n",
      "Label: 704k3, Kodaira type: II\n",
      "Good reduction over Q2 adjoin sqrt of -2\n",
      "Good reduction over Q2 adjoin sqrt of 6\n",
      "\n",
      "Label: 960i8, Kodaira type: I8*\n",
      "Good reduction over Q2 adjoin sqrt of -2\n",
      "Good reduction over Q2 adjoin sqrt of 6\n",
      "\n"
     ]
    }
   ],
   "source": [
    "for (ktype, label) in m_k_egs[2]:\n",
    "    print(\"Label: {}, Kodaira type: {}\".format(label, ktype))\n",
    "    E = EllipticCurve(label)\n",
    "    for d in [-1, -2, 3, 6, -3, -6, 2]:\n",
    "        K.<a> = NumberField(x^2-d)\n",
    "        EK = E.base_extend(K)\n",
    "        pp = K.prime_above(2)\n",
    "        if EK.has_good_reduction(pp):\n",
    "            print(\"Good reduction over Q2 adjoin sqrt of {}\".format(d)) \n",
    "    print"
   ]
  },
  {
   "cell_type": "code",
   "execution_count": 982,
   "metadata": {},
   "outputs": [],
   "source": [
    "############ try Q8 example ##############"
   ]
  },
  {
   "cell_type": "code",
   "execution_count": 1016,
   "metadata": {},
   "outputs": [
    {
     "name": "stdout",
     "output_type": "stream",
     "text": [
      "True\n"
     ]
    }
   ],
   "source": [
    "f(x) = x^8 - 72*x^6 + 180*x^4 - 144*x^2 + 36; f\n",
    "F.<a> = NumberField(f); F\n",
    "G = F.galois_group(); G\n",
    "pp = F.prime_above(2); \n",
    "G2 = G.decomposition_group(pp)\n",
    "H = QuaternionGroup() \n",
    "print G2.is_isomorphic(H)"
   ]
  },
  {
   "cell_type": "code",
   "execution_count": 1017,
   "metadata": {},
   "outputs": [
    {
     "data": {
      "text/plain": [
       "Local data at Fractional ideal (2, -1/48*a^7 + 17/12*a^5 + 17/8*a^3 - 7/2*a + 1):\n",
       "Reduction type: bad additive\n",
       "Local minimal model: Elliptic Curve defined by y^2 + (-3/8*a^7+5/24*a^6+641/24*a^5-59/4*a^4-187/4*a^3+79/4*a^2+79/4*a-7/2)*x*y + (-1/3*a^7-1/6*a^6+191/8*a^5+287/24*a^4-51*a^3-27*a^2+103/4*a+57/4)*y = x^3 + (17/48*a^7+1/24*a^6-607/24*a^5-23/8*a^4+391/8*a^3-5/4*a^2-89/4*a+5/4)*x^2 + (-196526980439434211/24*a^7-69446044139155675/12*a^6+14050842341621224993/24*a^5+9930395360997536039/24*a^4-4714942350467599317/4*a^3-1667294071479135567/2*a^2+2339614203566200403/4*a+1656301670482515941/4)*x + (-124031927880385215/16*a^7-22000355722555773/4*a^6+4433914384012441889/8*a^5+1572946639350029673/4*a^4-8929684704131705171/8*a^3-1583978407796265877/2*a^2+2216409200867391457/4*a+786351063793724633/2) over Number Field in a with defining polynomial x^8 - 72*x^6 + 180*x^4 - 144*x^2 + 36\n",
       "Minimal discriminant valuation: 12\n",
       "Conductor exponent: 6\n",
       "Kodaira Symbol: I2*\n",
       "Tamagawa Number: 4"
      ]
     },
     "execution_count": 1017,
     "metadata": {},
     "output_type": "execute_result"
    }
   ],
   "source": [
    "E = EllipticCurve('32a1');\n",
    "EF = E.base_extend(F)\n",
    "EF.local_data(pp)"
   ]
  },
  {
   "cell_type": "code",
   "execution_count": 19,
   "metadata": {},
   "outputs": [],
   "source": [
    "# the one quaternionic extension i found by googling did not do the trick 🤷\n",
    "# but i should be able to construct more because Q8 in Ext(C_2, C_4) and Ext(C_2^2, C_2)"
   ]
  },
  {
   "cell_type": "code",
   "execution_count": 30,
   "metadata": {},
   "outputs": [],
   "source": []
  },
  {
   "cell_type": "code",
   "execution_count": 100,
   "metadata": {},
   "outputs": [
    {
     "name": "stdout",
     "output_type": "stream",
     "text": [
      "Label: 80b4, Kodaira type: II\n",
      "Good reduction over Q_2(3) adjoin sqrt of -1\n",
      "Good reduction over Q_2(3) adjoin sqrt of 3\n",
      "\n",
      "Label: 80b3, Kodaira type: I0*\n",
      "Good reduction over Q_2(3) adjoin sqrt of -1\n",
      "Good reduction over Q_2(3) adjoin sqrt of 3\n",
      "\n",
      "Label: 320f2, Kodaira type: I4*\n",
      "Good reduction over Q_2(3) adjoin sqrt of -2\n",
      "Good reduction over Q_2(3) adjoin sqrt of 6\n",
      "\n",
      "Label: 704f1, Kodaira type: II*\n",
      "Good reduction over Q_2(3) adjoin sqrt of -2\n",
      "Good reduction over Q_2(3) adjoin sqrt of 6\n",
      "\n"
     ]
    }
   ],
   "source": [
    "# C6 examples\n",
    "K3.<a> = NumberField(x^3-2)\n",
    "for (ktype, label) in m_k_egs[6]:\n",
    "    print(\"Label: {}, Kodaira type: {}\".format(label, ktype))\n",
    "    E = EllipticCurve(label)\n",
    "    for d in [-1, -2, 3, 6, -3, -6, 2]:\n",
    "        K.<b> = K3.extension(x^2-d)\n",
    "        EK = E.base_extend(K)\n",
    "        pp = K.prime_above(2)\n",
    "        if EK.has_good_reduction(pp):\n",
    "            print(\"Good reduction over Q_2(3) adjoin sqrt of {}\".format(d)) \n",
    "    print"
   ]
  },
  {
   "cell_type": "code",
   "execution_count": 132,
   "metadata": {},
   "outputs": [
    {
     "name": "stdout",
     "output_type": "stream",
     "text": [
      "False\n",
      "The image is cyclic of order 2 as there is exactly one rational 2-torsion point.\n",
      "[1.000, 0.0000]\n",
      "True\n"
     ]
    }
   ],
   "source": [
    "# next step: properties of representation on 320f2 on intermediate extensions\n",
    "# can compute things over Q2\n",
    "E = EllipticCurve('320f2')\n",
    "rho = E.galois_representation()\n",
    "print(rho.is_irreducible(2))\n",
    "print(rho.image_type(2))\n",
    "print(rho.image_classes(2))\n",
    "print(rho.is_unipotent(2, 3))"
   ]
  },
  {
   "cell_type": "code",
   "execution_count": 182,
   "metadata": {},
   "outputs": [],
   "source": [
    "K3.<a> = NumberField(x^3-2)\n",
    "K.<b> = K3.extension(x^2+2)\n",
    "EK = E.base_extend(K)\n",
    "rhoK = EK.galois_representation()\n",
    "pp = K.prime_above(2)"
   ]
  },
  {
   "cell_type": "code",
   "execution_count": 172,
   "metadata": {},
   "outputs": [
    {
     "data": {
      "text/plain": [
       "[(0 : 1 : 0), (1 : 0 : 1)]"
      ]
     },
     "execution_count": 172,
     "metadata": {},
     "output_type": "execute_result"
    }
   ],
   "source": [
    "E.torsion_points()"
   ]
  },
  {
   "cell_type": "code",
   "execution_count": 173,
   "metadata": {},
   "outputs": [
    {
     "name": "stdout",
     "output_type": "stream",
     "text": [
      "[(0 : 1 : 0), (-9 : -20*b : 1), (-1 : -4*b : 1), (1 : 0 : 1), (-1 : 4*b : 1), (-9 : 20*b : 1)]\n",
      "[1, 6, 3, 2, 3, 6]\n"
     ]
    }
   ],
   "source": [
    "print(EK.torsion_points())\n",
    "print([P.order() for P in EK.torsion_points()])"
   ]
  }
 ],
 "metadata": {
  "kernelspec": {
   "display_name": "SageMath 8.2",
   "language": "",
   "name": "sagemath"
  },
  "language_info": {
   "codemirror_mode": {
    "name": "ipython",
    "version": 2
   },
   "file_extension": ".py",
   "mimetype": "text/x-python",
   "name": "python",
   "nbconvert_exporter": "python",
   "pygments_lexer": "ipython2",
   "version": "2.7.14"
  }
 },
 "nbformat": 4,
 "nbformat_minor": 2
}
